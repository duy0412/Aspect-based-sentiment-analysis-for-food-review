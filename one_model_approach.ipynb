{
 "cells": [
  {
   "cell_type": "code",
   "execution_count": 25,
   "metadata": {
    "_cell_guid": "b1076dfc-b9ad-4769-8c92-a6c4dae69d19",
    "_uuid": "8f2839f25d086af736a60e9eeb907d3b93b6e0e5",
    "execution": {
     "iopub.execute_input": "2025-03-27T01:27:49.687646Z",
     "iopub.status.busy": "2025-03-27T01:27:49.687339Z",
     "iopub.status.idle": "2025-03-27T01:27:53.228704Z",
     "shell.execute_reply": "2025-03-27T01:27:53.227429Z",
     "shell.execute_reply.started": "2025-03-27T01:27:49.687623Z"
    },
    "trusted": true
   },
   "outputs": [],
   "source": [
    "!pip install -q datasets torch transformers\n"
   ]
  },
  {
   "cell_type": "code",
   "execution_count": 26,
   "metadata": {
    "execution": {
     "iopub.execute_input": "2025-03-27T01:27:53.230604Z",
     "iopub.status.busy": "2025-03-27T01:27:53.230248Z",
     "iopub.status.idle": "2025-03-27T01:27:53.235188Z",
     "shell.execute_reply": "2025-03-27T01:27:53.234344Z",
     "shell.execute_reply.started": "2025-03-27T01:27:53.230568Z"
    },
    "trusted": true
   },
   "outputs": [],
   "source": [
    "import pandas as pd\n",
    "import numpy as np\n",
    "import matplotlib.pyplot as plt\n",
    "import seaborn as sns\n",
    "import torch\n",
    "from transformers import AutoTokenizer, AutoModel"
   ]
  },
  {
   "cell_type": "code",
   "execution_count": 27,
   "metadata": {
    "execution": {
     "iopub.execute_input": "2025-03-27T01:27:53.237274Z",
     "iopub.status.busy": "2025-03-27T01:27:53.237080Z",
     "iopub.status.idle": "2025-03-27T01:27:53.252828Z",
     "shell.execute_reply": "2025-03-27T01:27:53.251984Z",
     "shell.execute_reply.started": "2025-03-27T01:27:53.237257Z"
    },
    "trusted": true
   },
   "outputs": [
    {
     "name": "stdout",
     "output_type": "stream",
     "text": [
      "PyTorch version: 2.5.1+cu121\n",
      "CUDA available: True\n"
     ]
    }
   ],
   "source": [
    "print(\"PyTorch version:\", torch.__version__)\n",
    "print(\"CUDA available:\", torch.cuda.is_available())"
   ]
  },
  {
   "cell_type": "code",
   "execution_count": 28,
   "metadata": {
    "execution": {
     "iopub.execute_input": "2025-03-27T01:27:53.254591Z",
     "iopub.status.busy": "2025-03-27T01:27:53.254341Z",
     "iopub.status.idle": "2025-03-27T01:27:53.268305Z",
     "shell.execute_reply": "2025-03-27T01:27:53.267369Z",
     "shell.execute_reply.started": "2025-03-27T01:27:53.254571Z"
    },
    "trusted": true
   },
   "outputs": [],
   "source": [
    "file_path = '/kaggle/input/restaurant-feedbacks/final_data.txt'"
   ]
  },
  {
   "cell_type": "code",
   "execution_count": 29,
   "metadata": {
    "execution": {
     "iopub.execute_input": "2025-03-27T01:27:53.269580Z",
     "iopub.status.busy": "2025-03-27T01:27:53.269250Z",
     "iopub.status.idle": "2025-03-27T01:27:53.283313Z",
     "shell.execute_reply": "2025-03-27T01:27:53.282524Z",
     "shell.execute_reply.started": "2025-03-27T01:27:53.269548Z"
    },
    "trusted": true
   },
   "outputs": [],
   "source": [
    "def read_file(file_path):\n",
    "    try:\n",
    "        with open(file_path, 'r', encoding='utf-8') as f:\n",
    "            file_content = f.read()\n",
    "        return file_content\n",
    "    except FileNotFoundError:\n",
    "        print(f\"Cant find file: {file_path}\")\n",
    "        return \"\"\n",
    "    except Exception as e:\n",
    "        print(f\"Error: {e}\")\n",
    "        return \"\"\n",
    "\n",
    "def split_aspect(aspects):\n",
    "    list_sa = []\n",
    "    aspect_pairs = aspects.split('}, {')\n",
    "    for pair in aspect_pairs:\n",
    "        pair = pair.replace('{', '').replace('}', '')\n",
    "        parts = pair.split(', ')\n",
    "        if len(parts) == 2:  \n",
    "            aspect, sentiment = parts\n",
    "            list_sa.append([aspect.strip(), sentiment.strip()])\n",
    "        else:\n",
    "            continue\n",
    "    return list_sa\n",
    "\n",
    "def list_data(file):\n",
    "    aspect_list = [\"AMBIENCE\", \"PRICE\", \"FOOD\", \"SERVICE\"]\n",
    "    opinions = file.split('\\n\\n')\n",
    "    list_sa = []\n",
    "    \n",
    "    for opinion in opinions:\n",
    "        if not opinion.strip():  \n",
    "            continue\n",
    "        lines = opinion.split(\"\\n\")\n",
    "        if len(lines) < 3: \n",
    "            continue\n",
    "        \n",
    "        num, sentence, aspects = lines[0], lines[1], lines[2]\n",
    "        aspects = split_aspect(aspects)\n",
    "\n",
    "        if not aspects or len(aspects) < 2:\n",
    "            continue\n",
    "            \n",
    "        list_temp = [aspect[0] for aspect in aspects]  \n",
    "        \n",
    "        for aspect, sentiment in aspects:\n",
    "            item = {\"sentence\": sentence, \"aspect\": aspect, \"sentiment\": sentiment}\n",
    "            list_sa.append(item)\n",
    "        \n",
    "        for aspect in aspect_list:\n",
    "            if aspect not in list_temp:\n",
    "                item = {\"sentence\": sentence, \"aspect\": aspect, \"sentiment\": \"none\"}\n",
    "                list_sa.append(item)\n",
    "    \n",
    "    return list_sa\n",
    "\n",
    "def label_encoder(label):\n",
    "    label_map = {\"positive\": 1, \"negative\": 2, \"neutral\": 3, \"none\": 0}\n",
    "    return label_map.get(label, 0)\n",
    "\n",
    "def transform_data(file):\n",
    "    data_dict = {\"sentence\": [], \"aspect\": [], \"sentiment_id\": [], \"sentiment\": []}\n",
    "    list_sa = list_data(file)\n",
    "    \n",
    "    if not list_sa:\n",
    "        print(\"No valid data found in the file!\")\n",
    "        return pd.DataFrame(data_dict)\n",
    "    \n",
    "    for item in list_sa:\n",
    "        data_dict[\"sentence\"].append(item['sentence'])\n",
    "        data_dict['aspect'].append(item[\"aspect\"])\n",
    "        sentiment = item[\"sentiment\"]\n",
    "        data_dict['sentiment_id'].append(label_encoder(sentiment))\n",
    "        data_dict['sentiment'].append(sentiment)\n",
    "    \n",
    "    df = pd.DataFrame(data_dict)\n",
    "    return df"
   ]
  },
  {
   "cell_type": "code",
   "execution_count": 30,
   "metadata": {
    "execution": {
     "iopub.execute_input": "2025-03-27T01:27:53.284563Z",
     "iopub.status.busy": "2025-03-27T01:27:53.284209Z",
     "iopub.status.idle": "2025-03-27T01:27:53.819710Z",
     "shell.execute_reply": "2025-03-27T01:27:53.818772Z",
     "shell.execute_reply.started": "2025-03-27T01:27:53.284493Z"
    },
    "trusted": true
   },
   "outputs": [
    {
     "name": "stdout",
     "output_type": "stream",
     "text": [
      "                                                sentence    aspect  \\\n",
      "0      ăn rất ngon được phục vụ chu đáo với 2 cô chú ...      FOOD   \n",
      "1      ăn rất ngon được phục vụ chu đáo với 2 cô chú ...   SERVICE   \n",
      "2      ăn rất ngon được phục vụ chu đáo với 2 cô chú ...     PRICE   \n",
      "3      ăn rất ngon được phục vụ chu đáo với 2 cô chú ...  AMBIENCE   \n",
      "4      quán này khá đông khách vào buổi tối nên phải ...      FOOD   \n",
      "...                                                  ...       ...   \n",
      "39177  quán cơm 418 này có không gian hơi bị rộng lại...     PRICE   \n",
      "39178  tài xế chở vào đây ăn trưa trên đường đi công ...      FOOD   \n",
      "39179  tài xế chở vào đây ăn trưa trên đường đi công ...  AMBIENCE   \n",
      "39180  tài xế chở vào đây ăn trưa trên đường đi công ...     PRICE   \n",
      "39181  tài xế chở vào đây ăn trưa trên đường đi công ...   SERVICE   \n",
      "\n",
      "       sentiment_id sentiment  \n",
      "0                 1  positive  \n",
      "1                 1  positive  \n",
      "2                 1  positive  \n",
      "3                 0      none  \n",
      "4                 1  positive  \n",
      "...             ...       ...  \n",
      "39177             1  positive  \n",
      "39178             1  positive  \n",
      "39179             2  negative  \n",
      "39180             0      none  \n",
      "39181             0      none  \n",
      "\n",
      "[39182 rows x 4 columns]\n"
     ]
    }
   ],
   "source": [
    "data_content = read_file(file_path)\n",
    "\n",
    "df = transform_data(data_content)\n",
    "print(df)\n",
    "df['sentiment'] = df['sentiment'].replace('positive.', 'positive')\n",
    "\n",
    "df.to_csv('transformed_data.csv', index=False, encoding='utf-8')"
   ]
  },
  {
   "cell_type": "code",
   "execution_count": 31,
   "metadata": {
    "execution": {
     "iopub.execute_input": "2025-03-27T01:27:53.821211Z",
     "iopub.status.busy": "2025-03-27T01:27:53.820835Z",
     "iopub.status.idle": "2025-03-27T01:27:53.889493Z",
     "shell.execute_reply": "2025-03-27T01:27:53.888637Z",
     "shell.execute_reply.started": "2025-03-27T01:27:53.821173Z"
    },
    "trusted": true
   },
   "outputs": [
    {
     "name": "stdout",
     "output_type": "stream",
     "text": [
      "sentiment distribution by aspect (crosstab):\n",
      "sentiment  negative  neutral   none  positive  Total\n",
      "aspect                                              \n",
      "AMBIENCE        882      135   4340      4438   9795\n",
      "FOOD           1271      943    571      7013   9798\n",
      "PRICE          1063      567   4334      3830   9794\n",
      "SERVICE        1274      171   3783      4567   9795\n",
      "Total          4490     1816  13028     19848  39182\n",
      "\n",
      "% sentiment by aspect:\n",
      "sentiment  negative  neutral   none  positive\n",
      "aspect                                       \n",
      "AMBIENCE       9.00     1.38  44.31     45.31\n",
      "FOOD          12.97     9.62   5.83     71.58\n",
      "PRICE         10.85     5.79  44.25     39.11\n",
      "SERVICE       13.01     1.75  38.62     46.63\n"
     ]
    }
   ],
   "source": [
    "def check_sentiment_per_aspect_crosstab(df):\n",
    "    distribution = pd.crosstab(df['aspect'], df['sentiment'], margins=True, margins_name=\"Total\")\n",
    "    print(\"sentiment distribution by aspect (crosstab):\")\n",
    "    print(distribution)\n",
    "\n",
    "    distribution_percent = pd.crosstab(df['aspect'], df['sentiment'], normalize='index') * 100\n",
    "    print(\"\\n% sentiment by aspect:\")\n",
    "    print(distribution_percent.round(2))\n",
    "\n",
    "check_sentiment_per_aspect_crosstab(df)"
   ]
  },
  {
   "cell_type": "code",
   "execution_count": 33,
   "metadata": {
    "execution": {
     "iopub.execute_input": "2025-03-27T01:27:53.897028Z",
     "iopub.status.busy": "2025-03-27T01:27:53.896824Z",
     "iopub.status.idle": "2025-03-27T01:27:53.912347Z",
     "shell.execute_reply": "2025-03-27T01:27:53.911686Z",
     "shell.execute_reply.started": "2025-03-27T01:27:53.897009Z"
    },
    "trusted": true
   },
   "outputs": [],
   "source": [
    "#df_balanced.to_csv('transformed_data2.csv', index=False, encoding='utf-8')"
   ]
  },
  {
   "cell_type": "code",
   "execution_count": 34,
   "metadata": {
    "execution": {
     "iopub.execute_input": "2025-03-27T01:27:53.914046Z",
     "iopub.status.busy": "2025-03-27T01:27:53.913746Z",
     "iopub.status.idle": "2025-03-27T01:27:54.010329Z",
     "shell.execute_reply": "2025-03-27T01:27:54.009553Z",
     "shell.execute_reply.started": "2025-03-27T01:27:53.914015Z"
    },
    "trusted": true
   },
   "outputs": [
    {
     "name": "stdout",
     "output_type": "stream",
     "text": [
      "sentiment distribution by aspect (crosstab):\n",
      "sentiment  negative  neutral   none  positive  Total\n",
      "aspect                                              \n",
      "AMBIENCE        715      105   3468      3575   7863\n",
      "FOOD            989      759    473      5596   7817\n",
      "PRICE           852      455   3472      3088   7867\n",
      "SERVICE        1036      134   3009      3619   7798\n",
      "Total          3592     1453  10422     15878  31345\n",
      "\n",
      "% sentiment by aspect:\n",
      "sentiment  negative  neutral   none  positive\n",
      "aspect                                       \n",
      "AMBIENCE       9.09     1.34  44.11     45.47\n",
      "FOOD          12.65     9.71   6.05     71.59\n",
      "PRICE         10.83     5.78  44.13     39.25\n",
      "SERVICE       13.29     1.72  38.59     46.41\n"
     ]
    }
   ],
   "source": [
    "from sklearn.model_selection import train_test_split\n",
    "\n",
    "def split_data(df, train_ratio=0.8, val_ratio=0.1, test_ratio=0.1):\n",
    "    \n",
    "    train_df, temp_df = train_test_split(df, train_size=train_ratio, random_state=42, stratify=df['sentiment_id'])\n",
    "  \n",
    "    val_ratio_adjusted = val_ratio / (val_ratio + test_ratio)  \n",
    "    val_df, test_df = train_test_split(temp_df, train_size=val_ratio_adjusted, random_state=42, stratify=temp_df['sentiment_id'])\n",
    "    \n",
    "    return train_df, val_df, test_df\n",
    "\n",
    "train_df, val_df, test_df = split_data(df)\n",
    "\n",
    "check_sentiment_per_aspect_crosstab(train_df)"
   ]
  },
  {
   "cell_type": "code",
   "execution_count": 35,
   "metadata": {
    "execution": {
     "iopub.execute_input": "2025-03-27T01:27:54.011262Z",
     "iopub.status.busy": "2025-03-27T01:27:54.011056Z",
     "iopub.status.idle": "2025-03-27T01:27:54.619071Z",
     "shell.execute_reply": "2025-03-27T01:27:54.618354Z",
     "shell.execute_reply.started": "2025-03-27T01:27:54.011244Z"
    },
    "trusted": true
   },
   "outputs": [],
   "source": [
    "import torch\n",
    "from torch.utils.data import Dataset\n",
    "from transformers import AutoTokenizer\n",
    "\n",
    "tokenizer = AutoTokenizer.from_pretrained(\"vinai/phobert-base\")\n",
    "\n",
    "class CustomDataset(Dataset):\n",
    "    def __init__(self, df, tokenizer, max_length=256):\n",
    "        self.df = df\n",
    "        self.tokenizer = tokenizer\n",
    "        self.max_length = max_length\n",
    "    \n",
    "    def __len__(self):\n",
    "        return len(self.df)\n",
    "    \n",
    "    def __getitem__(self, idx):\n",
    "        row = self.df.iloc[idx]\n",
    "        sentence = row['sentence']\n",
    "        aspect = row['aspect']\n",
    "        sentiment_id = row['sentiment_id']\n",
    "        \n",
    "        input_text = f\"{sentence} [SEP] {aspect}\"\n",
    "        \n",
    "        encoded = self.tokenizer.encode_plus(\n",
    "            input_text,\n",
    "            add_special_tokens=True,\n",
    "            max_length=self.max_length,\n",
    "            padding='max_length',\n",
    "            truncation=True,\n",
    "            return_tensors='pt'\n",
    "        )\n",
    "        \n",
    "        return {\n",
    "            'input_ids': encoded['input_ids'].squeeze(0),  \n",
    "            'attention_mask': encoded['attention_mask'].squeeze(0),\n",
    "            'labels': torch.tensor(sentiment_id, dtype=torch.long)\n",
    "        }\n",
    "\n",
    "train_dataset = CustomDataset(train_df, tokenizer)\n",
    "val_dataset = CustomDataset(val_df, tokenizer)\n",
    "test_dataset = CustomDataset(test_df, tokenizer)"
   ]
  },
  {
   "cell_type": "code",
   "execution_count": 36,
   "metadata": {
    "execution": {
     "iopub.execute_input": "2025-03-27T01:27:54.620030Z",
     "iopub.status.busy": "2025-03-27T01:27:54.619828Z",
     "iopub.status.idle": "2025-03-27T01:27:54.626335Z",
     "shell.execute_reply": "2025-03-27T01:27:54.625447Z",
     "shell.execute_reply.started": "2025-03-27T01:27:54.620012Z"
    },
    "trusted": true
   },
   "outputs": [],
   "source": [
    "import pytorch_lightning as pl\n",
    "from torch.utils.data import DataLoader\n",
    "from transformers import AutoTokenizer\n",
    "\n",
    "class ABSADataModule(pl.LightningDataModule):\n",
    "    def __init__(self, train_df, val_df, test_df, tokenizer_name=\"vinai/phobert-base\", max_length=256, batch_size=8):\n",
    "        super().__init__()\n",
    "        self.train_df = train_df\n",
    "        self.val_df = val_df\n",
    "        self.test_df = test_df\n",
    "        self.tokenizer = AutoTokenizer.from_pretrained(tokenizer_name)\n",
    "        self.max_length = max_length\n",
    "        self.batch_size = batch_size\n",
    "    \n",
    "    def setup(self, stage=None):\n",
    "        self.train_dataset = CustomDataset(self.train_df, self.tokenizer, self.max_length)\n",
    "        self.val_dataset = CustomDataset(self.val_df, self.tokenizer, self.max_length)\n",
    "        self.test_dataset = CustomDataset(self.test_df, self.tokenizer, self.max_length)\n",
    "    \n",
    "    def train_dataloader(self):\n",
    "        return DataLoader(self.train_dataset, batch_size=self.batch_size, shuffle=True, num_workers=4)\n",
    "    \n",
    "    def val_dataloader(self):\n",
    "        return DataLoader(self.val_dataset, batch_size=self.batch_size, shuffle=False, num_workers=4)\n",
    "    \n",
    "    def test_dataloader(self):\n",
    "        return DataLoader(self.test_dataset, batch_size=self.batch_size, shuffle=False, num_workers=4)"
   ]
  },
  {
   "cell_type": "code",
   "execution_count": null,
   "metadata": {
    "execution": {
     "iopub.execute_input": "2025-03-27T01:27:54.627392Z",
     "iopub.status.busy": "2025-03-27T01:27:54.627154Z",
     "iopub.status.idle": "2025-03-27T01:27:54.650246Z",
     "shell.execute_reply": "2025-03-27T01:27:54.649337Z",
     "shell.execute_reply.started": "2025-03-27T01:27:54.627372Z"
    },
    "trusted": true
   },
   "outputs": [],
   "source": [
    "import pytorch_lightning as pl\n",
    "import torch\n",
    "import torch.nn as nn\n",
    "from transformers import AutoTokenizer, AutoModel, AdamW\n",
    "from torch.utils.data import Dataset, DataLoader\n",
    "from sklearn.metrics import accuracy_score, f1_score\n",
    "import numpy as np\n",
    "\n",
    "class ABSAModel(pl.LightningModule):\n",
    "    def __init__(self, \n",
    "                 model_name=\"vinai/phobert-base\", \n",
    "                 num_labels=4, \n",
    "                 class_weights=None, \n",
    "                 learning_rate=2e-5,\n",
    "                 freeze_bert_layers=True,\n",
    "                 hidden_dropout_prob=0.3):\n",
    "        super().__init__()\n",
    "        self.save_hyperparameters()\n",
    "\n",
    "        self.bert_model = AutoModel.from_pretrained(model_name)\n",
    "        self.tokenizer = AutoTokenizer.from_pretrained(model_name)\n",
    "        \n",
    "        if freeze_bert_layers:\n",
    "            for param in self.bert_model.parameters():\n",
    "                param.requires_grad = False\n",
    "            \n",
    "            # Unfreeze last few layers for fine-tuning\n",
    "            for param in self.bert_model.encoder.layer[-2:].parameters():\n",
    "                param.requires_grad = True\n",
    "        \n",
    "        self.classifier = nn.Sequential(\n",
    "            nn.Dropout(hidden_dropout_prob),\n",
    "            nn.Linear(self.bert_model.config.hidden_size, 512),\n",
    "            nn.ReLU(),\n",
    "            nn.Dropout(hidden_dropout_prob),\n",
    "            nn.Linear(512, 256),\n",
    "            nn.ReLU(),\n",
    "            nn.Dropout(hidden_dropout_prob),\n",
    "            nn.Linear(256, num_labels)\n",
    "        )\n",
    "        \n",
    "        self.class_weights = class_weights\n",
    "        self.criterion = torch.nn.CrossEntropyLoss(weight=self.class_weights)\n",
    "        \n",
    "        self.val_outputs = []\n",
    "        self.test_outputs = []\n",
    "        self.train_losses = []\n",
    "        self.val_losses = []\n",
    "        \n",
    "        self.aspects = [\"AMBIENCE\", \"PRICE\", \"FOOD\", \"SERVICE\"]\n",
    "        self.sentiments = [\"positive\", \"negative\", \"neutral\"]\n",
    "        self.sentiment_map = {1: \"positive\", 2: \"negative\", 3: \"neutral\", 0: \"none\"}\n",
    "    \n",
    "    def forward(self, input_ids, attention_mask):\n",
    "        bert_output = self.bert_model(\n",
    "            input_ids=input_ids, \n",
    "            attention_mask=attention_mask\n",
    "        )\n",
    "        \n",
    "        pooled_output = bert_output.last_hidden_state[:, 0, :]\n",
    "        \n",
    "        logits = self.classifier(pooled_output)\n",
    "        \n",
    "        return logits\n",
    "    \n",
    "    def training_step(self, batch, batch_idx):\n",
    "        input_ids = batch['input_ids']\n",
    "        attention_mask = batch['attention_mask']\n",
    "        labels = batch['labels']\n",
    "        \n",
    "        logits = self(input_ids, attention_mask)\n",
    "        \n",
    "        loss = self.criterion(logits, labels)\n",
    "        \n",
    "        self.log('train_loss', loss, on_step=True, on_epoch=True, prog_bar=True)\n",
    "        \n",
    "        return loss\n",
    "    \n",
    "    def validation_step(self, batch, batch_idx):\n",
    "        input_ids = batch['input_ids']\n",
    "        attention_mask = batch['attention_mask']\n",
    "        labels = batch['labels']\n",
    "        \n",
    "        logits = self(input_ids, attention_mask)\n",
    "        \n",
    "        loss = self.criterion(logits, labels)\n",
    "        \n",
    "        preds = torch.argmax(logits, dim=1)\n",
    "        \n",
    "        self.log('val_loss', loss, on_epoch=True, prog_bar=True)\n",
    "        \n",
    "        self.val_outputs.append({\n",
    "            'val_loss': loss, \n",
    "            'preds': preds, \n",
    "            'labels': labels\n",
    "        })\n",
    "        \n",
    "        return {'val_loss': loss}\n",
    "    \n",
    "    def on_validation_epoch_end(self):\n",
    "        preds = torch.cat([x['preds'] for x in self.val_outputs]).detach().cpu().numpy()\n",
    "        labels = torch.cat([x['labels'] for x in self.val_outputs]).detach().cpu().numpy()\n",
    "        \n",
    "        accuracy = accuracy_score(labels, preds)\n",
    "        f1 = f1_score(labels, preds, average='weighted')\n",
    "        \n",
    "        self.log('val_accuracy', accuracy, prog_bar=True)\n",
    "        self.log('val_f1', f1, prog_bar=True)\n",
    "        \n",
    "        self.val_outputs = []\n",
    "    \n",
    "    def test_step(self, batch, batch_idx):\n",
    "        input_ids = batch['input_ids']\n",
    "        attention_mask = batch['attention_mask']\n",
    "        labels = batch['labels']\n",
    "        \n",
    "        logits = self(input_ids, attention_mask)\n",
    "        \n",
    "        loss = self.criterion(logits, labels)\n",
    "        \n",
    "        preds = torch.argmax(logits, dim=1)\n",
    "        \n",
    "        self.test_outputs.append({\n",
    "            'test_loss': loss,\n",
    "            'preds': preds,\n",
    "            'labels': labels,\n",
    "            'logits': logits\n",
    "        })\n",
    "        \n",
    "        return {'test_loss': loss}\n",
    "    \n",
    "    def on_test_epoch_end(self):\n",
    "        preds = torch.cat([x['preds'] for x in self.test_outputs]).detach().cpu().numpy()\n",
    "        labels = torch.cat([x['labels'] for x in self.test_outputs]).detach().cpu().numpy()\n",
    "        \n",
    "        test_loss = torch.stack([x['test_loss'] for x in self.test_outputs]).mean()\n",
    "        accuracy = accuracy_score(labels, preds)\n",
    "        f1 = f1_score(labels, preds, average='weighted')\n",
    "        \n",
    "        self.log('test_loss', test_loss)\n",
    "        self.log('test_accuracy', accuracy)\n",
    "        self.log('test_f1', f1)\n",
    "    \n",
    "    def configure_optimizers(self):\n",
    "        optimizer_grouped_parameters = [\n",
    "            {\n",
    "                'params': [p for n, p in self.named_parameters() if 'bert_model' in n and p.requires_grad],\n",
    "                'lr': self.hparams.learning_rate * 0.1  # Lower learning rate for BERT layers\n",
    "            },\n",
    "            {\n",
    "                'params': [p for n, p in self.named_parameters() if 'bert_model' not in n],\n",
    "                'lr': self.hparams.learning_rate\n",
    "            }\n",
    "        ]\n",
    "        \n",
    "        optimizer = AdamW(optimizer_grouped_parameters)\n",
    "        \n",
    "        # Learning rate scheduler\n",
    "        scheduler = {\n",
    "            'scheduler': torch.optim.lr_scheduler.ReduceLROnPlateau(\n",
    "                optimizer,\n",
    "                mode='max',  \n",
    "                factor=0.1,  \n",
    "                patience=3,  \n",
    "                min_lr=1e-6  \n",
    "            ),\n",
    "            'monitor': 'val_f1',  \n",
    "            'interval': 'epoch',  \n",
    "            'frequency': 1\n",
    "        }\n",
    "        \n",
    "        return [optimizer], [scheduler]\n",
    "    \n",
    "    def save_model(self, filepath):\n",
    "        # Save comprehensive model state\n",
    "        save_dict = {\n",
    "            'model_state_dict': self.state_dict(),\n",
    "            'bert_model_state_dict': self.bert_model.state_dict(),\n",
    "            'classifier_state_dict': self.classifier.state_dict(),\n",
    "            'hyperparameters': self.hparams,\n",
    "            'class_weights': self.class_weights,\n",
    "            'tokenizer': self.tokenizer,\n",
    "            'sentiment_map': self.sentiment_map,\n",
    "            'aspects': self.aspects,\n",
    "            'sentiments': self.sentiments\n",
    "        }\n",
    "        torch.save(save_dict, filepath)\n",
    "        print(f\"Model saved to {filepath}\")\n",
    "    \n",
    "    @staticmethod\n",
    "    def load_model(filepath, device='cpu'):\n",
    "        # Load saved model with more flexibility\n",
    "        checkpoint = torch.load(filepath, map_location=device)\n",
    "        \n",
    "        model = ABSAModel(\n",
    "            model_name=checkpoint['hyperparameters']['model_name'],\n",
    "            num_labels=checkpoint['hyperparameters']['num_labels'],\n",
    "            class_weights=checkpoint['class_weights'],\n",
    "            learning_rate=checkpoint['hyperparameters']['learning_rate'],\n",
    "            freeze_bert_layers=False  # Allow full flexibility when loading\n",
    "        )\n",
    "        \n",
    "        # Load state dictionaries\n",
    "        model.load_state_dict(checkpoint['model_state_dict'])\n",
    "        model.bert_model.load_state_dict(checkpoint['bert_model_state_dict'])\n",
    "        model.classifier.load_state_dict(checkpoint['classifier_state_dict'])\n",
    "        \n",
    "        # Restore additional attributes\n",
    "        model.tokenizer = checkpoint['tokenizer']\n",
    "        model.sentiment_map = checkpoint['sentiment_map']\n",
    "        model.aspects = checkpoint['aspects']\n",
    "        model.sentiments = checkpoint['sentiments']\n",
    "        \n",
    "        model.eval()\n",
    "        return model"
   ]
  },
  {
   "cell_type": "code",
   "execution_count": 38,
   "metadata": {
    "execution": {
     "iopub.execute_input": "2025-03-27T01:27:54.651731Z",
     "iopub.status.busy": "2025-03-27T01:27:54.651318Z",
     "iopub.status.idle": "2025-03-27T01:27:54.667401Z",
     "shell.execute_reply": "2025-03-27T01:27:54.666601Z",
     "shell.execute_reply.started": "2025-03-27T01:27:54.651694Z"
    },
    "trusted": true
   },
   "outputs": [],
   "source": [
    "# # Load checkpoint\n",
    "# checkpoint_path = './checkpoints/absa-epochXX-val_f1=YY.ckpt'  \n",
    "# loaded_model = ABSAModel.load_from_checkpoint(checkpoint_path)\n",
    "\n",
    "#trainer.fit(model, data_module, ckpt_path=checkpoint_path)"
   ]
  },
  {
   "cell_type": "code",
   "execution_count": null,
   "metadata": {
    "execution": {
     "iopub.execute_input": "2025-03-27T01:30:13.995679Z",
     "iopub.status.busy": "2025-03-27T01:30:13.995359Z",
     "iopub.status.idle": "2025-03-27T02:38:09.085350Z",
     "shell.execute_reply": "2025-03-27T02:38:09.084527Z",
     "shell.execute_reply.started": "2025-03-27T01:30:13.995656Z"
    },
    "trusted": true
   },
   "outputs": [
    {
     "data": {
      "application/vnd.jupyter.widget-view+json": {
       "model_id": "abae8e6423cb4ab99f252e3f4827aacd",
       "version_major": 2,
       "version_minor": 0
      },
      "text/plain": [
       "pytorch_model.bin:   0%|          | 0.00/543M [00:00<?, ?B/s]"
      ]
     },
     "metadata": {},
     "output_type": "display_data"
    },
    {
     "name": "stderr",
     "output_type": "stream",
     "text": [
      "/usr/local/lib/python3.10/dist-packages/transformers/optimization.py:591: FutureWarning: This implementation of AdamW is deprecated and will be removed in a future version. Use the PyTorch implementation torch.optim.AdamW instead, or set `no_deprecation_warning=True` to disable this warning\n",
      "  warnings.warn(\n"
     ]
    },
    {
     "data": {
      "application/vnd.jupyter.widget-view+json": {
       "model_id": "",
       "version_major": 2,
       "version_minor": 0
      },
      "text/plain": [
       "Sanity Checking: |          | 0/? [00:00<?, ?it/s]"
      ]
     },
     "metadata": {},
     "output_type": "display_data"
    },
    {
     "data": {
      "application/vnd.jupyter.widget-view+json": {
       "model_id": "1a3421f691314532af951bb472919272",
       "version_major": 2,
       "version_minor": 0
      },
      "text/plain": [
       "Training: |          | 0/? [00:00<?, ?it/s]"
      ]
     },
     "metadata": {},
     "output_type": "display_data"
    },
    {
     "data": {
      "application/vnd.jupyter.widget-view+json": {
       "model_id": "",
       "version_major": 2,
       "version_minor": 0
      },
      "text/plain": [
       "Validation: |          | 0/? [00:00<?, ?it/s]"
      ]
     },
     "metadata": {},
     "output_type": "display_data"
    },
    {
     "data": {
      "application/vnd.jupyter.widget-view+json": {
       "model_id": "",
       "version_major": 2,
       "version_minor": 0
      },
      "text/plain": [
       "Validation: |          | 0/? [00:00<?, ?it/s]"
      ]
     },
     "metadata": {},
     "output_type": "display_data"
    },
    {
     "data": {
      "application/vnd.jupyter.widget-view+json": {
       "model_id": "",
       "version_major": 2,
       "version_minor": 0
      },
      "text/plain": [
       "Validation: |          | 0/? [00:00<?, ?it/s]"
      ]
     },
     "metadata": {},
     "output_type": "display_data"
    },
    {
     "data": {
      "application/vnd.jupyter.widget-view+json": {
       "model_id": "",
       "version_major": 2,
       "version_minor": 0
      },
      "text/plain": [
       "Validation: |          | 0/? [00:00<?, ?it/s]"
      ]
     },
     "metadata": {},
     "output_type": "display_data"
    },
    {
     "data": {
      "application/vnd.jupyter.widget-view+json": {
       "model_id": "",
       "version_major": 2,
       "version_minor": 0
      },
      "text/plain": [
       "Validation: |          | 0/? [00:00<?, ?it/s]"
      ]
     },
     "metadata": {},
     "output_type": "display_data"
    },
    {
     "data": {
      "application/vnd.jupyter.widget-view+json": {
       "model_id": "",
       "version_major": 2,
       "version_minor": 0
      },
      "text/plain": [
       "Validation: |          | 0/? [00:00<?, ?it/s]"
      ]
     },
     "metadata": {},
     "output_type": "display_data"
    },
    {
     "data": {
      "application/vnd.jupyter.widget-view+json": {
       "model_id": "",
       "version_major": 2,
       "version_minor": 0
      },
      "text/plain": [
       "Validation: |          | 0/? [00:00<?, ?it/s]"
      ]
     },
     "metadata": {},
     "output_type": "display_data"
    },
    {
     "data": {
      "application/vnd.jupyter.widget-view+json": {
       "model_id": "",
       "version_major": 2,
       "version_minor": 0
      },
      "text/plain": [
       "Validation: |          | 0/? [00:00<?, ?it/s]"
      ]
     },
     "metadata": {},
     "output_type": "display_data"
    },
    {
     "data": {
      "application/vnd.jupyter.widget-view+json": {
       "model_id": "",
       "version_major": 2,
       "version_minor": 0
      },
      "text/plain": [
       "Validation: |          | 0/? [00:00<?, ?it/s]"
      ]
     },
     "metadata": {},
     "output_type": "display_data"
    },
    {
     "data": {
      "application/vnd.jupyter.widget-view+json": {
       "model_id": "",
       "version_major": 2,
       "version_minor": 0
      },
      "text/plain": [
       "Validation: |          | 0/? [00:00<?, ?it/s]"
      ]
     },
     "metadata": {},
     "output_type": "display_data"
    },
    {
     "data": {
      "application/vnd.jupyter.widget-view+json": {
       "model_id": "",
       "version_major": 2,
       "version_minor": 0
      },
      "text/plain": [
       "Validation: |          | 0/? [00:00<?, ?it/s]"
      ]
     },
     "metadata": {},
     "output_type": "display_data"
    },
    {
     "data": {
      "application/vnd.jupyter.widget-view+json": {
       "model_id": "",
       "version_major": 2,
       "version_minor": 0
      },
      "text/plain": [
       "Validation: |          | 0/? [00:00<?, ?it/s]"
      ]
     },
     "metadata": {},
     "output_type": "display_data"
    },
    {
     "data": {
      "application/vnd.jupyter.widget-view+json": {
       "model_id": "",
       "version_major": 2,
       "version_minor": 0
      },
      "text/plain": [
       "Validation: |          | 0/? [00:00<?, ?it/s]"
      ]
     },
     "metadata": {},
     "output_type": "display_data"
    },
    {
     "data": {
      "application/vnd.jupyter.widget-view+json": {
       "model_id": "",
       "version_major": 2,
       "version_minor": 0
      },
      "text/plain": [
       "Validation: |          | 0/? [00:00<?, ?it/s]"
      ]
     },
     "metadata": {},
     "output_type": "display_data"
    },
    {
     "data": {
      "application/vnd.jupyter.widget-view+json": {
       "model_id": "",
       "version_major": 2,
       "version_minor": 0
      },
      "text/plain": [
       "Validation: |          | 0/? [00:00<?, ?it/s]"
      ]
     },
     "metadata": {},
     "output_type": "display_data"
    },
    {
     "data": {
      "application/vnd.jupyter.widget-view+json": {
       "model_id": "",
       "version_major": 2,
       "version_minor": 0
      },
      "text/plain": [
       "Validation: |          | 0/? [00:00<?, ?it/s]"
      ]
     },
     "metadata": {},
     "output_type": "display_data"
    },
    {
     "data": {
      "application/vnd.jupyter.widget-view+json": {
       "model_id": "",
       "version_major": 2,
       "version_minor": 0
      },
      "text/plain": [
       "Validation: |          | 0/? [00:00<?, ?it/s]"
      ]
     },
     "metadata": {},
     "output_type": "display_data"
    },
    {
     "data": {
      "application/vnd.jupyter.widget-view+json": {
       "model_id": "",
       "version_major": 2,
       "version_minor": 0
      },
      "text/plain": [
       "Validation: |          | 0/? [00:00<?, ?it/s]"
      ]
     },
     "metadata": {},
     "output_type": "display_data"
    },
    {
     "data": {
      "application/vnd.jupyter.widget-view+json": {
       "model_id": "",
       "version_major": 2,
       "version_minor": 0
      },
      "text/plain": [
       "Validation: |          | 0/? [00:00<?, ?it/s]"
      ]
     },
     "metadata": {},
     "output_type": "display_data"
    },
    {
     "data": {
      "application/vnd.jupyter.widget-view+json": {
       "model_id": "",
       "version_major": 2,
       "version_minor": 0
      },
      "text/plain": [
       "Validation: |          | 0/? [00:00<?, ?it/s]"
      ]
     },
     "metadata": {},
     "output_type": "display_data"
    }
   ],
   "source": [
    "import pytorch_lightning as pl\n",
    "from pytorch_lightning.callbacks import EarlyStopping, ModelCheckpoint, LearningRateMonitor\n",
    "import torch\n",
    "import torch.nn as nn\n",
    "from transformers import AutoModel, AutoTokenizer, AdamW\n",
    "\n",
    "data_module = ABSADataModule(train_df, val_df, test_df, tokenizer_name=\"vinai/phobert-base\", batch_size=8)\n",
    "data_module.setup()\n",
    "\n",
    "model = ABSAModel(\n",
    "    model_name=\"vinai/phobert-base\",\n",
    "    num_labels=4,\n",
    "    learning_rate=2e-5,\n",
    "    freeze_bert_layers=True,\n",
    "    hidden_dropout_prob=0.3\n",
    ")\n",
    "\n",
    "early_stopping_callback = EarlyStopping(\n",
    "    monitor='val_f1',\n",
    "    patience=5,\n",
    "    mode='max',\n",
    "    verbose=True\n",
    ")\n",
    "\n",
    "checkpoint_callback = ModelCheckpoint(\n",
    "    monitor='val_f1',\n",
    "    filename='best-model-{epoch:02d}-{val_f1:.4f}',\n",
    "    save_top_k=1,\n",
    "    mode='max',\n",
    "    verbose=True\n",
    ")\n",
    "\n",
    "lr_monitor = LearningRateMonitor(logging_interval='step')\n",
    "\n",
    "trainer = pl.Trainer(\n",
    "    max_epochs=50,\n",
    "    accelerator='gpu' if torch.cuda.is_available() else 'cpu',\n",
    "    devices=1 if torch.cuda.is_available() else 1,\n",
    "    precision='16-mixed',\n",
    "    log_every_n_steps=10,\n",
    "    enable_progress_bar=True,\n",
    "    logger=True,\n",
    "    callbacks=[early_stopping_callback, checkpoint_callback, lr_monitor]\n",
    ")\n",
    "\n",
    "trainer.fit(model, data_module)"
   ]
  },
  {
   "cell_type": "code",
   "execution_count": 41,
   "metadata": {
    "execution": {
     "iopub.execute_input": "2025-03-27T02:49:56.031118Z",
     "iopub.status.busy": "2025-03-27T02:49:56.030749Z",
     "iopub.status.idle": "2025-03-27T02:49:56.930425Z",
     "shell.execute_reply": "2025-03-27T02:49:56.929639Z",
     "shell.execute_reply.started": "2025-03-27T02:49:56.031089Z"
    },
    "trusted": true
   },
   "outputs": [
    {
     "name": "stdout",
     "output_type": "stream",
     "text": [
      "Model saved to ./absa_model.pth\n"
     ]
    }
   ],
   "source": [
    "save_path = './absa_model.pth'\n",
    "model.save_model(save_path)"
   ]
  },
  {
   "cell_type": "code",
   "execution_count": 42,
   "metadata": {
    "execution": {
     "iopub.execute_input": "2025-03-27T02:50:18.189249Z",
     "iopub.status.busy": "2025-03-27T02:50:18.188925Z",
     "iopub.status.idle": "2025-03-27T02:50:34.778446Z",
     "shell.execute_reply": "2025-03-27T02:50:34.777588Z",
     "shell.execute_reply.started": "2025-03-27T02:50:18.189221Z"
    },
    "trusted": true
   },
   "outputs": [
    {
     "data": {
      "application/vnd.jupyter.widget-view+json": {
       "model_id": "b4691c99a9bd41b09a4c8c1aeded09de",
       "version_major": 2,
       "version_minor": 0
      },
      "text/plain": [
       "Testing: |          | 0/? [00:00<?, ?it/s]"
      ]
     },
     "metadata": {},
     "output_type": "display_data"
    },
    {
     "data": {
      "text/html": [
       "<pre style=\"white-space:pre;overflow-x:auto;line-height:normal;font-family:Menlo,'DejaVu Sans Mono',consolas,'Courier New',monospace\">┏━━━━━━━━━━━━━━━━━━━━━━━━━━━┳━━━━━━━━━━━━━━━━━━━━━━━━━━━┓\n",
       "┃<span style=\"font-weight: bold\">        Test metric        </span>┃<span style=\"font-weight: bold\">       DataLoader 0        </span>┃\n",
       "┡━━━━━━━━━━━━━━━━━━━━━━━━━━━╇━━━━━━━━━━━━━━━━━━━━━━━━━━━┩\n",
       "│<span style=\"color: #008080; text-decoration-color: #008080\">       test_accuracy       </span>│<span style=\"color: #800080; text-decoration-color: #800080\">    0.8675682544708252     </span>│\n",
       "│<span style=\"color: #008080; text-decoration-color: #008080\">          test_f1          </span>│<span style=\"color: #800080; text-decoration-color: #800080\">    0.8635707497596741     </span>│\n",
       "│<span style=\"color: #008080; text-decoration-color: #008080\">         test_loss         </span>│<span style=\"color: #800080; text-decoration-color: #800080\">    0.40675562620162964    </span>│\n",
       "└───────────────────────────┴───────────────────────────┘\n",
       "</pre>\n"
      ],
      "text/plain": [
       "┏━━━━━━━━━━━━━━━━━━━━━━━━━━━┳━━━━━━━━━━━━━━━━━━━━━━━━━━━┓\n",
       "┃\u001b[1m \u001b[0m\u001b[1m       Test metric       \u001b[0m\u001b[1m \u001b[0m┃\u001b[1m \u001b[0m\u001b[1m      DataLoader 0       \u001b[0m\u001b[1m \u001b[0m┃\n",
       "┡━━━━━━━━━━━━━━━━━━━━━━━━━━━╇━━━━━━━━━━━━━━━━━━━━━━━━━━━┩\n",
       "│\u001b[36m \u001b[0m\u001b[36m      test_accuracy      \u001b[0m\u001b[36m \u001b[0m│\u001b[35m \u001b[0m\u001b[35m   0.8675682544708252    \u001b[0m\u001b[35m \u001b[0m│\n",
       "│\u001b[36m \u001b[0m\u001b[36m         test_f1         \u001b[0m\u001b[36m \u001b[0m│\u001b[35m \u001b[0m\u001b[35m   0.8635707497596741    \u001b[0m\u001b[35m \u001b[0m│\n",
       "│\u001b[36m \u001b[0m\u001b[36m        test_loss        \u001b[0m\u001b[36m \u001b[0m│\u001b[35m \u001b[0m\u001b[35m   0.40675562620162964   \u001b[0m\u001b[35m \u001b[0m│\n",
       "└───────────────────────────┴───────────────────────────┘\n"
      ]
     },
     "metadata": {},
     "output_type": "display_data"
    },
    {
     "data": {
      "text/plain": [
       "[{'test_loss': 0.40675562620162964,\n",
       "  'test_accuracy': 0.8675682544708252,\n",
       "  'test_f1': 0.8635707497596741}]"
      ]
     },
     "execution_count": 42,
     "metadata": {},
     "output_type": "execute_result"
    }
   ],
   "source": [
    "trainer.test(model, datamodule=data_module)"
   ]
  },
  {
   "cell_type": "code",
   "execution_count": 43,
   "metadata": {
    "execution": {
     "iopub.execute_input": "2025-03-27T02:50:42.900279Z",
     "iopub.status.busy": "2025-03-27T02:50:42.899987Z",
     "iopub.status.idle": "2025-03-27T02:50:45.265291Z",
     "shell.execute_reply": "2025-03-27T02:50:45.264364Z",
     "shell.execute_reply.started": "2025-03-27T02:50:42.900255Z"
    },
    "trusted": true
   },
   "outputs": [
    {
     "name": "stderr",
     "output_type": "stream",
     "text": [
      "<ipython-input-37-263af519f41e>:222: FutureWarning: You are using `torch.load` with `weights_only=False` (the current default value), which uses the default pickle module implicitly. It is possible to construct malicious pickle data which will execute arbitrary code during unpickling (See https://github.com/pytorch/pytorch/blob/main/SECURITY.md#untrusted-models for more details). In a future release, the default value for `weights_only` will be flipped to `True`. This limits the functions that could be executed during unpickling. Arbitrary objects will no longer be allowed to be loaded via this mode unless they are explicitly allowlisted by the user via `torch.serialization.add_safe_globals`. We recommend you start setting `weights_only=True` for any use case where you don't have full control of the loaded file. Please open an issue on GitHub for any issues related to this experimental feature.\n",
      "  checkpoint = torch.load(filepath, map_location=device)\n"
     ]
    },
    {
     "name": "stdout",
     "output_type": "stream",
     "text": [
      "Model loaded successfully\n"
     ]
    }
   ],
   "source": [
    "loaded_model = ABSAModel.load_model(save_path, device='cpu')\n",
    "print(\"Model loaded successfully\")"
   ]
  },
  {
   "cell_type": "code",
   "execution_count": null,
   "metadata": {
    "execution": {
     "iopub.execute_input": "2025-03-27T02:51:41.648484Z",
     "iopub.status.busy": "2025-03-27T02:51:41.648090Z",
     "iopub.status.idle": "2025-03-27T02:51:42.079619Z",
     "shell.execute_reply": "2025-03-27T02:51:42.073777Z",
     "shell.execute_reply.started": "2025-03-27T02:51:41.648451Z"
    },
    "trusted": true
   },
   "outputs": [
    {
     "data": {
      "image/png": "[encoded data removed]",
      "text/plain": [
       "<Figure size 1000x800 with 1 Axes>"
      ]
     },
     "metadata": {},
     "output_type": "display_data"
    }
   ],
   "source": [
    "import matplotlib.pyplot as plt\n",
    "from sklearn.metrics import roc_curve, auc\n",
    "from sklearn.preprocessing import label_binarize \n",
    "import numpy as np\n",
    "import torch\n",
    "\n",
    "def plot_roc_curves(model, trainer=None, data_module=None):\n",
    "    if not model.test_outputs:\n",
    "        if trainer is None or data_module is None:\n",
    "            raise ValueError(\"test_outputs is empty. Please provide trainer and data_module to run test.\")\n",
    "        print(\"test_outputs is empty. Running test to populate it...\")\n",
    "        trainer.test(model, datamodule=data_module)\n",
    "\n",
    "    preds = torch.cat([x['preds'] for x in model.test_outputs]).detach().cpu().numpy()\n",
    "    labels = torch.cat([x['labels'] for x in model.test_outputs]).detach().cpu().numpy()\n",
    "    logits = torch.cat([x['logits'] for x in model.test_outputs]).detach().cpu().numpy()\n",
    "    probs = torch.softmax(torch.tensor(logits), dim=1).numpy()\n",
    "    \n",
    "    n_classes = 4\n",
    "    labels_bin = label_binarize(labels, classes=[0, 1, 2, 3])\n",
    "    class_names = ['none', 'positive', 'negative', 'neutral']\n",
    "    \n",
    "    fpr = dict()\n",
    "    tpr = dict()\n",
    "    roc_auc = dict()\n",
    "    for i in range(n_classes):\n",
    "        fpr[i], tpr[i], _ = roc_curve(labels_bin[:, i], probs[:, i])\n",
    "        roc_auc[i] = auc(fpr[i], tpr[i])\n",
    "    \n",
    "    plt.figure(figsize=(10, 8))\n",
    "    colors = ['blue', 'red', 'green', 'orange']\n",
    "    for i, color in zip(range(n_classes), colors):\n",
    "        plt.plot(fpr[i], tpr[i], color=color, lw=2,\n",
    "                 label=f'ROC curve of {class_names[i]} (AUC = {roc_auc[i]:.2f})')\n",
    "    \n",
    "    plt.plot([0, 1], [0, 1], 'k--', lw=2)\n",
    "    plt.xlim([0.0, 1.0])\n",
    "    plt.ylim([0.0, 1.05])\n",
    "    plt.xlabel('False Positive Rate')\n",
    "    plt.ylabel('True Positive Rate')\n",
    "    plt.title('Receiver Operating Characteristic (ROC) Curves')\n",
    "    plt.legend(loc=\"lower right\")\n",
    "    plt.grid(True)\n",
    "    plt.show()\n",
    "\n",
    "plot_roc_curves(loaded_model, trainer, data_module)"
   ]
  },
  {
   "cell_type": "code",
   "execution_count": 50,
   "metadata": {
    "execution": {
     "iopub.execute_input": "2025-03-27T03:05:47.931922Z",
     "iopub.status.busy": "2025-03-27T03:05:47.931420Z",
     "iopub.status.idle": "2025-03-27T03:06:46.919164Z",
     "shell.execute_reply": "2025-03-27T03:06:46.918275Z",
     "shell.execute_reply.started": "2025-03-27T03:05:47.931880Z"
    },
    "trusted": true
   },
   "outputs": [
    {
     "name": "stdout",
     "output_type": "stream",
     "text": [
      "ABSA Model Evaluation Results:\n",
      "----------------------------------------\n",
      "Total Samples: 3919\n",
      "Overall Correct Predictions: 3401 (86.78%)\n",
      "Aspect Correct: 3630 (92.63%)\n",
      "Sentiment Correct: 3630 (92.63%)\n",
      "\n",
      "Classification Report:\n",
      "              precision    recall  f1-score   support\n",
      "\n",
      "        none       0.88      0.90      0.89      1303\n",
      "    positive       0.90      0.93      0.91      1985\n",
      "    negative       0.78      0.74      0.76       449\n",
      "     neutral       0.52      0.35      0.42       182\n",
      "\n",
      "    accuracy                           0.87      3919\n",
      "   macro avg       0.77      0.73      0.74      3919\n",
      "weighted avg       0.86      0.87      0.86      3919\n",
      "\n",
      "\n",
      "Confusion Matrix:\n",
      "[[1167   88   38   10]\n",
      " [  92 1839   25   29]\n",
      " [  48   49  331   21]\n",
      " [  13   75   30   64]]\n"
     ]
    }
   ],
   "source": [
    "import numpy as np\n",
    "import pandas as pd\n",
    "from sklearn.metrics import classification_report, confusion_matrix\n",
    "import torch\n",
    "\n",
    "def evaluate_absa_model(model, dataloader, device='cuda' if torch.cuda.is_available() else 'cpu'):\n",
    "    \"\"\"\n",
    "    Đánh giá mô hình ABSA trên GPU:\n",
    "    - Positive/Negative/Neutral đoán khác None thì đúng\n",
    "    - None đoán đúng None thì đúng\n",
    "    \n",
    "    Parameters:\n",
    "    - model: Mô hình ABSA đã được huấn luyện\n",
    "    - dataloader: DataLoader chứa dữ liệu đánh giá\n",
    "    - device: Thiết bị tính toán (mặc định là GPU nếu có, nếu không thì CPU)\n",
    "    \n",
    "    Returns:\n",
    "    - Dict chứa các metric đánh giá\n",
    "    \"\"\"\n",
    "    model.to(device)\n",
    "    model.eval()\n",
    "    \n",
    "    # Lưu trữ kết quả dự đoán và nhãn thực tế trên GPU\n",
    "    all_preds = []\n",
    "    all_labels = []\n",
    "    \n",
    "    # Kết quả chi tiết\n",
    "    results = {\n",
    "        'total_samples': 0,\n",
    "        'correct_predictions': 0,\n",
    "        'aspect_correct': 0,\n",
    "        'sentiment_correct': 0\n",
    "    }\n",
    "    \n",
    "    with torch.no_grad():\n",
    "        for batch in dataloader:\n",
    "            input_ids = batch['input_ids'].to(device)\n",
    "            attention_mask = batch['attention_mask'].to(device)\n",
    "            labels = batch['labels'].to(device)\n",
    "            \n",
    "            # Dự đoán trên GPU\n",
    "            logits = model(input_ids, attention_mask)\n",
    "            preds = torch.argmax(logits, dim=1)  # Giữ preds trên GPU\n",
    "            \n",
    "            # Đánh giá từng mẫu trên GPU\n",
    "            for pred, label in zip(preds, labels):\n",
    "                results['total_samples'] += 1\n",
    "                \n",
    "                # Định nghĩa các lớp sentiment\n",
    "                sentiment_classes = torch.tensor([1, 2, 3], device=device)  # positive, negative, neutral\n",
    "                \n",
    "                # Kiểm tra aspect (none hay không none)\n",
    "                pred_is_none = (pred == 0)\n",
    "                label_is_none = (label == 0)\n",
    "                aspect_correct = (pred_is_none == label_is_none)\n",
    "                if aspect_correct:\n",
    "                    results['aspect_correct'] += 1\n",
    "                \n",
    "                # Kiểm tra sentiment\n",
    "                sentiment_correct = False\n",
    "                if pred_is_none and label_is_none:  # Cả hai đều là none\n",
    "                    sentiment_correct = True\n",
    "                elif not pred_is_none and not label_is_none:  # Cả hai đều không phải none\n",
    "                    sentiment_correct = True\n",
    "                \n",
    "                if sentiment_correct:\n",
    "                    results['sentiment_correct'] += 1\n",
    "                \n",
    "                # Tổng hợp đúng cả aspect và sentiment\n",
    "                if pred == label:\n",
    "                    results['correct_predictions'] += 1\n",
    "                \n",
    "                # Lưu trữ preds và labels trên GPU\n",
    "                all_preds.append(pred)\n",
    "                all_labels.append(label)\n",
    "    \n",
    "    # Chuyển dữ liệu về CPU để tính toán metric bằng sklearn\n",
    "    all_preds = torch.stack(all_preds).cpu().numpy()\n",
    "    all_labels = torch.stack(all_labels).cpu().numpy()\n",
    "    \n",
    "    # Tính toán các metric\n",
    "    results['overall_accuracy'] = results['correct_predictions'] / results['total_samples']\n",
    "    results['aspect_accuracy'] = results['aspect_correct'] / results['total_samples']\n",
    "    results['sentiment_accuracy'] = results['sentiment_correct'] / results['total_samples']\n",
    "    \n",
    "    results['classification_report'] = classification_report(\n",
    "        all_labels, \n",
    "        all_preds, \n",
    "        target_names=['none', 'positive', 'negative', 'neutral']\n",
    "    )\n",
    "    results['confusion_matrix'] = confusion_matrix(all_labels, all_preds)\n",
    "    \n",
    "    return results\n",
    "\n",
    "def print_absa_evaluation_results(results):\n",
    "    \"\"\"\n",
    "    In kết quả đánh giá ABSA\n",
    "    \n",
    "    Parameters:\n",
    "    - results: Kết quả trả về từ hàm evaluate_absa_model\n",
    "    \"\"\"\n",
    "    print(\"ABSA Model Evaluation Results:\")\n",
    "    print(\"-\" * 40)\n",
    "    print(f\"Total Samples: {results['total_samples']}\")\n",
    "    print(f\"Overall Correct Predictions: {results['correct_predictions']} \"\n",
    "          f\"({results['overall_accuracy']*100:.2f}%)\")\n",
    "    print(f\"Aspect Correct: {results['aspect_correct']} \"\n",
    "          f\"({results['aspect_accuracy']*100:.2f}%)\")\n",
    "    print(f\"Sentiment Correct: {results['sentiment_correct']} \"\n",
    "          f\"({results['sentiment_accuracy']*100:.2f}%)\")\n",
    "    print(\"\\nClassification Report:\")\n",
    "    print(results['classification_report'])\n",
    "    print(\"\\nConfusion Matrix:\")\n",
    "    print(results['confusion_matrix'])\n",
    "\n",
    "# Giả sử ABSADataModule đã được định nghĩa trước đó\n",
    "data_module = ABSADataModule(train_df, val_df, test_df)\n",
    "data_module.setup()\n",
    "test_dataloader = data_module.test_dataloader()\n",
    "\n",
    "# Đánh giá mô hình trên GPU\n",
    "results = evaluate_absa_model(model, test_dataloader, device='cuda' if torch.cuda.is_available() else 'cpu')\n",
    "print_absa_evaluation_results(results)"
   ]
  },
  {
   "cell_type": "code",
   "execution_count": null,
   "metadata": {},
   "outputs": [
    {
     "data": {
      "text/plain": [
       "({'precision': 0.7333333333333334,\n",
       "  'recall': 0.6733333333333333,\n",
       "  'f1-score': 0.6966666666666667},\n",
       " {'precision': 0.8529663608562692,\n",
       "  'recall': 0.8570374617737004,\n",
       "  'f1-score': 0.8501643730886851})"
      ]
     },
     "execution_count": 1,
     "metadata": {},
     "output_type": "execute_result"
    }
   ],
   "source": [
    "import numpy as np\n",
    "\n",
    "precision = np.array([0.88, 0.90, 0.78, 0.52])\n",
    "recall = np.array([0.90, 0.93, 0.74, 0.35])\n",
    "f1_score = np.array([0.89, 0.91, 0.76, 0.42])\n",
    "support = np.array([1303, 1985, 449, 182])\n",
    "\n",
    "precision = precision[1:]\n",
    "recall = recall[1:]\n",
    "f1_score = f1_score[1:]\n",
    "support = support[1:]\n",
    "\n",
    "macro_precision = np.mean(precision)\n",
    "macro_recall = np.mean(recall)\n",
    "macro_f1_score = np.mean(f1_score)\n",
    "\n",
    "weighted_precision = np.sum(precision * support) / np.sum(support)\n",
    "weighted_recall = np.sum(recall * support) / np.sum(support)\n",
    "weighted_f1_score = np.sum(f1_score * support) / np.sum(support)\n",
    "\n",
    "macro_avg = {\n",
    "    'precision': macro_precision,\n",
    "    'recall': macro_recall,\n",
    "    'f1-score': macro_f1_score\n",
    "}\n",
    "\n",
    "weighted_avg = {\n",
    "    'precision': weighted_precision,\n",
    "    'recall': weighted_recall,\n",
    "    'f1-score': weighted_f1_score\n",
    "}\n",
    "\n",
    "macro_avg, weighted_avg\n"
   ]
  },
  {
   "cell_type": "code",
   "execution_count": 51,
   "metadata": {
    "execution": {
     "iopub.execute_input": "2025-03-27T03:07:09.605597Z",
     "iopub.status.busy": "2025-03-27T03:07:09.605278Z",
     "iopub.status.idle": "2025-03-27T03:07:12.453563Z",
     "shell.execute_reply": "2025-03-27T03:07:12.452836Z",
     "shell.execute_reply.started": "2025-03-27T03:07:09.605572Z"
    },
    "trusted": true
   },
   "outputs": [
    {
     "name": "stdout",
     "output_type": "stream",
     "text": [
      "File kết quả đã được tạo tại: test_results.txt\n"
     ]
    }
   ],
   "source": [
    "def generate_result_file(test_df, output_file_path='test_results.txt'):\n",
    "    \"\"\"\n",
    "    Tạo file kết quả từ test_df theo định dạng yêu cầu.\n",
    "    \n",
    "    Parameters:\n",
    "    - test_df: DataFrame chứa dữ liệu test với các cột 'sentence', 'aspect', 'sentiment'\n",
    "    - output_file_path: Đường dẫn tới file kết quả\n",
    "    \"\"\"\n",
    "    # Nhóm theo sentence để tạo định dạng mong muốn\n",
    "    grouped = test_df.groupby('sentence')\n",
    "    \n",
    "    # Mở file để ghi\n",
    "    with open(output_file_path, 'w', encoding='utf-8') as f:\n",
    "        for idx, (sentence, group) in enumerate(grouped, 1):\n",
    "            # Ghi số thứ tự\n",
    "            f.write(f\"#{idx}\\n\")\n",
    "            # Ghi câu đánh giá\n",
    "            f.write(f\"{sentence}\\n\")\n",
    "            # Lọc các cặp aspect-sentiment (loại bỏ sentiment = 'none')\n",
    "            aspects_sentiments = group[group['sentiment'] != 'none'][['aspect', 'sentiment']]\n",
    "            # Tạo chuỗi các cặp {aspect, sentiment}\n",
    "            aspect_sentiment_pairs = [f\"{{{row['aspect']}, {row['sentiment']}}}\" \n",
    "                                    for _, row in aspects_sentiments.iterrows()]\n",
    "            # Ghi các cặp, cách nhau bằng dấu phẩy\n",
    "            f.write(\", \".join(aspect_sentiment_pairs) + \"\\n\\n\")\n",
    "    \n",
    "    print(f\"File kết quả đã được tạo tại: {output_file_path}\")\n",
    "\n",
    "generate_result_file(test_df, output_file_path='test_results.txt')"
   ]
  },
  {
   "cell_type": "code",
   "execution_count": null,
   "metadata": {
    "trusted": true
   },
   "outputs": [],
   "source": []
  }
 ],
 "metadata": {
  "kaggle": {
   "accelerator": "nvidiaTeslaT4",
   "dataSources": [
    {
     "datasetId": 6971140,
     "sourceId": 11170468,
     "sourceType": "datasetVersion"
    }
   ],
   "dockerImageVersionId": 30919,
   "isGpuEnabled": true,
   "isInternetEnabled": true,
   "language": "python",
   "sourceType": "notebook"
  },
  "kernelspec": {
   "display_name": "Python 3",
   "language": "python",
   "name": "python3"
  },
  "language_info": {
   "codemirror_mode": {
    "name": "ipython",
    "version": 3
   },
   "file_extension": ".py",
   "mimetype": "text/x-python",
   "name": "python",
   "nbconvert_exporter": "python",
   "pygments_lexer": "ipython3",
   "version": "3.11.9"
  }
 },
 "nbformat": 4,
 "nbformat_minor": 4
}
