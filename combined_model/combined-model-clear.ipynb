{
 "cells": [
  {
   "cell_type": "code",
   "execution_count": 1,
   "id": "9a49f597",
   "metadata": {
    "execution": {
     "iopub.execute_input": "2025-03-27T09:47:20.510491Z",
     "iopub.status.busy": "2025-03-27T09:47:20.510255Z",
     "iopub.status.idle": "2025-03-27T09:47:44.405843Z",
     "shell.execute_reply": "2025-03-27T09:47:44.404873Z"
    },
    "papermill": {
     "duration": 23.908515,
     "end_time": "2025-03-27T09:47:44.407932",
     "exception": false,
     "start_time": "2025-03-27T09:47:20.499417",
     "status": "completed"
    },
    "tags": []
   },
   "outputs": [],
   "source": [
    "import re\n",
    "import torch\n",
    "import numpy as np\n",
    "import pandas as pd\n",
    "from datasets import Dataset\n",
    "from sklearn.model_selection import train_test_split\n",
    "from sklearn.metrics import f1_score, accuracy_score\n",
    "from transformers import AutoTokenizer, AutoModelForSequenceClassification, TrainingArguments, Trainer\n",
    "from tqdm import tqdm\n",
    "import torch.nn as nn\n",
    "import torch.optim as optim\n",
    "from torch.utils.data import Dataset as TorchDataset, DataLoader\n",
    "from sklearn.preprocessing import MultiLabelBinarizer\n",
    "from transformers import AutoModel"
   ]
  },
  {
   "cell_type": "code",
   "execution_count": 2,
   "id": "c04dd3b5",
   "metadata": {
    "execution": {
     "iopub.execute_input": "2025-03-27T09:47:44.428443Z",
     "iopub.status.busy": "2025-03-27T09:47:44.427854Z",
     "iopub.status.idle": "2025-03-27T09:47:44.499825Z",
     "shell.execute_reply": "2025-03-27T09:47:44.498948Z"
    },
    "papermill": {
     "duration": 0.083649,
     "end_time": "2025-03-27T09:47:44.501143",
     "exception": false,
     "start_time": "2025-03-27T09:47:44.417494",
     "status": "completed"
    },
    "tags": []
   },
   "outputs": [],
   "source": [
    "# -----------------------------\n",
    "# Định nghĩa biến device và model_name\n",
    "# -----------------------------\n",
    "device = \"cuda\" if torch.cuda.is_available() else \"cpu\"\n",
    "model_name = \"vinai/phobert-base\""
   ]
  },
  {
   "cell_type": "code",
   "execution_count": 3,
   "id": "4f5c934d",
   "metadata": {
    "execution": {
     "iopub.execute_input": "2025-03-27T09:47:44.520736Z",
     "iopub.status.busy": "2025-03-27T09:47:44.520462Z",
     "iopub.status.idle": "2025-03-27T09:47:44.524222Z",
     "shell.execute_reply": "2025-03-27T09:47:44.523384Z"
    },
    "papermill": {
     "duration": 0.014414,
     "end_time": "2025-03-27T09:47:44.525538",
     "exception": false,
     "start_time": "2025-03-27T09:47:44.511124",
     "status": "completed"
    },
    "tags": []
   },
   "outputs": [],
   "source": [
    "# -----------------------------\n",
    "# Khai báo ánh xạ nhãn cảm xúc (Stage 2)\n",
    "# -----------------------------\n",
    "label_map = {\"negative\": 0, \"neutral\": 1, \"positive\": 2}\n",
    "inv_label_map = {v: k for k, v in label_map.items()}"
   ]
  },
  {
   "cell_type": "markdown",
   "id": "cb02c2e6",
   "metadata": {
    "papermill": {
     "duration": 0.008986,
     "end_time": "2025-03-27T09:47:44.543334",
     "exception": false,
     "start_time": "2025-03-27T09:47:44.534348",
     "status": "completed"
    },
    "tags": []
   },
   "source": [
    "## Stage 1: Huấn luyện model trích xuất aspect"
   ]
  },
  {
   "cell_type": "code",
   "execution_count": 4,
   "id": "652b178a",
   "metadata": {
    "execution": {
     "iopub.execute_input": "2025-03-27T09:47:44.561971Z",
     "iopub.status.busy": "2025-03-27T09:47:44.561691Z",
     "iopub.status.idle": "2025-03-27T09:47:44.565753Z",
     "shell.execute_reply": "2025-03-27T09:47:44.564990Z"
    },
    "papermill": {
     "duration": 0.014787,
     "end_time": "2025-03-27T09:47:44.566975",
     "exception": false,
     "start_time": "2025-03-27T09:47:44.552188",
     "status": "completed"
    },
    "tags": []
   },
   "outputs": [],
   "source": [
    "def read_file(file_path):\n",
    "    try:\n",
    "        with open(file_path, 'r', encoding='utf-8') as f:\n",
    "            return f.read().strip()\n",
    "    except Exception as e:\n",
    "        print(f\"Error: {e}\")\n",
    "        return \"\""
   ]
  },
  {
   "cell_type": "code",
   "execution_count": 5,
   "id": "92a227ad",
   "metadata": {
    "execution": {
     "iopub.execute_input": "2025-03-27T09:47:44.587004Z",
     "iopub.status.busy": "2025-03-27T09:47:44.586805Z",
     "iopub.status.idle": "2025-03-27T09:47:44.590762Z",
     "shell.execute_reply": "2025-03-27T09:47:44.590134Z"
    },
    "papermill": {
     "duration": 0.0145,
     "end_time": "2025-03-27T09:47:44.591931",
     "exception": false,
     "start_time": "2025-03-27T09:47:44.577431",
     "status": "completed"
    },
    "tags": []
   },
   "outputs": [],
   "source": [
    "# Phân tách các cặp aspect và sentiment\n",
    "def split_aspect(aspects):\n",
    "    list_sa = []\n",
    "    aspect_pairs = aspects.split('}, {')\n",
    "    for pair in aspect_pairs:\n",
    "        pair = pair.replace('{', '').replace('}', '')\n",
    "        parts = pair.split(', ')\n",
    "        if len(parts) == 2:\n",
    "            aspect, sentiment = parts\n",
    "            list_sa.append([aspect.strip(), sentiment.strip()])\n",
    "        else:\n",
    "            continue\n",
    "    return list_sa"
   ]
  },
  {
   "cell_type": "code",
   "execution_count": 6,
   "id": "bbfb3075",
   "metadata": {
    "execution": {
     "iopub.execute_input": "2025-03-27T09:47:44.609753Z",
     "iopub.status.busy": "2025-03-27T09:47:44.609515Z",
     "iopub.status.idle": "2025-03-27T09:47:44.613813Z",
     "shell.execute_reply": "2025-03-27T09:47:44.613175Z"
    },
    "papermill": {
     "duration": 0.014549,
     "end_time": "2025-03-27T09:47:44.615049",
     "exception": false,
     "start_time": "2025-03-27T09:47:44.600500",
     "status": "completed"
    },
    "tags": []
   },
   "outputs": [],
   "source": [
    "def list_data(file, aspect_list):\n",
    "    opinions = file.split('\\n\\n')\n",
    "    list_sa = []\n",
    "    for opinion in opinions:\n",
    "        if not opinion.strip():\n",
    "            continue\n",
    "        lines = opinion.split(\"\\n\")\n",
    "        if len(lines) < 3:\n",
    "            continue        \n",
    "        num, sentence, aspects = lines[0], lines[1], lines[2]\n",
    "        aspects = split_aspect(aspects)\n",
    "        if not aspects or len(aspects) < 2:\n",
    "            continue           \n",
    "        list_temp = [aspect[0] for aspect in aspects]\n",
    "        for aspect, sentiment in aspects:\n",
    "            item = {\"sentence\": sentence, \"aspects\": list_temp}\n",
    "            list_sa.append(item)\n",
    "    return list_sa"
   ]
  },
  {
   "cell_type": "code",
   "execution_count": 7,
   "id": "609a88d8",
   "metadata": {
    "execution": {
     "iopub.execute_input": "2025-03-27T09:47:44.633287Z",
     "iopub.status.busy": "2025-03-27T09:47:44.633091Z",
     "iopub.status.idle": "2025-03-27T09:47:44.788830Z",
     "shell.execute_reply": "2025-03-27T09:47:44.788101Z"
    },
    "papermill": {
     "duration": 0.166312,
     "end_time": "2025-03-27T09:47:44.790235",
     "exception": false,
     "start_time": "2025-03-27T09:47:44.623923",
     "status": "completed"
    },
    "tags": []
   },
   "outputs": [],
   "source": [
    "# Đường dẫn tới file dữ liệu (Stage 1 và Stage 2 dùng chung)\n",
    "data_path = \"/kaggle/input/food-review/final_data.txt\"\n",
    "data_content = read_file(data_path)\n",
    "all_aspects = [\"AMBIENCE\", \"PRICE\", \"FOOD\", \"SERVICE\", \"DELIVERY\"]\n",
    "all_data = list_data(data_content, all_aspects)"
   ]
  },
  {
   "cell_type": "code",
   "execution_count": 8,
   "id": "10fa0b0e",
   "metadata": {
    "execution": {
     "iopub.execute_input": "2025-03-27T09:47:44.810089Z",
     "iopub.status.busy": "2025-03-27T09:47:44.809823Z",
     "iopub.status.idle": "2025-03-27T09:47:47.071250Z",
     "shell.execute_reply": "2025-03-27T09:47:47.070236Z"
    },
    "papermill": {
     "duration": 2.272872,
     "end_time": "2025-03-27T09:47:47.072632",
     "exception": false,
     "start_time": "2025-03-27T09:47:44.799760",
     "status": "completed"
    },
    "tags": []
   },
   "outputs": [
    {
     "data": {
      "application/vnd.jupyter.widget-view+json": {
       "model_id": "edae35adf46541c5bd7f82b1ace57ccb",
       "version_major": 2,
       "version_minor": 0
      },
      "text/plain": [
       "config.json:   0%|          | 0.00/557 [00:00<?, ?B/s]"
      ]
     },
     "metadata": {},
     "output_type": "display_data"
    },
    {
     "data": {
      "application/vnd.jupyter.widget-view+json": {
       "model_id": "681497c80d284e088400582dfda58a48",
       "version_major": 2,
       "version_minor": 0
      },
      "text/plain": [
       "vocab.txt:   0%|          | 0.00/895k [00:00<?, ?B/s]"
      ]
     },
     "metadata": {},
     "output_type": "display_data"
    },
    {
     "data": {
      "application/vnd.jupyter.widget-view+json": {
       "model_id": "babd8a4e59944e088c3d2eda68709141",
       "version_major": 2,
       "version_minor": 0
      },
      "text/plain": [
       "bpe.codes:   0%|          | 0.00/1.14M [00:00<?, ?B/s]"
      ]
     },
     "metadata": {},
     "output_type": "display_data"
    },
    {
     "data": {
      "application/vnd.jupyter.widget-view+json": {
       "model_id": "ef549547e1d248a8af2a8d63651cb4d8",
       "version_major": 2,
       "version_minor": 0
      },
      "text/plain": [
       "tokenizer.json:   0%|          | 0.00/3.13M [00:00<?, ?B/s]"
      ]
     },
     "metadata": {},
     "output_type": "display_data"
    },
    {
     "name": "stdout",
     "output_type": "stream",
     "text": [
      "Các khía cạnh: ['AMBIENCE' 'PRICE' 'FOOD' 'SERVICE' 'DELIVERY']\n"
     ]
    }
   ],
   "source": [
    "# Sử dụng MultiLabelBinarizer để mã hóa các nhãn aspect (Stage 1)\n",
    "tokenizer = AutoTokenizer.from_pretrained(model_name)\n",
    "multi_aspect_binary = MultiLabelBinarizer(classes=all_aspects)\n",
    "aspects_encoded = multi_aspect_binary.fit_transform([item[\"aspects\"] for item in all_data])\n",
    "print(\"Các khía cạnh:\", multi_aspect_binary.classes_)"
   ]
  },
  {
   "cell_type": "code",
   "execution_count": 9,
   "id": "da4b7996",
   "metadata": {
    "execution": {
     "iopub.execute_input": "2025-03-27T09:47:47.092464Z",
     "iopub.status.busy": "2025-03-27T09:47:47.092198Z",
     "iopub.status.idle": "2025-03-27T09:47:47.098913Z",
     "shell.execute_reply": "2025-03-27T09:47:47.098198Z"
    },
    "papermill": {
     "duration": 0.017686,
     "end_time": "2025-03-27T09:47:47.100096",
     "exception": false,
     "start_time": "2025-03-27T09:47:47.082410",
     "status": "completed"
    },
    "tags": []
   },
   "outputs": [],
   "source": [
    "# Định nghĩa Dataset cho Stage 1\n",
    "class MultiAspectFeedbackDataset(TorchDataset):\n",
    "    def __init__(self, data, labels):\n",
    "        self.encodings = tokenizer([item[\"sentence\"] for item in data],\n",
    "                                   padding=True, truncation=True, max_length=128, return_tensors=\"pt\")\n",
    "        self.labels = torch.tensor(labels, dtype=torch.float)\n",
    "\n",
    "    def __len__(self):\n",
    "        return len(self.labels)\n",
    "\n",
    "    def __getitem__(self, idx):\n",
    "        item = {key: val[idx] for key, val in self.encodings.items()}\n",
    "        item[\"aspects\"] = self.labels[idx]\n",
    "        return item"
   ]
  },
  {
   "cell_type": "code",
   "execution_count": 10,
   "id": "34f6cb22",
   "metadata": {
    "execution": {
     "iopub.execute_input": "2025-03-27T09:47:47.119087Z",
     "iopub.status.busy": "2025-03-27T09:47:47.118872Z",
     "iopub.status.idle": "2025-03-27T09:47:58.959103Z",
     "shell.execute_reply": "2025-03-27T09:47:58.958243Z"
    },
    "papermill": {
     "duration": 11.85619,
     "end_time": "2025-03-27T09:47:58.965356",
     "exception": false,
     "start_time": "2025-03-27T09:47:47.109166",
     "status": "completed"
    },
    "tags": []
   },
   "outputs": [],
   "source": [
    "# Chia dữ liệu thành train và validation cho Stage 1\n",
    "train_sentences, val_sentences, train_aspects, val_aspects = train_test_split(\n",
    "    all_data, aspects_encoded, test_size=0.2, random_state=42\n",
    ")\n",
    "train_dataset_stage1 = MultiAspectFeedbackDataset(train_sentences, train_aspects)\n",
    "val_dataset_stage1 = MultiAspectFeedbackDataset(val_sentences, val_aspects)\n",
    "\n",
    "train_dataloader_stage1 = DataLoader(train_dataset_stage1, batch_size=16, shuffle=True)\n",
    "val_dataloader_stage1 = DataLoader(val_dataset_stage1, batch_size=16, shuffle=False)"
   ]
  },
  {
   "cell_type": "markdown",
   "id": "038b0940",
   "metadata": {
    "papermill": {
     "duration": 0.009038,
     "end_time": "2025-03-27T09:47:58.984998",
     "exception": false,
     "start_time": "2025-03-27T09:47:58.975960",
     "status": "completed"
    },
    "tags": []
   },
   "source": [
    "### Model PhoBERT cho multi-label classification (Stage 1)"
   ]
  },
  {
   "cell_type": "code",
   "execution_count": 11,
   "id": "b5da683e",
   "metadata": {
    "execution": {
     "iopub.execute_input": "2025-03-27T09:47:59.004235Z",
     "iopub.status.busy": "2025-03-27T09:47:59.003885Z",
     "iopub.status.idle": "2025-03-27T09:47:59.008971Z",
     "shell.execute_reply": "2025-03-27T09:47:59.008085Z"
    },
    "papermill": {
     "duration": 0.016304,
     "end_time": "2025-03-27T09:47:59.010411",
     "exception": false,
     "start_time": "2025-03-27T09:47:58.994107",
     "status": "completed"
    },
    "tags": []
   },
   "outputs": [],
   "source": [
    "class PhoBERTMultiLabelClassifier(nn.Module):\n",
    "    def __init__(self, num_labels):\n",
    "        super(PhoBERTMultiLabelClassifier, self).__init__()\n",
    "        self.phobert = AutoModel.from_pretrained(model_name)\n",
    "        self.dropout = nn.Dropout(0.3)\n",
    "        self.classifier = nn.Linear(self.phobert.config.hidden_size, num_labels)\n",
    "    \n",
    "    def forward(self, input_ids, attention_mask):\n",
    "        outputs = self.phobert(input_ids=input_ids, attention_mask=attention_mask)\n",
    "        pooled_output = outputs.last_hidden_state[:, 0, :]\n",
    "        pooled_output = self.dropout(pooled_output)\n",
    "        logits = self.classifier(pooled_output)\n",
    "        return logits"
   ]
  },
  {
   "cell_type": "code",
   "execution_count": 12,
   "id": "371d85c5",
   "metadata": {
    "execution": {
     "iopub.execute_input": "2025-03-27T09:47:59.031204Z",
     "iopub.status.busy": "2025-03-27T09:47:59.030985Z",
     "iopub.status.idle": "2025-03-27T09:48:02.971091Z",
     "shell.execute_reply": "2025-03-27T09:48:02.970044Z"
    },
    "papermill": {
     "duration": 3.951494,
     "end_time": "2025-03-27T09:48:02.972688",
     "exception": false,
     "start_time": "2025-03-27T09:47:59.021194",
     "status": "completed"
    },
    "tags": []
   },
   "outputs": [
    {
     "data": {
      "application/vnd.jupyter.widget-view+json": {
       "model_id": "1592a14a55f9465a8c867dc7c8b32597",
       "version_major": 2,
       "version_minor": 0
      },
      "text/plain": [
       "pytorch_model.bin:   0%|          | 0.00/543M [00:00<?, ?B/s]"
      ]
     },
     "metadata": {},
     "output_type": "display_data"
    }
   ],
   "source": [
    "model_stage1 = PhoBERTMultiLabelClassifier(num_labels=len(all_aspects)).to(device)\n",
    "criterion_stage1 = nn.BCEWithLogitsLoss()\n",
    "optimizer_stage1 = optim.AdamW(model_stage1.parameters(), lr=5e-5)"
   ]
  },
  {
   "cell_type": "code",
   "execution_count": 13,
   "id": "5bef4fc0",
   "metadata": {
    "execution": {
     "iopub.execute_input": "2025-03-27T09:48:02.992783Z",
     "iopub.status.busy": "2025-03-27T09:48:02.992492Z",
     "iopub.status.idle": "2025-03-27T09:48:02.998269Z",
     "shell.execute_reply": "2025-03-27T09:48:02.997662Z"
    },
    "papermill": {
     "duration": 0.017027,
     "end_time": "2025-03-27T09:48:02.999433",
     "exception": false,
     "start_time": "2025-03-27T09:48:02.982406",
     "status": "completed"
    },
    "tags": []
   },
   "outputs": [],
   "source": [
    "import matplotlib.pyplot as plt\n",
    "\n",
    "# Hàm huấn luyện Stage 1 (đã cập nhật để lưu loss theo epoch)\n",
    "def train_stage1(model, train_dataloader, device=\"cuda\", epochs=5):\n",
    "    model.train()\n",
    "    model.to(device)\n",
    "    epoch_losses = []  # Danh sách lưu loss trung bình mỗi epoch\n",
    "    for epoch in range(epochs):\n",
    "        total_loss = 0\n",
    "        print(f\"\\nEpoch {epoch+1}/{epochs} - Stage 1\")\n",
    "        progress_bar = tqdm(train_dataloader, total=len(train_dataloader), desc=f\"Epoch {epoch+1}\")\n",
    "        for batch in progress_bar:\n",
    "            optimizer_stage1.zero_grad()\n",
    "            input_ids = batch[\"input_ids\"].to(device)\n",
    "            attention_mask = batch[\"attention_mask\"].to(device)\n",
    "            labels = batch[\"aspects\"].to(device)\n",
    "            logits = model(input_ids, attention_mask)\n",
    "            loss = criterion_stage1(logits, labels)\n",
    "            loss.backward()\n",
    "            optimizer_stage1.step()\n",
    "            total_loss += loss.item()\n",
    "            progress_bar.set_postfix(loss=loss.item())\n",
    "        avg_loss = total_loss / len(train_dataloader)\n",
    "        epoch_losses.append(avg_loss)\n",
    "        print(f\"Stage 1 - Epoch {epoch+1} - Avg Loss: {avg_loss:.4f}\")\n",
    "    return model, epoch_losses\n"
   ]
  },
  {
   "cell_type": "code",
   "execution_count": 14,
   "id": "eb391809",
   "metadata": {
    "execution": {
     "iopub.execute_input": "2025-03-27T09:48:03.018350Z",
     "iopub.status.busy": "2025-03-27T09:48:03.018127Z",
     "iopub.status.idle": "2025-03-27T10:09:46.185315Z",
     "shell.execute_reply": "2025-03-27T10:09:46.184262Z"
    },
    "papermill": {
     "duration": 1303.178289,
     "end_time": "2025-03-27T10:09:46.186806",
     "exception": false,
     "start_time": "2025-03-27T09:48:03.008517",
     "status": "completed"
    },
    "tags": []
   },
   "outputs": [
    {
     "name": "stdout",
     "output_type": "stream",
     "text": [
      "\n",
      "Epoch 1/5 - Stage 1\n"
     ]
    },
    {
     "name": "stderr",
     "output_type": "stream",
     "text": [
      "Epoch 1: 100%|██████████| 1322/1322 [04:21<00:00,  5.06it/s, loss=0.189]\n"
     ]
    },
    {
     "name": "stdout",
     "output_type": "stream",
     "text": [
      "Stage 1 - Epoch 1 - Avg Loss: 0.1611\n",
      "\n",
      "Epoch 2/5 - Stage 1\n"
     ]
    },
    {
     "name": "stderr",
     "output_type": "stream",
     "text": [
      "Epoch 2: 100%|██████████| 1322/1322 [04:20<00:00,  5.08it/s, loss=0.144]\n"
     ]
    },
    {
     "name": "stdout",
     "output_type": "stream",
     "text": [
      "Stage 1 - Epoch 2 - Avg Loss: 0.0773\n",
      "\n",
      "Epoch 3/5 - Stage 1\n"
     ]
    },
    {
     "name": "stderr",
     "output_type": "stream",
     "text": [
      "Epoch 3: 100%|██████████| 1322/1322 [04:20<00:00,  5.07it/s, loss=0.0266]\n"
     ]
    },
    {
     "name": "stdout",
     "output_type": "stream",
     "text": [
      "Stage 1 - Epoch 3 - Avg Loss: 0.0462\n",
      "\n",
      "Epoch 4/5 - Stage 1\n"
     ]
    },
    {
     "name": "stderr",
     "output_type": "stream",
     "text": [
      "Epoch 4: 100%|██████████| 1322/1322 [04:20<00:00,  5.07it/s, loss=0.00604]\n"
     ]
    },
    {
     "name": "stdout",
     "output_type": "stream",
     "text": [
      "Stage 1 - Epoch 4 - Avg Loss: 0.0326\n",
      "\n",
      "Epoch 5/5 - Stage 1\n"
     ]
    },
    {
     "name": "stderr",
     "output_type": "stream",
     "text": [
      "Epoch 5: 100%|██████████| 1322/1322 [04:20<00:00,  5.07it/s, loss=0.0065]"
     ]
    },
    {
     "name": "stdout",
     "output_type": "stream",
     "text": [
      "Stage 1 - Epoch 5 - Avg Loss: 0.0265\n"
     ]
    },
    {
     "name": "stderr",
     "output_type": "stream",
     "text": [
      "\n"
     ]
    }
   ],
   "source": [
    "model, losses = train_stage1(model_stage1, train_dataloader_stage1, device=device, epochs=5)\n"
   ]
  },
  {
   "cell_type": "code",
   "execution_count": 15,
   "id": "f68ca8e2",
   "metadata": {
    "execution": {
     "iopub.execute_input": "2025-03-27T10:09:47.439864Z",
     "iopub.status.busy": "2025-03-27T10:09:47.439499Z",
     "iopub.status.idle": "2025-03-27T10:09:48.249387Z",
     "shell.execute_reply": "2025-03-27T10:09:48.248682Z"
    },
    "papermill": {
     "duration": 1.416001,
     "end_time": "2025-03-27T10:09:48.250937",
     "exception": false,
     "start_time": "2025-03-27T10:09:46.834936",
     "status": "completed"
    },
    "tags": []
   },
   "outputs": [],
   "source": [
    "# Lưu checkpoint Stage 1\n",
    "torch.save(model.state_dict(), \"./absa_aspect_model.pt\")"
   ]
  },
  {
   "cell_type": "code",
   "execution_count": 16,
   "id": "93bc4275",
   "metadata": {
    "execution": {
     "iopub.execute_input": "2025-03-27T10:09:49.483707Z",
     "iopub.status.busy": "2025-03-27T10:09:49.483202Z",
     "iopub.status.idle": "2025-03-27T10:09:49.805019Z",
     "shell.execute_reply": "2025-03-27T10:09:49.804193Z"
    },
    "papermill": {
     "duration": 0.911728,
     "end_time": "2025-03-27T10:09:49.806275",
     "exception": false,
     "start_time": "2025-03-27T10:09:48.894547",
     "status": "completed"
    },
    "tags": []
   },
   "outputs": [
    {
     "data": {
      "image/png": "[encoded data removed]",
      "text/plain": [
       "<Figure size 800x500 with 1 Axes>"
      ]
     },
     "metadata": {},
     "output_type": "display_data"
    }
   ],
   "source": [
    "# Vẽ đồ thị loss theo epoch\n",
    "plt.figure(figsize=(8, 5))\n",
    "plt.plot(range(1, len(losses)+1), losses, marker='o', linestyle='-', color='b')\n",
    "plt.xlabel(\"Epoch\")\n",
    "plt.ylabel(\"Average Loss\")\n",
    "plt.title(\"Training Loss for Stage 1\")\n",
    "plt.grid(True)\n",
    "plt.show()"
   ]
  },
  {
   "cell_type": "code",
   "execution_count": 17,
   "id": "566b8e77",
   "metadata": {
    "execution": {
     "iopub.execute_input": "2025-03-27T10:09:51.055938Z",
     "iopub.status.busy": "2025-03-27T10:09:51.055430Z",
     "iopub.status.idle": "2025-03-27T10:09:51.061288Z",
     "shell.execute_reply": "2025-03-27T10:09:51.060655Z"
    },
    "papermill": {
     "duration": 0.609896,
     "end_time": "2025-03-27T10:09:51.062645",
     "exception": false,
     "start_time": "2025-03-27T10:09:50.452749",
     "status": "completed"
    },
    "tags": []
   },
   "outputs": [],
   "source": [
    "def extract_aspects_stage1(review_text, model, tokenizer, device, threshold=0.5):\n",
    "    \"\"\"\n",
    "    Sử dụng model Stage 1 đã huấn luyện để trích xuất khía cạnh từ review.\n",
    "    - Token hóa review.\n",
    "    - Dự đoán các nhãn multi-label.\n",
    "    - Áp dụng sigmoid và threshold để xác định nhãn kích hoạt.\n",
    "    - Trích xuất tên khía cạnh (phần trước dấu gạch dưới nếu có).\n",
    "    \"\"\"\n",
    "    inputs = tokenizer(review_text, truncation=True, padding=\"max_length\", max_length=128, return_tensors=\"pt\")\n",
    "    if \"token_type_ids\" in inputs:\n",
    "        inputs.pop(\"token_type_ids\")\n",
    "    inputs = {k: v.to(device) for k, v in inputs.items()}\n",
    "    model.eval()\n",
    "    with torch.no_grad():\n",
    "        logits = model(**inputs)\n",
    "    probs = torch.sigmoid(logits)[0]\n",
    "    predicted_indices = (probs > threshold).nonzero(as_tuple=True)[0].tolist()\n",
    "    predicted_labels = [multi_aspect_binary.classes_[i] for i in predicted_indices]\n",
    "    aspects = list(set(label.split(\"_\")[0] for label in predicted_labels))\n",
    "    return aspects\n"
   ]
  },
  {
   "cell_type": "markdown",
   "id": "75e16219",
   "metadata": {
    "papermill": {
     "duration": 0.590497,
     "end_time": "2025-03-27T10:09:52.290230",
     "exception": false,
     "start_time": "2025-03-27T10:09:51.699733",
     "status": "completed"
    },
    "tags": []
   },
   "source": [
    "## Stage 2: Huấn luyện model phân loại cảm xúc"
   ]
  },
  {
   "cell_type": "code",
   "execution_count": 18,
   "id": "8ab8427c",
   "metadata": {
    "execution": {
     "iopub.execute_input": "2025-03-27T10:09:53.523144Z",
     "iopub.status.busy": "2025-03-27T10:09:53.522821Z",
     "iopub.status.idle": "2025-03-27T10:09:53.528507Z",
     "shell.execute_reply": "2025-03-27T10:09:53.527856Z"
    },
    "papermill": {
     "duration": 0.600001,
     "end_time": "2025-03-27T10:09:53.529817",
     "exception": false,
     "start_time": "2025-03-27T10:09:52.929816",
     "status": "completed"
    },
    "tags": []
   },
   "outputs": [],
   "source": [
    "# Xử lí data\n",
    "def load_and_preprocess_sentiment(file_path):\n",
    "    \"\"\"\n",
    "    Đọc và tiền xử lý dữ liệu từ final_data.txt.\n",
    "    Với mỗi cặp {aspect, sentiment}, tạo ví dụ với: \"review\", \"aspect\", \"label\".\n",
    "    \"\"\"\n",
    "    examples = []\n",
    "    with open(file_path, encoding=\"utf-8\") as f:\n",
    "        content = f.read().strip()\n",
    "    sample_texts = re.split(r'#\\d+\\s*\\n', content)[1:]\n",
    "    for sample in sample_texts:\n",
    "        lines = sample.strip().splitlines()\n",
    "        if len(lines) < 2:\n",
    "            continue\n",
    "        review = \" \".join(lines[:-1]).strip().lower()\n",
    "        labels_line = lines[-1].strip()\n",
    "        matches = re.findall(r\"\\{([^}]+)\\}\", labels_line)\n",
    "        for match in matches:\n",
    "            parts = [p.strip() for p in match.split(\",\")]\n",
    "            if len(parts) >= 2:\n",
    "                aspect = parts[0]\n",
    "                sentiment = parts[1].lower()\n",
    "                if sentiment in label_map:\n",
    "                    examples.append({\n",
    "                        \"review\": review,\n",
    "                        \"aspect\": aspect,\n",
    "                        \"label\": label_map[sentiment]\n",
    "                    })\n",
    "    return examples"
   ]
  },
  {
   "cell_type": "code",
   "execution_count": 19,
   "id": "d5e276ab",
   "metadata": {
    "execution": {
     "iopub.execute_input": "2025-03-27T10:09:54.776033Z",
     "iopub.status.busy": "2025-03-27T10:09:54.775670Z",
     "iopub.status.idle": "2025-03-27T10:09:54.919351Z",
     "shell.execute_reply": "2025-03-27T10:09:54.918286Z"
    },
    "papermill": {
     "duration": 0.729506,
     "end_time": "2025-03-27T10:09:54.920744",
     "exception": false,
     "start_time": "2025-03-27T10:09:54.191238",
     "status": "completed"
    },
    "tags": []
   },
   "outputs": [
    {
     "name": "stdout",
     "output_type": "stream",
     "text": [
      "Stage 2: Đã tải 28948 ví dụ cho phân loại cảm xúc.\n"
     ]
    }
   ],
   "source": [
    "sentiment_examples = load_and_preprocess_sentiment(data_path)\n",
    "print(f\"Stage 2: Đã tải {len(sentiment_examples)} ví dụ cho phân loại cảm xúc.\")"
   ]
  },
  {
   "cell_type": "code",
   "execution_count": 20,
   "id": "211737c6",
   "metadata": {
    "execution": {
     "iopub.execute_input": "2025-03-27T10:09:56.154446Z",
     "iopub.status.busy": "2025-03-27T10:09:56.154158Z",
     "iopub.status.idle": "2025-03-27T10:09:56.157844Z",
     "shell.execute_reply": "2025-03-27T10:09:56.156962Z"
    },
    "papermill": {
     "duration": 0.604762,
     "end_time": "2025-03-27T10:09:56.159067",
     "exception": false,
     "start_time": "2025-03-27T10:09:55.554305",
     "status": "completed"
    },
    "tags": []
   },
   "outputs": [],
   "source": [
    "if len(sentiment_examples) == 0:\n",
    "    raise ValueError(\"Không có ví dụ cho Stage 2. Kiểm tra lại file dữ liệu và hàm tiền xử lý.\")"
   ]
  },
  {
   "cell_type": "code",
   "execution_count": 21,
   "id": "618b2edc",
   "metadata": {
    "execution": {
     "iopub.execute_input": "2025-03-27T10:09:57.415501Z",
     "iopub.status.busy": "2025-03-27T10:09:57.414968Z",
     "iopub.status.idle": "2025-03-27T10:09:57.429116Z",
     "shell.execute_reply": "2025-03-27T10:09:57.428338Z"
    },
    "papermill": {
     "duration": 0.638441,
     "end_time": "2025-03-27T10:09:57.430576",
     "exception": false,
     "start_time": "2025-03-27T10:09:56.792135",
     "status": "completed"
    },
    "tags": []
   },
   "outputs": [
    {
     "name": "stdout",
     "output_type": "stream",
     "text": [
      "Tập Stage 2 - train: 23158, val: 5790\n"
     ]
    }
   ],
   "source": [
    "# Chia data (cùng tỉ lệ với stage 1)\n",
    "train_sentiment, val_sentiment = train_test_split(sentiment_examples, test_size=0.2, random_state=42)\n",
    "print(f\"Tập Stage 2 - train: {len(train_sentiment)}, val: {len(val_sentiment)}\")"
   ]
  },
  {
   "cell_type": "code",
   "execution_count": 22,
   "id": "124ad51a",
   "metadata": {
    "execution": {
     "iopub.execute_input": "2025-03-27T10:09:58.653180Z",
     "iopub.status.busy": "2025-03-27T10:09:58.652859Z",
     "iopub.status.idle": "2025-03-27T10:09:58.657247Z",
     "shell.execute_reply": "2025-03-27T10:09:58.656425Z"
    },
    "papermill": {
     "duration": 0.590499,
     "end_time": "2025-03-27T10:09:58.658646",
     "exception": false,
     "start_time": "2025-03-27T10:09:58.068147",
     "status": "completed"
    },
    "tags": []
   },
   "outputs": [],
   "source": [
    "# Hàm tạo ground truth cho tập validation Stage 2\n",
    "def build_ground_truth(val_examples):\n",
    "    gt_dict = {}\n",
    "    for ex in val_examples:\n",
    "        review = ex[\"review\"]\n",
    "        aspect = ex[\"aspect\"]\n",
    "        sentiment_str = inv_label_map[ex[\"label\"]]\n",
    "        if review not in gt_dict:\n",
    "            gt_dict[review] = {}\n",
    "        gt_dict[review][aspect] = sentiment_str\n",
    "    return gt_dict"
   ]
  },
  {
   "cell_type": "code",
   "execution_count": 23,
   "id": "73cb3946",
   "metadata": {
    "execution": {
     "iopub.execute_input": "2025-03-27T10:09:59.877499Z",
     "iopub.status.busy": "2025-03-27T10:09:59.877214Z",
     "iopub.status.idle": "2025-03-27T10:09:59.904440Z",
     "shell.execute_reply": "2025-03-27T10:09:59.903322Z"
    },
    "papermill": {
     "duration": 0.61343,
     "end_time": "2025-03-27T10:09:59.905978",
     "exception": false,
     "start_time": "2025-03-27T10:09:59.292548",
     "status": "completed"
    },
    "tags": []
   },
   "outputs": [
    {
     "name": "stdout",
     "output_type": "stream",
     "text": [
      "Tập validation ground truth (Stage 2):\n",
      "                                              review          ground_truth\n",
      "0  lần nào đi đl mình cũng ghé đây ăn trưa thức ă...  {'FOOD': 'positive'}\n",
      "1  quán này lần đầu ăn đi hơi khó tìm quàn nằm tr...  {'FOOD': 'positive'}\n",
      "2  cảnh đẹp nước uống không ngon minh uống nước s...  {'FOOD': 'negative'}\n",
      "3  quán lúc nào cũng đông kkk lẩu bò ngon lúc đầu...  {'FOOD': 'positive'}\n",
      "4  đà lạt có rất nhiều quán phở trong đó tôi đã đ...  {'FOOD': 'positive'}\n"
     ]
    }
   ],
   "source": [
    "val_gt = build_ground_truth(val_sentiment)\n",
    "val_df = pd.DataFrame(list(val_gt.items()), columns=[\"review\", \"ground_truth\"])\n",
    "print(\"Tập validation ground truth (Stage 2):\")\n",
    "print(val_df.head())"
   ]
  },
  {
   "cell_type": "code",
   "execution_count": 24,
   "id": "27fe22d3",
   "metadata": {
    "execution": {
     "iopub.execute_input": "2025-03-27T10:10:01.155076Z",
     "iopub.status.busy": "2025-03-27T10:10:01.154777Z",
     "iopub.status.idle": "2025-03-27T10:10:01.317500Z",
     "shell.execute_reply": "2025-03-27T10:10:01.316839Z"
    },
    "papermill": {
     "duration": 0.764633,
     "end_time": "2025-03-27T10:10:01.318957",
     "exception": false,
     "start_time": "2025-03-27T10:10:00.554324",
     "status": "completed"
    },
    "tags": []
   },
   "outputs": [],
   "source": [
    "# Chuyển dữ liệu Stage 2 thành dataset dùng thư viện datasets\n",
    "raw_dataset_stage2 = Dataset.from_dict({\n",
    "    \"review\": [ex[\"review\"] for ex in sentiment_examples],\n",
    "    \"aspect\": [ex[\"aspect\"] for ex in sentiment_examples],\n",
    "    \"label\": [ex[\"label\"] for ex in sentiment_examples]\n",
    "})"
   ]
  },
  {
   "cell_type": "code",
   "execution_count": 25,
   "id": "9e3c45b7",
   "metadata": {
    "execution": {
     "iopub.execute_input": "2025-03-27T10:10:02.532574Z",
     "iopub.status.busy": "2025-03-27T10:10:02.532270Z",
     "iopub.status.idle": "2025-03-27T10:10:04.377954Z",
     "shell.execute_reply": "2025-03-27T10:10:04.376983Z"
    },
    "papermill": {
     "duration": 2.42815,
     "end_time": "2025-03-27T10:10:04.379337",
     "exception": false,
     "start_time": "2025-03-27T10:10:01.951187",
     "status": "completed"
    },
    "tags": []
   },
   "outputs": [
    {
     "data": {
      "application/vnd.jupyter.widget-view+json": {
       "model_id": "aad8fe2d72d64ab8a6b5fb41f7cf9b31",
       "version_major": 2,
       "version_minor": 0
      },
      "text/plain": [
       "Map:   0%|          | 0/28948 [00:00<?, ? examples/s]"
      ]
     },
     "metadata": {},
     "output_type": "display_data"
    },
    {
     "name": "stdout",
     "output_type": "stream",
     "text": [
      "Dataset({\n",
      "    features: ['review', 'aspect', 'label', 'text'],\n",
      "    num_rows: 28948\n",
      "})\n"
     ]
    }
   ],
   "source": [
    "# Kết hợp review và aspect thành một text duy nhất\n",
    "def combine_review_aspect(example):\n",
    "    example[\"text\"] = \"Review: \" + example[\"review\"] + \" | Aspect: \" + example[\"aspect\"]\n",
    "    return example\n",
    "\n",
    "dataset_stage2 = raw_dataset_stage2.map(combine_review_aspect)\n",
    "print(dataset_stage2)"
   ]
  },
  {
   "cell_type": "code",
   "execution_count": 26,
   "id": "add4472b",
   "metadata": {
    "execution": {
     "iopub.execute_input": "2025-03-27T10:10:05.618191Z",
     "iopub.status.busy": "2025-03-27T10:10:05.617901Z",
     "iopub.status.idle": "2025-03-27T10:10:23.451877Z",
     "shell.execute_reply": "2025-03-27T10:10:23.450982Z"
    },
    "papermill": {
     "duration": 18.42904,
     "end_time": "2025-03-27T10:10:23.453269",
     "exception": false,
     "start_time": "2025-03-27T10:10:05.024229",
     "status": "completed"
    },
    "tags": []
   },
   "outputs": [
    {
     "data": {
      "application/vnd.jupyter.widget-view+json": {
       "model_id": "d42d191f470042c287d75e05e5f88635",
       "version_major": 2,
       "version_minor": 0
      },
      "text/plain": [
       "Map:   0%|          | 0/28948 [00:00<?, ? examples/s]"
      ]
     },
     "metadata": {},
     "output_type": "display_data"
    }
   ],
   "source": [
    "# Tokenize dữ liệu Stage 2\n",
    "tokenizer = AutoTokenizer.from_pretrained(model_name)\n",
    "def tokenize_function(example):\n",
    "    return tokenizer(example[\"text\"], truncation=True, padding=\"max_length\", max_length=256)\n",
    "tokenized_dataset_stage2 = dataset_stage2.map(tokenize_function, batched=True)\n",
    "split_dataset_stage2 = tokenized_dataset_stage2.train_test_split(test_size=0.2, seed=42)\n",
    "train_dataset_stage2 = split_dataset_stage2[\"train\"]\n",
    "val_dataset_stage2 = split_dataset_stage2[\"test\"]"
   ]
  },
  {
   "cell_type": "markdown",
   "id": "76681f30",
   "metadata": {
    "papermill": {
     "duration": 0.59167,
     "end_time": "2025-03-27T10:10:24.715918",
     "exception": false,
     "start_time": "2025-03-27T10:10:24.124248",
     "status": "completed"
    },
    "tags": []
   },
   "source": [
    "### Load model stage 2"
   ]
  },
  {
   "cell_type": "code",
   "execution_count": 27,
   "id": "1e90f7cc",
   "metadata": {
    "execution": {
     "iopub.execute_input": "2025-03-27T10:10:25.942837Z",
     "iopub.status.busy": "2025-03-27T10:10:25.942517Z",
     "iopub.status.idle": "2025-03-27T10:10:28.391676Z",
     "shell.execute_reply": "2025-03-27T10:10:28.390561Z"
    },
    "papermill": {
     "duration": 3.039189,
     "end_time": "2025-03-27T10:10:28.393191",
     "exception": false,
     "start_time": "2025-03-27T10:10:25.354002",
     "status": "completed"
    },
    "tags": []
   },
   "outputs": [
    {
     "name": "stderr",
     "output_type": "stream",
     "text": [
      "Some weights of RobertaForSequenceClassification were not initialized from the model checkpoint at vinai/phobert-base and are newly initialized: ['classifier.dense.bias', 'classifier.dense.weight', 'classifier.out_proj.bias', 'classifier.out_proj.weight']\n",
      "You should probably TRAIN this model on a down-stream task to be able to use it for predictions and inference.\n",
      "<ipython-input-27-bf75a7796d1e>:9: FutureWarning: You are using `torch.load` with `weights_only=False` (the current default value), which uses the default pickle module implicitly. It is possible to construct malicious pickle data which will execute arbitrary code during unpickling (See https://github.com/pytorch/pytorch/blob/main/SECURITY.md#untrusted-models for more details). In a future release, the default value for `weights_only` will be flipped to `True`. This limits the functions that could be executed during unpickling. Arbitrary objects will no longer be allowed to be loaded via this mode unless they are explicitly allowlisted by the user via `torch.serialization.add_safe_globals`. We recommend you start setting `weights_only=True` for any use case where you don't have full control of the loaded file. Please open an issue on GitHub for any issues related to this experimental feature.\n",
      "  state_dict = torch.load(checkpoint_path)\n"
     ]
    },
    {
     "data": {
      "text/plain": [
       "RobertaForSequenceClassification(\n",
       "  (roberta): RobertaModel(\n",
       "    (embeddings): RobertaEmbeddings(\n",
       "      (word_embeddings): Embedding(64001, 768, padding_idx=1)\n",
       "      (position_embeddings): Embedding(258, 768, padding_idx=1)\n",
       "      (token_type_embeddings): Embedding(1, 768)\n",
       "      (LayerNorm): LayerNorm((768,), eps=1e-05, elementwise_affine=True)\n",
       "      (dropout): Dropout(p=0.1, inplace=False)\n",
       "    )\n",
       "    (encoder): RobertaEncoder(\n",
       "      (layer): ModuleList(\n",
       "        (0-11): 12 x RobertaLayer(\n",
       "          (attention): RobertaAttention(\n",
       "            (self): RobertaSdpaSelfAttention(\n",
       "              (query): Linear(in_features=768, out_features=768, bias=True)\n",
       "              (key): Linear(in_features=768, out_features=768, bias=True)\n",
       "              (value): Linear(in_features=768, out_features=768, bias=True)\n",
       "              (dropout): Dropout(p=0.1, inplace=False)\n",
       "            )\n",
       "            (output): RobertaSelfOutput(\n",
       "              (dense): Linear(in_features=768, out_features=768, bias=True)\n",
       "              (LayerNorm): LayerNorm((768,), eps=1e-05, elementwise_affine=True)\n",
       "              (dropout): Dropout(p=0.1, inplace=False)\n",
       "            )\n",
       "          )\n",
       "          (intermediate): RobertaIntermediate(\n",
       "            (dense): Linear(in_features=768, out_features=3072, bias=True)\n",
       "            (intermediate_act_fn): GELUActivation()\n",
       "          )\n",
       "          (output): RobertaOutput(\n",
       "            (dense): Linear(in_features=3072, out_features=768, bias=True)\n",
       "            (LayerNorm): LayerNorm((768,), eps=1e-05, elementwise_affine=True)\n",
       "            (dropout): Dropout(p=0.1, inplace=False)\n",
       "          )\n",
       "        )\n",
       "      )\n",
       "    )\n",
       "  )\n",
       "  (classifier): RobertaClassificationHead(\n",
       "    (dense): Linear(in_features=768, out_features=768, bias=True)\n",
       "    (dropout): Dropout(p=0.1, inplace=False)\n",
       "    (out_proj): Linear(in_features=768, out_features=3, bias=True)\n",
       "  )\n",
       ")"
      ]
     },
     "execution_count": 27,
     "metadata": {},
     "output_type": "execute_result"
    }
   ],
   "source": [
    "# Load model Stage 2 từ base model và load trọng số encoder từ checkpoint Stage 1.\n",
    "checkpoint_path = \"./absa_aspect_model.pt\"\n",
    "model_stage2 = AutoModelForSequenceClassification.from_pretrained(\n",
    "    model_name,\n",
    "    num_labels=3,\n",
    "    problem_type=\"single_label_classification\",\n",
    "    ignore_mismatched_sizes=True\n",
    ")\n",
    "state_dict = torch.load(checkpoint_path)\n",
    "new_state_dict = {k: v for k, v in state_dict.items() if not k.startswith(\"classifier\")}\n",
    "model_stage2.load_state_dict(new_state_dict, strict=False)\n",
    "model_stage2.to(device)"
   ]
  },
  {
   "cell_type": "code",
   "execution_count": 28,
   "id": "60bed1e8",
   "metadata": {
    "execution": {
     "iopub.execute_input": "2025-03-27T10:10:29.691458Z",
     "iopub.status.busy": "2025-03-27T10:10:29.691087Z",
     "iopub.status.idle": "2025-03-27T10:10:29.723068Z",
     "shell.execute_reply": "2025-03-27T10:10:29.722109Z"
    },
    "papermill": {
     "duration": 0.663326,
     "end_time": "2025-03-27T10:10:29.724375",
     "exception": false,
     "start_time": "2025-03-27T10:10:29.061049",
     "status": "completed"
    },
    "tags": []
   },
   "outputs": [
    {
     "name": "stderr",
     "output_type": "stream",
     "text": [
      "/usr/local/lib/python3.10/dist-packages/transformers/training_args.py:1575: FutureWarning: `evaluation_strategy` is deprecated and will be removed in version 4.46 of 🤗 Transformers. Use `eval_strategy` instead\n",
      "  warnings.warn(\n"
     ]
    }
   ],
   "source": [
    "# Cấu hình TrainingArguments cho Stage 2\n",
    "training_args_stage2 = TrainingArguments(\n",
    "    output_dir=\"./aspect_sentiment_model\",\n",
    "    num_train_epochs=5,\n",
    "    per_device_train_batch_size=8,\n",
    "    per_device_eval_batch_size=8,\n",
    "    evaluation_strategy=\"epoch\",\n",
    "    save_strategy=\"epoch\",\n",
    "    logging_steps=10,\n",
    "    load_best_model_at_end=True,\n",
    "    report_to=[]\n",
    ")"
   ]
  },
  {
   "cell_type": "code",
   "execution_count": 29,
   "id": "80b4d756",
   "metadata": {
    "execution": {
     "iopub.execute_input": "2025-03-27T10:10:30.971515Z",
     "iopub.status.busy": "2025-03-27T10:10:30.971217Z",
     "iopub.status.idle": "2025-03-27T10:10:30.975330Z",
     "shell.execute_reply": "2025-03-27T10:10:30.974658Z"
    },
    "papermill": {
     "duration": 0.603768,
     "end_time": "2025-03-27T10:10:30.976502",
     "exception": false,
     "start_time": "2025-03-27T10:10:30.372734",
     "status": "completed"
    },
    "tags": []
   },
   "outputs": [],
   "source": [
    "def compute_metrics_stage2(eval_pred):\n",
    "    logits, labels = eval_pred\n",
    "    predictions = logits.argmax(axis=-1)\n",
    "    accuracy = (predictions == labels).mean()\n",
    "    return {\"accuracy\": accuracy}\n"
   ]
  },
  {
   "cell_type": "code",
   "execution_count": 30,
   "id": "c392dde6",
   "metadata": {
    "execution": {
     "iopub.execute_input": "2025-03-27T10:10:32.218268Z",
     "iopub.status.busy": "2025-03-27T10:10:32.217916Z",
     "iopub.status.idle": "2025-03-27T11:06:40.472844Z",
     "shell.execute_reply": "2025-03-27T11:06:40.471525Z"
    },
    "papermill": {
     "duration": 3368.850761,
     "end_time": "2025-03-27T11:06:40.475063",
     "exception": false,
     "start_time": "2025-03-27T10:10:31.624302",
     "status": "completed"
    },
    "tags": []
   },
   "outputs": [
    {
     "name": "stderr",
     "output_type": "stream",
     "text": [
      "/usr/local/lib/python3.10/dist-packages/transformers/training_args.py:1575: FutureWarning: `evaluation_strategy` is deprecated and will be removed in version 4.46 of 🤗 Transformers. Use `eval_strategy` instead\n",
      "  warnings.warn(\n"
     ]
    },
    {
     "data": {
      "text/html": [
       "\n",
       "    <div>\n",
       "      \n",
       "      <progress value='14475' max='14475' style='width:300px; height:20px; vertical-align: middle;'></progress>\n",
       "      [14475/14475 56:06, Epoch 5/5]\n",
       "    </div>\n",
       "    <table border=\"1\" class=\"dataframe\">\n",
       "  <thead>\n",
       " <tr style=\"text-align: left;\">\n",
       "      <th>Epoch</th>\n",
       "      <th>Training Loss</th>\n",
       "      <th>Validation Loss</th>\n",
       "      <th>Accuracy</th>\n",
       "    </tr>\n",
       "  </thead>\n",
       "  <tbody>\n",
       "    <tr>\n",
       "      <td>1</td>\n",
       "      <td>0.487200</td>\n",
       "      <td>0.492715</td>\n",
       "      <td>0.855268</td>\n",
       "    </tr>\n",
       "    <tr>\n",
       "      <td>2</td>\n",
       "      <td>0.356500</td>\n",
       "      <td>0.440674</td>\n",
       "      <td>0.873748</td>\n",
       "    </tr>\n",
       "    <tr>\n",
       "      <td>3</td>\n",
       "      <td>0.199200</td>\n",
       "      <td>0.368026</td>\n",
       "      <td>0.897927</td>\n",
       "    </tr>\n",
       "    <tr>\n",
       "      <td>4</td>\n",
       "      <td>0.246200</td>\n",
       "      <td>0.372716</td>\n",
       "      <td>0.900518</td>\n",
       "    </tr>\n",
       "    <tr>\n",
       "      <td>5</td>\n",
       "      <td>0.204700</td>\n",
       "      <td>0.401167</td>\n",
       "      <td>0.910017</td>\n",
       "    </tr>\n",
       "  </tbody>\n",
       "</table><p>"
      ],
      "text/plain": [
       "<IPython.core.display.HTML object>"
      ]
     },
     "metadata": {},
     "output_type": "display_data"
    }
   ],
   "source": [
    "training_args_stage2 = TrainingArguments(\n",
    "    output_dir=\"./aspect_sentiment_model\",\n",
    "    num_train_epochs=5,\n",
    "    per_device_train_batch_size=8,\n",
    "    per_device_eval_batch_size=8,\n",
    "    evaluation_strategy=\"epoch\",\n",
    "    save_strategy=\"epoch\",\n",
    "    logging_steps=10,\n",
    "    load_best_model_at_end=True,          # Tự động load checkpoint tốt nhất sau huấn luyện\n",
    "    metric_for_best_model=\"accuracy\",      # Sử dụng accuracy để so sánh\n",
    "    greater_is_better=True,                # Accuracy càng cao càng tốt\n",
    "    report_to=[]\n",
    ")\n",
    "\n",
    "trainer_stage2 = Trainer(\n",
    "    model=model_stage2,\n",
    "    args=training_args_stage2,\n",
    "    train_dataset=train_dataset_stage2,\n",
    "    eval_dataset=val_dataset_stage2,\n",
    "    compute_metrics=compute_metrics_stage2\n",
    ")\n",
    "\n",
    "trainer_stage2.train()\n",
    "trainer_stage2.save_model(\"./aspect_sentiment_model\")"
   ]
  },
  {
   "cell_type": "code",
   "execution_count": 31,
   "id": "65ad0069",
   "metadata": {
    "execution": {
     "iopub.execute_input": "2025-03-27T11:06:41.771926Z",
     "iopub.status.busy": "2025-03-27T11:06:41.771612Z",
     "iopub.status.idle": "2025-03-27T11:06:41.775029Z",
     "shell.execute_reply": "2025-03-27T11:06:41.774348Z"
    },
    "papermill": {
     "duration": 0.612272,
     "end_time": "2025-03-27T11:06:41.776470",
     "exception": false,
     "start_time": "2025-03-27T11:06:41.164198",
     "status": "completed"
    },
    "tags": []
   },
   "outputs": [],
   "source": [
    "# Sau khi trainer_stage2.train() đã chạy xong, trainer_stage2.state.log_history chứa log training.\n",
    "logs = trainer_stage2.state.log_history"
   ]
  },
  {
   "cell_type": "code",
   "execution_count": 32,
   "id": "c18395ac",
   "metadata": {
    "execution": {
     "iopub.execute_input": "2025-03-27T11:06:43.081637Z",
     "iopub.status.busy": "2025-03-27T11:06:43.081284Z",
     "iopub.status.idle": "2025-03-27T11:06:43.084846Z",
     "shell.execute_reply": "2025-03-27T11:06:43.084196Z"
    },
    "papermill": {
     "duration": 0.624829,
     "end_time": "2025-03-27T11:06:43.086168",
     "exception": false,
     "start_time": "2025-03-27T11:06:42.461339",
     "status": "completed"
    },
    "tags": []
   },
   "outputs": [],
   "source": [
    "# Lấy log training loss theo từng bước\n",
    "train_steps = []\n",
    "train_losses = []\n",
    "# Lấy log evaluation loss và evaluation accuracy tại mỗi epoch\n",
    "eval_epochs = []\n",
    "eval_losses = []\n",
    "eval_accuracies = []"
   ]
  },
  {
   "cell_type": "code",
   "execution_count": 33,
   "id": "4bc0c320",
   "metadata": {
    "execution": {
     "iopub.execute_input": "2025-03-27T11:06:44.431575Z",
     "iopub.status.busy": "2025-03-27T11:06:44.431276Z",
     "iopub.status.idle": "2025-03-27T11:06:44.436373Z",
     "shell.execute_reply": "2025-03-27T11:06:44.435723Z"
    },
    "papermill": {
     "duration": 0.633321,
     "end_time": "2025-03-27T11:06:44.437739",
     "exception": false,
     "start_time": "2025-03-27T11:06:43.804418",
     "status": "completed"
    },
    "tags": []
   },
   "outputs": [],
   "source": [
    "for log in logs:\n",
    "    # Lấy log training loss\n",
    "    if \"loss\" in log and \"step\" in log:\n",
    "        train_steps.append(log[\"step\"])\n",
    "        train_losses.append(log[\"loss\"])\n",
    "    # Lấy log evaluation: có eval_loss và eval_accuracy cùng với epoch\n",
    "    if \"eval_loss\" in log and \"epoch\" in log:\n",
    "        eval_epochs.append(log[\"epoch\"])\n",
    "        eval_losses.append(log[\"eval_loss\"])\n",
    "        # Một số log có eval_accuracy, nếu không có thì bỏ qua\n",
    "        if \"eval_accuracy\" in log:\n",
    "            eval_accuracies.append(log[\"eval_accuracy\"])"
   ]
  },
  {
   "cell_type": "code",
   "execution_count": 34,
   "id": "6dcf7646",
   "metadata": {
    "execution": {
     "iopub.execute_input": "2025-03-27T11:06:45.723784Z",
     "iopub.status.busy": "2025-03-27T11:06:45.723475Z",
     "iopub.status.idle": "2025-03-27T11:06:46.123993Z",
     "shell.execute_reply": "2025-03-27T11:06:46.123132Z"
    },
    "papermill": {
     "duration": 1.061748,
     "end_time": "2025-03-27T11:06:46.125391",
     "exception": false,
     "start_time": "2025-03-27T11:06:45.063643",
     "status": "completed"
    },
    "tags": []
   },
   "outputs": [
    {
     "data": {
      "image/png": "[encoded data removed]",
      "text/plain": [
       "<Figure size 1000x400 with 2 Axes>"
      ]
     },
     "metadata": {},
     "output_type": "display_data"
    }
   ],
   "source": [
    "# Vẽ đồ thị training loss cho Stage 2 theo các bước training\n",
    "plt.figure(figsize=(10, 4))\n",
    "plt.subplot(1, 2, 1)\n",
    "plt.plot(train_steps, train_losses, marker='o', linestyle='-', color='blue')\n",
    "plt.xlabel(\"Training Step\")\n",
    "plt.ylabel(\"Training Loss\")\n",
    "plt.title(\"Stage 2 - Training Loss\")\n",
    "plt.grid(True)\n",
    "\n",
    "# Vẽ đồ thị evaluation loss theo epoch cho Stage 2\n",
    "plt.subplot(1, 2, 2)\n",
    "plt.plot(eval_epochs, eval_losses, marker='o', linestyle='-', color='red', label=\"Eval Loss\")\n",
    "if eval_accuracies:  # Nếu có dữ liệu accuracy, ta cũng vẽ\n",
    "    plt.plot(eval_epochs, eval_accuracies, marker='x', linestyle='--', color='green', label=\"Eval Accuracy\")\n",
    "plt.xlabel(\"Epoch\")\n",
    "plt.ylabel(\"Evaluation Metrics\")\n",
    "plt.title(\"Stage 2 - Evaluation Loss & Accuracy\")\n",
    "plt.legend()\n",
    "plt.grid(True)\n",
    "\n",
    "plt.tight_layout()\n",
    "plt.show()"
   ]
  },
  {
   "cell_type": "markdown",
   "id": "8dcc168d",
   "metadata": {
    "papermill": {
     "duration": 0.599779,
     "end_time": "2025-03-27T11:06:47.384133",
     "exception": false,
     "start_time": "2025-03-27T11:06:46.784354",
     "status": "completed"
    },
    "tags": []
   },
   "source": [
    "## Đánh giá: "
   ]
  },
  {
   "cell_type": "code",
   "execution_count": 35,
   "id": "090d162d",
   "metadata": {
    "execution": {
     "iopub.execute_input": "2025-03-27T11:06:48.645995Z",
     "iopub.status.busy": "2025-03-27T11:06:48.645701Z",
     "iopub.status.idle": "2025-03-27T11:06:48.685029Z",
     "shell.execute_reply": "2025-03-27T11:06:48.684346Z"
    },
    "papermill": {
     "duration": 0.700072,
     "end_time": "2025-03-27T11:06:48.686350",
     "exception": false,
     "start_time": "2025-03-27T11:06:47.986278",
     "status": "completed"
    },
    "tags": []
   },
   "outputs": [],
   "source": [
    "data_path = \"/kaggle/input/food-review/final_data.txt\"  # Adjust path if necessary\n",
    "file_content = read_file(data_path)"
   ]
  },
  {
   "cell_type": "markdown",
   "id": "90348480",
   "metadata": {
    "papermill": {
     "duration": 0.646906,
     "end_time": "2025-03-27T11:06:49.938484",
     "exception": false,
     "start_time": "2025-03-27T11:06:49.291578",
     "status": "completed"
    },
    "tags": []
   },
   "source": [
    "### Đánh giá riêng Stage 1"
   ]
  },
  {
   "cell_type": "code",
   "execution_count": 36,
   "id": "bf3d54f7",
   "metadata": {
    "execution": {
     "iopub.execute_input": "2025-03-27T11:06:51.208031Z",
     "iopub.status.busy": "2025-03-27T11:06:51.207736Z",
     "iopub.status.idle": "2025-03-27T11:06:51.212945Z",
     "shell.execute_reply": "2025-03-27T11:06:51.212179Z"
    },
    "papermill": {
     "duration": 0.615235,
     "end_time": "2025-03-27T11:06:51.214246",
     "exception": false,
     "start_time": "2025-03-27T11:06:50.599011",
     "status": "completed"
    },
    "tags": []
   },
   "outputs": [],
   "source": [
    "# Hàm xử lý dữ liệu cho Stage 1: tách review và danh sách các aspect từ nội dung file\n",
    "def list_data(file_content):\n",
    "    # Tách các mẫu dựa trên pattern \"#số\"\n",
    "    sample_texts = re.split(r'#\\d+\\s*', file_content)[1:]\n",
    "    list_sa = []\n",
    "    for sample in sample_texts:\n",
    "        # Tách các dòng trong mỗi mẫu\n",
    "        lines = sample.strip().splitlines()\n",
    "        if len(lines) < 2:\n",
    "            continue        \n",
    "        # Giả sử dòng đầu là review, dòng thứ 2 chứa các cặp aspect-sentiment\n",
    "        review = lines[0].strip().lower()\n",
    "        aspects_line = lines[1].strip()\n",
    "        # Tách các cặp theo \"}, {\" sau khi loại bỏ dấu ngoặc nhọn\n",
    "        aspect_pairs = re.split(r'},\\s*{', aspects_line.strip('{}'))\n",
    "        # Lấy tên aspect (trước dấu phẩy)\n",
    "        aspects = [pair.split(',')[0].strip() for pair in aspect_pairs if ',' in pair]\n",
    "        if aspects:\n",
    "            list_sa.append({\"sentence\": review, \"aspects\": aspects})\n",
    "    return list_sa"
   ]
  },
  {
   "cell_type": "code",
   "execution_count": 37,
   "id": "c548a2af",
   "metadata": {
    "execution": {
     "iopub.execute_input": "2025-03-27T11:06:52.547274Z",
     "iopub.status.busy": "2025-03-27T11:06:52.546953Z",
     "iopub.status.idle": "2025-03-27T11:06:52.823663Z",
     "shell.execute_reply": "2025-03-27T11:06:52.822437Z"
    },
    "papermill": {
     "duration": 1.006213,
     "end_time": "2025-03-27T11:06:52.824837",
     "exception": true,
     "start_time": "2025-03-27T11:06:51.818624",
     "status": "failed"
    },
    "tags": []
   },
   "outputs": [
    {
     "name": "stdout",
     "output_type": "stream",
     "text": [
      "\n",
      "Đánh giá riêng mô hình Stage 1 trên tập validation:\n"
     ]
    },
    {
     "ename": "NameError",
     "evalue": "name 'model_stage1_demo' is not defined",
     "output_type": "error",
     "traceback": [
      "\u001b[0;31m---------------------------------------------------------------------------\u001b[0m",
      "\u001b[0;31mNameError\u001b[0m                                 Traceback (most recent call last)",
      "\u001b[0;32m<ipython-input-37-4bb3cca0e38c>\u001b[0m in \u001b[0;36m<cell line: 29>\u001b[0;34m()\u001b[0m\n\u001b[1;32m     27\u001b[0m \u001b[0;34m\u001b[0m\u001b[0m\n\u001b[1;32m     28\u001b[0m \u001b[0mprint\u001b[0m\u001b[0;34m(\u001b[0m\u001b[0;34m\"\\nĐánh giá riêng mô hình Stage 1 trên tập validation:\"\u001b[0m\u001b[0;34m)\u001b[0m\u001b[0;34m\u001b[0m\u001b[0;34m\u001b[0m\u001b[0m\n\u001b[0;32m---> 29\u001b[0;31m \u001b[0mevaluate_stage1\u001b[0m\u001b[0;34m(\u001b[0m\u001b[0mmodel_stage1_demo\u001b[0m\u001b[0;34m,\u001b[0m \u001b[0mval_data_stage1\u001b[0m\u001b[0;34m,\u001b[0m \u001b[0mval_labels_stage1\u001b[0m\u001b[0;34m)\u001b[0m\u001b[0;34m\u001b[0m\u001b[0;34m\u001b[0m\u001b[0m\n\u001b[0m",
      "\u001b[0;31mNameError\u001b[0m: name 'model_stage1_demo' is not defined"
     ]
    }
   ],
   "source": [
    "def evaluate_stage1(model, data, labels, batch_size=16):\n",
    "    model.eval()\n",
    "    all_preds = []\n",
    "    all_true = []\n",
    "    dataset = MultiAspectFeedbackDataset(data, labels)\n",
    "    loader = DataLoader(dataset, batch_size=batch_size, shuffle=False)\n",
    "    with torch.no_grad():\n",
    "        for batch in tqdm(loader, desc=\"Evaluating Stage 1\"):\n",
    "            input_ids = batch[\"input_ids\"].to(device)\n",
    "            attention_mask = batch[\"attention_mask\"].to(device)\n",
    "            true_labels = batch[\"aspects\"].cpu().numpy()\n",
    "            outputs = model(input_ids, attention_mask)\n",
    "            # Since our model returns logits directly (a Tensor), use it.\n",
    "            probs = torch.sigmoid(outputs).cpu().numpy()\n",
    "            all_preds.append(probs)\n",
    "            all_true.append(true_labels)\n",
    "    all_preds = np.vstack(all_preds)\n",
    "    all_true = np.vstack(all_true)\n",
    "    threshold = 0.5\n",
    "    preds_binary = (all_preds > threshold).astype(int)\n",
    "    f1 = f1_score(all_true, preds_binary, average=\"micro\")\n",
    "    acc = accuracy_score(all_true, preds_binary)\n",
    "    precision = precision_score(all_true, preds_binary, average=\"micro\", zero_division=0)\n",
    "    recall = recall_score(all_true, preds_binary, average=\"micro\", zero_division=0)\n",
    "    print(f\"Stage 1 - F1 Score: {f1:.4f}, Accuracy: {acc:.4f}, Precision: {precision:.4f}, Recall: {recall:.4f}\")\n",
    "    model.train()\n",
    "\n",
    "print(\"\\nĐánh giá riêng mô hình Stage 1 trên tập validation:\")\n",
    "evaluate_stage1(model_stage1_demo, val_data_stage1, val_labels_stage1)\n"
   ]
  },
  {
   "cell_type": "code",
   "execution_count": null,
   "id": "ed018a97",
   "metadata": {
    "papermill": {
     "duration": null,
     "end_time": null,
     "exception": null,
     "start_time": null,
     "status": "pending"
    },
    "tags": []
   },
   "outputs": [],
   "source": [
    "# Stage 1: List data with reviews and aspect names\n",
    "all_data_stage1 = list_data(file_content)"
   ]
  },
  {
   "cell_type": "code",
   "execution_count": null,
   "id": "09d4c057",
   "metadata": {
    "papermill": {
     "duration": null,
     "end_time": null,
     "exception": null,
     "start_time": null,
     "status": "pending"
    },
    "tags": []
   },
   "outputs": [],
   "source": [
    "all_aspects = [\"AMBIENCE\", \"PRICE\", \"FOOD\", \"SERVICE\", \"DELIVERY\"]\n",
    "multi_aspect_binary = MultiLabelBinarizer(classes=all_aspects)\n",
    "aspects_encoded = multi_aspect_binary.fit_transform([item[\"aspects\"] for item in all_data_stage1])\n",
    "print(\"Các khía cạnh (Stage 1):\", multi_aspect_binary.classes_)"
   ]
  },
  {
   "cell_type": "code",
   "execution_count": null,
   "id": "3b41884b",
   "metadata": {
    "papermill": {
     "duration": null,
     "end_time": null,
     "exception": null,
     "start_time": null,
     "status": "pending"
    },
    "tags": []
   },
   "outputs": [],
   "source": [
    "# -----------------------------\n",
    "# Dataset cho Stage 1\n",
    "# -----------------------------\n",
    "tokenizer = AutoTokenizer.from_pretrained(model_name)\n",
    "\n",
    "class MultiAspectFeedbackDataset(TorchDataset):\n",
    "    def __init__(self, data, labels):\n",
    "        self.encodings = tokenizer([item[\"sentence\"] for item in data],\n",
    "                                   padding=True, truncation=True, max_length=128, return_tensors=\"pt\")\n",
    "        self.labels = torch.tensor(labels, dtype=torch.float)\n",
    "    def __len__(self):\n",
    "        return len(self.labels)\n",
    "    def __getitem__(self, idx):\n",
    "        item = {key: val[idx] for key, val in self.encodings.items()}\n",
    "        item[\"aspects\"] = self.labels[idx]\n",
    "        return item\n"
   ]
  },
  {
   "cell_type": "code",
   "execution_count": null,
   "id": "abc3dcea",
   "metadata": {
    "papermill": {
     "duration": null,
     "end_time": null,
     "exception": null,
     "start_time": null,
     "status": "pending"
    },
    "tags": []
   },
   "outputs": [],
   "source": [
    "# To maintain order, compute labels over all Stage 1 data and then select those corresponding to train and validation.\n",
    "all_labels = multi_aspect_binary.transform([item[\"aspects\"] for item in all_data_stage1])\n",
    "train_labels_stage1 = [all_labels[i] for i, item in enumerate(all_data_stage1) if item in train_data_stage1]\n",
    "val_labels_stage1 = [all_labels[i] for i, item in enumerate(all_data_stage1) if item in val_data_stage1]\n",
    "\n",
    "train_dataset_stage1 = MultiAspectFeedbackDataset(train_data_stage1, train_labels_stage1)\n",
    "val_dataset_stage1 = MultiAspectFeedbackDataset(val_data_stage1, val_labels_stage1)\n",
    "\n",
    "train_dataloader_stage1 = DataLoader(train_dataset_stage1, batch_size=16, shuffle=True)\n",
    "val_dataloader_stage1 = DataLoader(val_dataset_stage1, batch_size=16, shuffle=False)"
   ]
  },
  {
   "cell_type": "code",
   "execution_count": null,
   "id": "85a737cb",
   "metadata": {
    "papermill": {
     "duration": null,
     "end_time": null,
     "exception": null,
     "start_time": null,
     "status": "pending"
    },
    "tags": []
   },
   "outputs": [],
   "source": [
    "# -----------------------------\n",
    "# Model for Stage 1: PhoBERTMultiLabelClassifier\n",
    "# -----------------------------\n",
    "class PhoBERTMultiLabelClassifier(nn.Module):\n",
    "    def __init__(self, num_labels):\n",
    "        super(PhoBERTMultiLabelClassifier, self).__init__()\n",
    "        self.phobert = AutoModel.from_pretrained(model_name)\n",
    "        self.dropout = nn.Dropout(0.3)\n",
    "        self.classifier = nn.Linear(self.phobert.config.hidden_size, num_labels)\n",
    "    def forward(self, input_ids, attention_mask):\n",
    "        outputs = self.phobert(input_ids=input_ids, attention_mask=attention_mask)\n",
    "        pooled_output = outputs.last_hidden_state[:, 0, :]\n",
    "        pooled_output = self.dropout(pooled_output)\n",
    "        logits = self.classifier(pooled_output)\n",
    "        return logits"
   ]
  },
  {
   "cell_type": "code",
   "execution_count": null,
   "id": "a84af585",
   "metadata": {
    "papermill": {
     "duration": null,
     "end_time": null,
     "exception": null,
     "start_time": null,
     "status": "pending"
    },
    "tags": []
   },
   "outputs": [],
   "source": [
    "# -----------------------------\n",
    "# Load Stage 1 checkpoint (do not retrain if already trained)\n",
    "# -----------------------------\n",
    "model_stage1_demo = PhoBERTMultiLabelClassifier(num_labels=len(all_aspects)).to(device)\n",
    "checkpoint_stage1 = \"./absa_aspect_model.pt\"  # Adjust checkpoint path if needed\n",
    "model_stage1_demo.load_state_dict(torch.load(checkpoint_stage1), strict=False)\n",
    "model_stage1_demo.to(device)\n",
    "print(\"Model Stage 1 đã được load từ checkpoint.\")\n"
   ]
  },
  {
   "cell_type": "code",
   "execution_count": null,
   "id": "a304125b",
   "metadata": {
    "papermill": {
     "duration": null,
     "end_time": null,
     "exception": null,
     "start_time": null,
     "status": "pending"
    },
    "tags": []
   },
   "outputs": [],
   "source": [
    "def extract_aspects_stage1(review_text, model, tokenizer, device, threshold=0.5):\n",
    "    inputs = tokenizer(review_text, truncation=True, padding=\"max_length\", max_length=128, return_tensors=\"pt\")\n",
    "    inputs.pop(\"token_type_ids\", None)\n",
    "    inputs = {k: v.to(device) for k, v in inputs.items()}\n",
    "    model.eval()\n",
    "    with torch.no_grad():\n",
    "        logits = model(**inputs)\n",
    "    probs = torch.sigmoid(logits)[0]\n",
    "    predicted_indices = (probs > threshold).nonzero(as_tuple=True)[0].tolist()\n",
    "    predicted_labels = [multi_aspect_binary.classes_[i] for i in predicted_indices]\n",
    "    aspects = list(set(label.split(\"_\")[0] for label in predicted_labels))\n",
    "    return aspects"
   ]
  },
  {
   "cell_type": "code",
   "execution_count": null,
   "id": "5d08a467",
   "metadata": {
    "papermill": {
     "duration": null,
     "end_time": null,
     "exception": null,
     "start_time": null,
     "status": "pending"
    },
    "tags": []
   },
   "outputs": [],
   "source": [
    "def evaluate_stage1(model, data, labels, batch_size=16):\n",
    "    model.eval()\n",
    "    all_preds = []\n",
    "    all_true = []\n",
    "    dataset = MultiAspectFeedbackDataset(data, labels)\n",
    "    loader = DataLoader(dataset, batch_size=batch_size, shuffle=False)\n",
    "    with torch.no_grad():\n",
    "        for batch in tqdm(loader, desc=\"Evaluating Stage 1\"):\n",
    "            input_ids = batch[\"input_ids\"].to(device)\n",
    "            attention_mask = batch[\"attention_mask\"].to(device)\n",
    "            true_labels = batch[\"aspects\"].cpu().numpy()\n",
    "            outputs = model(input_ids, attention_mask)\n",
    "            # Since our model returns logits directly (a Tensor), use it.\n",
    "            probs = torch.sigmoid(outputs).cpu().numpy()\n",
    "            all_preds.append(probs)\n",
    "            all_true.append(true_labels)\n",
    "    all_preds = np.vstack(all_preds)\n",
    "    all_true = np.vstack(all_true)\n",
    "    threshold = 0.5\n",
    "    preds_binary = (all_preds > threshold).astype(int)\n",
    "    f1 = f1_score(all_true, preds_binary, average=\"micro\")\n",
    "    acc = accuracy_score(all_true, preds_binary)\n",
    "    precision = precision_score(all_true, preds_binary, average=\"micro\", zero_division=0)\n",
    "    recall = recall_score(all_true, preds_binary, average=\"micro\", zero_division=0)\n",
    "    print(f\"Stage 1 - F1 Score: {f1:.4f}, Accuracy: {acc:.4f}, Precision: {precision:.4f}, Recall: {recall:.4f}\")\n",
    "    model.train()\n"
   ]
  },
  {
   "cell_type": "code",
   "execution_count": null,
   "id": "91b6b5a3",
   "metadata": {
    "papermill": {
     "duration": null,
     "end_time": null,
     "exception": null,
     "start_time": null,
     "status": "pending"
    },
    "tags": []
   },
   "outputs": [],
   "source": [
    "print(\"\\nĐánh giá riêng mô hình Stage 1 trên tập validation:\")\n",
    "evaluate_stage1(model_stage1_demo, val_data_stage1, val_labels_stage1)"
   ]
  },
  {
   "cell_type": "markdown",
   "id": "c14f4652",
   "metadata": {
    "papermill": {
     "duration": null,
     "end_time": null,
     "exception": null,
     "start_time": null,
     "status": "pending"
    },
    "tags": []
   },
   "source": [
    "### Đánh giá tổng thể cả hai Stage"
   ]
  },
  {
   "cell_type": "code",
   "execution_count": null,
   "id": "284bf4c5",
   "metadata": {
    "papermill": {
     "duration": null,
     "end_time": null,
     "exception": null,
     "start_time": null,
     "status": "pending"
    },
    "tags": []
   },
   "outputs": [],
   "source": [
    "# For Stage 2: Create one example per {aspect, sentiment} pair.\n",
    "def load_and_preprocess_sentiment(file_path):\n",
    "    examples = []\n",
    "    content = read_file(file_path)\n",
    "    sample_texts = re.split(r'#\\d+\\s*', content)[1:]\n",
    "    for sample in sample_texts:\n",
    "        lines = sample.strip().splitlines()\n",
    "        if len(lines) < 2:\n",
    "            continue\n",
    "        # Use the same review as Stage 1 (line 1)\n",
    "        review = lines[0].strip().lower()\n",
    "        aspects_line = lines[1].strip()\n",
    "        matches = re.findall(r\"\\{([^}]+)\\}\", aspects_line)\n",
    "        for match in matches:\n",
    "            parts = [p.strip() for p in match.split(\",\")]\n",
    "            if len(parts) >= 2:\n",
    "                aspect = parts[0]\n",
    "                sentiment = parts[1].lower()\n",
    "                if sentiment in label_map:\n",
    "                    examples.append({\n",
    "                        \"review\": review,\n",
    "                        \"aspect\": aspect,\n",
    "                        \"label\": label_map[sentiment]\n",
    "                    })\n",
    "    return examples"
   ]
  },
  {
   "cell_type": "code",
   "execution_count": null,
   "id": "a7dc0ff3",
   "metadata": {
    "papermill": {
     "duration": null,
     "end_time": null,
     "exception": null,
     "start_time": null,
     "status": "pending"
    },
    "tags": []
   },
   "outputs": [],
   "source": [
    "# Stage 2: Create examples for each aspect-sentiment pair\n",
    "all_data_stage2 = load_and_preprocess_sentiment(data_path)\n",
    "print(f\"Stage 2: Đã tải {len(all_sentiment_examples)} ví dụ cho phân loại cảm xúc.\")"
   ]
  },
  {
   "cell_type": "code",
   "execution_count": null,
   "id": "f2a609bd",
   "metadata": {
    "papermill": {
     "duration": null,
     "end_time": null,
     "exception": null,
     "start_time": null,
     "status": "pending"
    },
    "tags": []
   },
   "outputs": [],
   "source": [
    "# For Stage 2, keep only examples whose review is in the common validation set.\n",
    "val_data_stage2 = [ex for ex in all_data_stage2 if ex[\"review\"] in val_reviews]\n",
    "train_data_stage2 = [ex for ex in all_data_stage2 if ex[\"review\"] not in val_reviews]\n",
    "print(f\"Tập Stage 2 - train: {len(train_data_stage2)}, validation: {len(val_data_stage2)}\")"
   ]
  },
  {
   "cell_type": "code",
   "execution_count": null,
   "id": "021207ec",
   "metadata": {
    "papermill": {
     "duration": null,
     "end_time": null,
     "exception": null,
     "start_time": null,
     "status": "pending"
    },
    "tags": []
   },
   "outputs": [],
   "source": [
    "def build_ground_truth(val_examples):\n",
    "    gt_dict = {}\n",
    "    for ex in val_examples:\n",
    "        review = ex[\"review\"]\n",
    "        aspect = ex[\"aspect\"]\n",
    "        sentiment_str = inv_label_map[ex[\"label\"]]\n",
    "        if review not in gt_dict:\n",
    "            gt_dict[review] = {}\n",
    "        gt_dict[review][aspect] = sentiment_str\n",
    "    return gt_dict\n",
    "\n",
    "val_gt = build_ground_truth(val_data_stage2)\n",
    "val_df = pd.DataFrame(list(val_gt.items()), columns=[\"review\", \"ground_truth\"])\n",
    "print(\"Tập validation ground truth (Stage 2):\")\n",
    "print(val_df.head())"
   ]
  },
  {
   "cell_type": "code",
   "execution_count": null,
   "id": "2bb39350",
   "metadata": {
    "papermill": {
     "duration": null,
     "end_time": null,
     "exception": null,
     "start_time": null,
     "status": "pending"
    },
    "tags": []
   },
   "outputs": [],
   "source": [
    "# For Stage 2 training (if needed), create a Hugging Face Dataset from all Stage 2 examples.\n",
    "raw_dataset_stage2 = Dataset.from_dict({\n",
    "    \"review\": [ex[\"review\"] for ex in all_sentiment_examples],\n",
    "    \"aspect\": [ex[\"aspect\"] for ex in all_sentiment_examples],\n",
    "    \"label\": [ex[\"label\"] for ex in all_sentiment_examples]\n",
    "})"
   ]
  },
  {
   "cell_type": "code",
   "execution_count": null,
   "id": "300b3e9e",
   "metadata": {
    "papermill": {
     "duration": null,
     "end_time": null,
     "exception": null,
     "start_time": null,
     "status": "pending"
    },
    "tags": []
   },
   "outputs": [],
   "source": [
    "def combine_review_aspect(example):\n",
    "    example[\"text\"] = \"Review: \" + example[\"review\"] + \" | Aspect: \" + example[\"aspect\"]\n",
    "    return example\n",
    "\n",
    "dataset_stage2 = raw_dataset_stage2.map(combine_review_aspect)\n",
    "print(dataset_stage2)"
   ]
  },
  {
   "cell_type": "code",
   "execution_count": null,
   "id": "4e103e21",
   "metadata": {
    "papermill": {
     "duration": null,
     "end_time": null,
     "exception": null,
     "start_time": null,
     "status": "pending"
    },
    "tags": []
   },
   "outputs": [],
   "source": [
    "# Tokenize Stage 2 data\n",
    "tokenizer = AutoTokenizer.from_pretrained(model_name)\n",
    "def tokenize_function(example):\n",
    "    return tokenizer(example[\"text\"], truncation=True, padding=\"max_length\", max_length=256)\n",
    "tokenized_dataset_stage2 = dataset_stage2.map(tokenize_function, batched=True)\n",
    "# We do not re-split here for evaluation; we already have val_data_stage2.\n",
    "print(\"Tập Stage 2 - train (if needed):\", len([ex for ex in all_sentiment_examples if ex[\"review\"] not in val_reviews]))\n",
    "print(\"Tập Stage 2 - validation (common):\", len(val_data_stage2))"
   ]
  },
  {
   "cell_type": "code",
   "execution_count": null,
   "id": "bca8f438",
   "metadata": {
    "papermill": {
     "duration": null,
     "end_time": null,
     "exception": null,
     "start_time": null,
     "status": "pending"
    },
    "tags": []
   },
   "outputs": [],
   "source": [
    "# -----------------------------\n",
    "# Load Stage 2 checkpoint from directory\n",
    "# -----------------------------\n",
    "import os\n",
    "import re\n",
    "\n",
    "# Đường dẫn chứa các checkpoint của Stage 2\n",
    "checkpoint_parent_dir = \"/kaggle/input/checkpoint/aspect_sentiment_model/\"\n",
    "\n",
    "# Ưu tiên load checkpoint từ thư mục 'best_model' nếu có\n",
    "best_model_dir = os.path.join(checkpoint_parent_dir, \"best_model\")\n",
    "if os.path.exists(best_model_dir):\n",
    "    checkpoint_dir = best_model_dir\n",
    "else:\n",
    "    # Nếu không có thư mục 'best_model', chọn checkpoint có số thứ tự lớn nhất\n",
    "    checkpoints = [d for d in os.listdir(checkpoint_parent_dir) if re.match(r\"checkpoint-\\d+\", d)]\n",
    "    if checkpoints:\n",
    "         # Sắp xếp theo số thứ tự (convert số trong tên checkpoint)\n",
    "         checkpoints = sorted(checkpoints, key=lambda x: int(x.split(\"-\")[-1]))\n",
    "         checkpoint_dir = os.path.join(checkpoint_parent_dir, checkpoints[-1])\n",
    "    else:\n",
    "         raise ValueError(\"Không tìm thấy checkpoint nào trong thư mục: \" + checkpoint_parent_dir)\n",
    "\n",
    "print(\"Loading Stage 2 model from checkpoint directory:\", checkpoint_dir)\n",
    "model_stage2 = AutoModelForSequenceClassification.from_pretrained(\n",
    "    checkpoint_dir,\n",
    "    num_labels=3,\n",
    "    problem_type=\"single_label_classification\"\n",
    ").to(device)\n"
   ]
  },
  {
   "cell_type": "code",
   "execution_count": null,
   "id": "c58f3695",
   "metadata": {
    "papermill": {
     "duration": null,
     "end_time": null,
     "exception": null,
     "start_time": null,
     "status": "pending"
    },
    "tags": []
   },
   "outputs": [],
   "source": [
    "def demo_full_pipeline(review_text, model_stage1, model_stage2, tokenizer, device, threshold=0.5):\n",
    "    aspects = extract_aspects_stage1(review_text, model_stage1, tokenizer, device, threshold)\n",
    "    if not aspects:\n",
    "        return {}\n",
    "    sentiments = {}\n",
    "    for aspect in aspects:\n",
    "        sentiment = predict_sentiment_stage2(review_text, aspect, model_stage2, tokenizer, device)\n",
    "        sentiments[aspect] = sentiment\n",
    "    return sentiments"
   ]
  },
  {
   "cell_type": "code",
   "execution_count": null,
   "id": "de792f22",
   "metadata": {
    "papermill": {
     "duration": null,
     "end_time": null,
     "exception": null,
     "start_time": null,
     "status": "pending"
    },
    "tags": []
   },
   "outputs": [],
   "source": [
    "def predict_sentiment_stage2(review_text, aspect, model_stage2, tokenizer, device):\n",
    "    input_text = \"Review: \" + review_text.lower() + \" | Aspect: \" + aspect\n",
    "    inputs = tokenizer(input_text, truncation=True, padding=\"max_length\", max_length=256, return_tensors=\"pt\")\n",
    "    inputs.pop(\"token_type_ids\", None)\n",
    "    inputs = {k: v.to(device) for k, v in inputs.items()}\n",
    "    model_stage2.eval()\n",
    "    with torch.no_grad():\n",
    "        outputs = model_stage2(**inputs)\n",
    "    pred = outputs.logits.argmax(dim=-1).item()\n",
    "    return inv_label_map[pred]"
   ]
  },
  {
   "cell_type": "code",
   "execution_count": null,
   "id": "88d43c0b",
   "metadata": {
    "papermill": {
     "duration": null,
     "end_time": null,
     "exception": null,
     "start_time": null,
     "status": "pending"
    },
    "tags": []
   },
   "outputs": [],
   "source": [
    "def build_ground_truth(val_examples):\n",
    "    gt_dict = {}\n",
    "    for ex in val_examples:\n",
    "        review = ex[\"review\"]\n",
    "        aspect = ex[\"aspect\"]\n",
    "        sentiment_str = inv_label_map[ex[\"label\"]]\n",
    "        if review not in gt_dict:\n",
    "            gt_dict[review] = {}\n",
    "        gt_dict[review][aspect] = sentiment_str\n",
    "    return gt_dict\n",
    "\n",
    "val_gt = build_ground_truth(val_data_stage2)\n",
    "val_df = pd.DataFrame(list(val_gt.items()), columns=[\"review\", \"ground_truth\"])\n",
    "print(\"Tập validation ground truth (Stage 2):\")\n",
    "print(val_df.head())\n",
    "\n",
    "pred_list = []\n",
    "for review in val_df[\"review\"]:\n",
    "    pred = demo_full_pipeline(review, model_stage1_demo, model_stage2, tokenizer, device, threshold=0.5)\n",
    "    pred_list.append({\"review\": review, \"predicted\": pred})\n",
    "pred_df = pd.DataFrame(pred_list)\n",
    "print(\"Tập dự đoán của pipeline:\")\n",
    "print(pred_df.head())"
   ]
  },
  {
   "cell_type": "code",
   "execution_count": null,
   "id": "a2398f40",
   "metadata": {
    "papermill": {
     "duration": null,
     "end_time": null,
     "exception": null,
     "start_time": null,
     "status": "pending"
    },
    "tags": []
   },
   "outputs": [],
   "source": [
    "matches = 0\n",
    "total = len(val_df)\n",
    "for idx in range(total):\n",
    "    gt = val_df.loc[idx, \"ground_truth\"]\n",
    "    pred = pred_df.loc[idx, \"predicted\"]\n",
    "    if gt == pred:\n",
    "        matches += 1\n",
    "if total > 0:\n",
    "    combined_accuracy = matches / total\n",
    "    print(f\"Accuracy kết hợp trên tập validation: {combined_accuracy:.4f}\")\n",
    "    print(f\"Số review trong tập validation: {total}, Số review dự đoán đúng: {matches}\")\n",
    "else:\n",
    "    print(\"Không có review nào trong tập validation Stage 2.\")"
   ]
  },
  {
   "cell_type": "markdown",
   "id": "4dbcd94c",
   "metadata": {
    "papermill": {
     "duration": null,
     "end_time": null,
     "exception": null,
     "start_time": null,
     "status": "pending"
    },
    "tags": []
   },
   "source": [
    "### Review mẫu"
   ]
  },
  {
   "cell_type": "code",
   "execution_count": null,
   "id": "c0c4910f",
   "metadata": {
    "papermill": {
     "duration": null,
     "end_time": null,
     "exception": null,
     "start_time": null,
     "status": "pending"
    },
    "tags": []
   },
   "outputs": [],
   "source": [
    "# Demo pipeline for a sample review\n",
    "sample_review = \"Khẩu vị vừa ăn hợp vệ sinh, không gian quán rộng view cũng tạm được. Đặc biệt là phục vụ rất nhiệt tình và vui vẻ.\"\n",
    "demo_result = demo_full_pipeline(sample_review, model_stage1_demo, model_stage2, tokenizer, device, threshold=0.5)\n",
    "print(\"Demo pipeline ABSA cho review mẫu:\")\n",
    "print(\"Review:\", sample_review)\n",
    "print(\"Kết quả dự đoán:\", demo_result)"
   ]
  },
  {
   "cell_type": "code",
   "execution_count": null,
   "id": "2ba1c30f",
   "metadata": {
    "papermill": {
     "duration": null,
     "end_time": null,
     "exception": null,
     "start_time": null,
     "status": "pending"
    },
    "tags": []
   },
   "outputs": [],
   "source": [
    "Nghe phông phanh về trà sữa có viên phô mai to ú ù lâu rồi mà chưa có dịp đi thử. Thế là hôm qua cũng rảnh rỗi nên rủ tụi ‘cạ cứng’ đi uống thử. Đoán là viên phô mai chắc cũng to to, ai dè to thật, ăn một phát mà muốn ghiền luôn!  1st Tea 1st Tea trang trí chủ đạo là 3 tông màu trắng-xanh-vàng rất dễ thương Hình vẽ hoạt hình vui nhộn  … và dành hẳn cho bạn một góc chụp hình check-in   Menu quán khá đa dạng, phong phú, có các loại nước như: trà, trà sữa, macchiato, đá xay,… mà giá thì chỉ dao động từ 21K – 44K thôi. Tùy size, tùy loại nước uống mà bạn sẽ nhận được ly khác nhau, nhưng mà size nào thì ly cũng to cả Trà sữa phô mai ú ù – size M: 36K Mình thì mình ưng phô mai nên mình oder một ly trà sữa trân châu có viên phô mai bự-chà-bá. Thạch trân chân hoàng kim dai dai thơm thơm, trà sữa rất vừa uống. Matcha Macchiato – size M: 34K Việt quất phô mai đá xay – size S: 37K Nói là size S vậy thôi chứ ‘quất’ 1 ly thôi là no-cành-hông rồi đó. Nhóm tụi mình uống 4 ly mà chỉ có 143K thôi. Nhìn chung, so với mặt bằng chung trên thị trường trà sữa hiện nay thì giá như thế này là hợp lý lắm luôn! Mình với tụi bạn kết quán này lắm, cuối tuần tụ tập hoặc tấp vào trốn nắng một xíu thôi cũng thấy thoải mái rồi. Nhất định, mình sẽ ghé 1st Tea lần nữa, có ai đi với mình không ta?\n"
   ]
  },
  {
   "cell_type": "code",
   "execution_count": null,
   "id": "e5b5fcf2",
   "metadata": {
    "papermill": {
     "duration": null,
     "end_time": null,
     "exception": null,
     "start_time": null,
     "status": "pending"
    },
    "tags": []
   },
   "outputs": [],
   "source": [
    "# Demo pipeline for a sample review\n",
    "sample_review = \"Nghe phông phanh về trà sữa có viên phô mai to ú ù lâu rồi mà chưa có dịp đi thử. Thế là hôm qua cũng rảnh rỗi nên rủ tụi ‘cạ cứng’ đi uống thử. Đoán là viên phô mai chắc cũng to to, ai dè to thật, ăn một phát mà muốn ghiền luôn!  1st Tea 1st Tea trang trí chủ đạo là 3 tông màu trắng-xanh-vàng rất dễ thương Hình vẽ hoạt hình vui nhộn  … và dành hẳn cho bạn một góc chụp hình check-in mà giá thì chỉ dao động từ 21K – 44K thôi\"\n",
    "\"\n",
    "demo_result = demo_full_pipeline(sample_review, model_stage1_demo, model_stage2, tokenizer, device, threshold=0.5)\n",
    "print(\"Demo pipeline ABSA cho review mẫu:\")\n",
    "print(\"Review:\", sample_review)\n",
    "print(\"Kết quả dự đoán:\", demo_result)"
   ]
  },
  {
   "cell_type": "markdown",
   "id": "b3d9baeb",
   "metadata": {
    "papermill": {
     "duration": null,
     "end_time": null,
     "exception": null,
     "start_time": null,
     "status": "pending"
    },
    "tags": []
   },
   "source": [
    "### More metrics "
   ]
  },
  {
   "cell_type": "code",
   "execution_count": null,
   "id": "5f0181ae",
   "metadata": {
    "execution": {
     "iopub.execute_input": "2025-03-27T04:36:27.469738Z",
     "iopub.status.busy": "2025-03-27T04:36:27.469400Z",
     "iopub.status.idle": "2025-03-27T04:36:27.530910Z",
     "shell.execute_reply": "2025-03-27T04:36:27.530318Z",
     "shell.execute_reply.started": "2025-03-27T04:36:27.469707Z"
    },
    "papermill": {
     "duration": null,
     "end_time": null,
     "exception": null,
     "start_time": null,
     "status": "pending"
    },
    "tags": []
   },
   "outputs": [],
   "source": [
    "total = len(val_df)\n",
    "matches = 0\n",
    "\n",
    "# Lists for per-review metrics\n",
    "jaccard_list = []\n",
    "per_review_precisions = []\n",
    "per_review_recalls = []\n",
    "per_review_f1s = []\n",
    "\n",
    "# Counters for micro metrics (aggregated over all reviews)\n",
    "TP_total = 0\n",
    "FP_total = 0\n",
    "FN_total = 0\n",
    "\n",
    "for idx in range(total):\n",
    "    gt = val_df.loc[idx, \"ground_truth\"]\n",
    "    pred = pred_df.loc[idx, \"predicted\"]\n",
    "    if gt == pred:\n",
    "        matches += 1\n",
    "\n",
    "    # Convert each review's ground truth and prediction dictionaries to sets of (aspect, sentiment) tuples.\n",
    "    gt_set = set(gt.items())\n",
    "    pred_set = set(pred.items())\n",
    "\n",
    "    # Compute Jaccard Index for this review.\n",
    "    union = gt_set.union(pred_set)\n",
    "    if len(union) > 0:\n",
    "        jaccard = len(gt_set.intersection(pred_set)) / len(union)\n",
    "    else:\n",
    "        jaccard = 1.0\n",
    "    jaccard_list.append(jaccard)\n",
    "\n",
    "    # Compute true positives (TP), false positives (FP), and false negatives (FN) for this review.\n",
    "    TP = len(gt_set.intersection(pred_set))\n",
    "    FP = len(pred_set - gt_set)\n",
    "    FN = len(gt_set - pred_set)\n",
    "    TP_total += TP\n",
    "    FP_total += FP\n",
    "    FN_total += FN\n",
    "\n",
    "    # Per-review precision, recall, and F1.\n",
    "    if len(pred_set) > 0:\n",
    "        precision_i = TP / len(pred_set)\n",
    "    else:\n",
    "        precision_i = 1.0 if len(gt_set) == 0 else 0.0\n",
    "    if len(gt_set) > 0:\n",
    "        recall_i = TP / len(gt_set)\n",
    "    else:\n",
    "        recall_i = 1.0 if len(pred_set) == 0 else 0.0\n",
    "    if precision_i + recall_i > 0:\n",
    "        f1_i = 2 * precision_i * recall_i / (precision_i + recall_i)\n",
    "    else:\n",
    "        f1_i = 0.0\n",
    "\n",
    "    per_review_precisions.append(precision_i)\n",
    "    per_review_recalls.append(recall_i)\n",
    "    per_review_f1s.append(f1_i)\n",
    "\n",
    "# Combined accuracy at the review level.\n",
    "combined_accuracy = matches / total if total > 0 else 0\n",
    "# Average Jaccard Index across reviews.\n",
    "avg_jaccard = sum(jaccard_list) / total if total > 0 else 0\n",
    "# Macro metrics (averaged over reviews).\n",
    "macro_precision = sum(per_review_precisions) / total if total > 0 else 0\n",
    "macro_recall = sum(per_review_recalls) / total if total > 0 else 0\n",
    "macro_f1 = sum(per_review_f1s) / total if total > 0 else 0\n",
    "\n",
    "# Global micro metrics (aggregated over all review examples).\n",
    "if (TP_total + FP_total) > 0:\n",
    "    micro_precision = TP_total / (TP_total + FP_total)\n",
    "else:\n",
    "    micro_precision = 0\n",
    "if (TP_total + FN_total) > 0:\n",
    "    micro_recall = TP_total / (TP_total + FN_total)\n",
    "else:\n",
    "    micro_recall = 0\n",
    "if micro_precision + micro_recall > 0:\n",
    "    micro_f1 = 2 * micro_precision * micro_recall / (micro_precision + micro_recall)\n",
    "else:\n",
    "    micro_f1 = 0\n",
    "\n",
    "print(f\"Accuracy kết hợp trên tập validation: {combined_accuracy:.4f}\")\n",
    "print(f\"Số review trong tập validation: {total}, Số review dự đoán đúng: {matches}\")\n",
    "print(f\"Average Jaccard Index: {avg_jaccard:.4f}\")\n",
    "\n",
    "print(\"\\nPer-review (macro) metrics (averaged over reviews):\")\n",
    "print(f\"Macro Precision: {macro_precision:.4f}\")\n",
    "print(f\"Macro Recall: {macro_recall:.4f}\")\n",
    "print(f\"Macro F1 Score: {macro_f1:.4f}\")\n",
    "\n",
    "print(\"\\nGlobal (micro) metrics (aggregated over all review aspects):\")\n",
    "print(f\"Micro Precision: {micro_precision:.4f}\")\n",
    "print(f\"Micro Recall: {micro_recall:.4f}\")\n",
    "print(f\"Micro F1 Score: {micro_f1:.4f}\")\n"
   ]
  },
  {
   "cell_type": "code",
   "execution_count": null,
   "id": "573af0a1",
   "metadata": {
    "papermill": {
     "duration": null,
     "end_time": null,
     "exception": null,
     "start_time": null,
     "status": "pending"
    },
    "tags": []
   },
   "outputs": [],
   "source": []
  }
 ],
 "metadata": {
  "kaggle": {
   "accelerator": "gpu",
   "dataSources": [
    {
     "datasetId": 6976027,
     "sourceId": 11176952,
     "sourceType": "datasetVersion"
    },
    {
     "datasetId": 6978555,
     "sourceId": 11180489,
     "sourceType": "datasetVersion"
    },
    {
     "sourceId": 229893609,
     "sourceType": "kernelVersion"
    }
   ],
   "dockerImageVersionId": 30919,
   "isGpuEnabled": true,
   "isInternetEnabled": true,
   "language": "python",
   "sourceType": "notebook"
  },
  "kernelspec": {
   "display_name": "Python 3",
   "language": "python",
   "name": "python3"
  },
  "language_info": {
   "codemirror_mode": {
    "name": "ipython",
    "version": 3
   },
   "file_extension": ".py",
   "mimetype": "text/x-python",
   "name": "python",
   "nbconvert_exporter": "python",
   "pygments_lexer": "ipython3",
   "version": "3.10.12"
  },
  "papermill": {
   "default_parameters": {},
   "duration": 4779.016985,
   "end_time": "2025-03-27T11:06:56.979662",
   "environment_variables": {},
   "exception": true,
   "input_path": "__notebook__.ipynb",
   "output_path": "__notebook__.ipynb",
   "parameters": {},
   "start_time": "2025-03-27T09:47:17.962677",
   "version": "2.6.0"
  },
  "widgets": {
   "application/vnd.jupyter.widget-state+json": {
    "state": {
     "015b73c5fd714e68902618e23893f5d9": {
      "model_module": "@jupyter-widgets/controls",
      "model_module_version": "2.0.0",
      "model_name": "HTMLStyleModel",
      "state": {
       "_model_module": "@jupyter-widgets/controls",
       "_model_module_version": "2.0.0",
       "_model_name": "HTMLStyleModel",
       "_view_count": null,
       "_view_module": "@jupyter-widgets/base",
       "_view_module_version": "2.0.0",
       "_view_name": "StyleView",
       "background": null,
       "description_width": "",
       "font_size": null,
       "text_color": null
      }
     },
     "02580077376f4c14af7cc24dceb8cf21": {
      "model_module": "@jupyter-widgets/controls",
      "model_module_version": "2.0.0",
      "model_name": "HTMLModel",
      "state": {
       "_dom_classes": [],
       "_model_module": "@jupyter-widgets/controls",
       "_model_module_version": "2.0.0",
       "_model_name": "HTMLModel",
       "_view_count": null,
       "_view_module": "@jupyter-widgets/controls",
       "_view_module_version": "2.0.0",
       "_view_name": "HTMLView",
       "description": "",
       "description_allow_html": false,
       "layout": "IPY_MODEL_500170e863304646a15bace8c1e6318f",
       "placeholder": "​",
       "style": "IPY_MODEL_085fe7898b8a47d493ac5abf60ccd0ea",
       "tabbable": null,
       "tooltip": null,
       "value": " 895k/895k [00:00&lt;00:00, 4.53MB/s]"
      }
     },
     "085fe7898b8a47d493ac5abf60ccd0ea": {
      "model_module": "@jupyter-widgets/controls",
      "model_module_version": "2.0.0",
      "model_name": "HTMLStyleModel",
      "state": {
       "_model_module": "@jupyter-widgets/controls",
       "_model_module_version": "2.0.0",
       "_model_name": "HTMLStyleModel",
       "_view_count": null,
       "_view_module": "@jupyter-widgets/base",
       "_view_module_version": "2.0.0",
       "_view_name": "StyleView",
       "background": null,
       "description_width": "",
       "font_size": null,
       "text_color": null
      }
     },
     "08f1d2de75304de1aa3a9b77dd3bd162": {
      "model_module": "@jupyter-widgets/controls",
      "model_module_version": "2.0.0",
      "model_name": "FloatProgressModel",
      "state": {
       "_dom_classes": [],
       "_model_module": "@jupyter-widgets/controls",
       "_model_module_version": "2.0.0",
       "_model_name": "FloatProgressModel",
       "_view_count": null,
       "_view_module": "@jupyter-widgets/controls",
       "_view_module_version": "2.0.0",
       "_view_name": "ProgressView",
       "bar_style": "success",
       "description": "",
       "description_allow_html": false,
       "layout": "IPY_MODEL_878dc6b9fd274810ae85444f09251ac5",
       "max": 895321.0,
       "min": 0.0,
       "orientation": "horizontal",
       "style": "IPY_MODEL_59dd41aeadfb4737ae909ee034349167",
       "tabbable": null,
       "tooltip": null,
       "value": 895321.0
      }
     },
     "0986d92fcf664dbd8bc5043a32bb0906": {
      "model_module": "@jupyter-widgets/controls",
      "model_module_version": "2.0.0",
      "model_name": "HTMLStyleModel",
      "state": {
       "_model_module": "@jupyter-widgets/controls",
       "_model_module_version": "2.0.0",
       "_model_name": "HTMLStyleModel",
       "_view_count": null,
       "_view_module": "@jupyter-widgets/base",
       "_view_module_version": "2.0.0",
       "_view_name": "StyleView",
       "background": null,
       "description_width": "",
       "font_size": null,
       "text_color": null
      }
     },
     "0c7c280aeec84cb3858dae8f25dd9f1a": {
      "model_module": "@jupyter-widgets/controls",
      "model_module_version": "2.0.0",
      "model_name": "FloatProgressModel",
      "state": {
       "_dom_classes": [],
       "_model_module": "@jupyter-widgets/controls",
       "_model_module_version": "2.0.0",
       "_model_name": "FloatProgressModel",
       "_view_count": null,
       "_view_module": "@jupyter-widgets/controls",
       "_view_module_version": "2.0.0",
       "_view_name": "ProgressView",
       "bar_style": "success",
       "description": "",
       "description_allow_html": false,
       "layout": "IPY_MODEL_358390152c8245e5aa8c444d6eb5ae1d",
       "max": 3132320.0,
       "min": 0.0,
       "orientation": "horizontal",
       "style": "IPY_MODEL_a4460d6249d7497b993e7d713b3660aa",
       "tabbable": null,
       "tooltip": null,
       "value": 3132320.0
      }
     },
     "10d7a7eb2dc64b51adc4515c564a558b": {
      "model_module": "@jupyter-widgets/controls",
      "model_module_version": "2.0.0",
      "model_name": "HTMLModel",
      "state": {
       "_dom_classes": [],
       "_model_module": "@jupyter-widgets/controls",
       "_model_module_version": "2.0.0",
       "_model_name": "HTMLModel",
       "_view_count": null,
       "_view_module": "@jupyter-widgets/controls",
       "_view_module_version": "2.0.0",
       "_view_name": "HTMLView",
       "description": "",
       "description_allow_html": false,
       "layout": "IPY_MODEL_c0f5390cf0964ff5a817ba8c0a3e5ac7",
       "placeholder": "​",
       "style": "IPY_MODEL_bedf56782df94a808290058df8e9f1c7",
       "tabbable": null,
       "tooltip": null,
       "value": "config.json: 100%"
      }
     },
     "1592a14a55f9465a8c867dc7c8b32597": {
      "model_module": "@jupyter-widgets/controls",
      "model_module_version": "2.0.0",
      "model_name": "HBoxModel",
      "state": {
       "_dom_classes": [],
       "_model_module": "@jupyter-widgets/controls",
       "_model_module_version": "2.0.0",
       "_model_name": "HBoxModel",
       "_view_count": null,
       "_view_module": "@jupyter-widgets/controls",
       "_view_module_version": "2.0.0",
       "_view_name": "HBoxView",
       "box_style": "",
       "children": [
        "IPY_MODEL_3f6a7a3b9f1443878148c890debb6c6a",
        "IPY_MODEL_4930e2b007e847cb88ede6c4e68ea219",
        "IPY_MODEL_576e4f84e3244e76a7649dfbe72a3db9"
       ],
       "layout": "IPY_MODEL_54c17beea39b4c77acd7420f1281a667",
       "tabbable": null,
       "tooltip": null
      }
     },
     "1f7a82afa7e5444b9993f2187cdf4f58": {
      "model_module": "@jupyter-widgets/controls",
      "model_module_version": "2.0.0",
      "model_name": "HTMLModel",
      "state": {
       "_dom_classes": [],
       "_model_module": "@jupyter-widgets/controls",
       "_model_module_version": "2.0.0",
       "_model_name": "HTMLModel",
       "_view_count": null,
       "_view_module": "@jupyter-widgets/controls",
       "_view_module_version": "2.0.0",
       "_view_name": "HTMLView",
       "description": "",
       "description_allow_html": false,
       "layout": "IPY_MODEL_a8744800a53144818eebb164d1294df0",
       "placeholder": "​",
       "style": "IPY_MODEL_5eae373c4dbc4a57a0e08b449e3075a0",
       "tabbable": null,
       "tooltip": null,
       "value": "vocab.txt: 100%"
      }
     },
     "26f389eee66d41dcb2290349843751fd": {
      "model_module": "@jupyter-widgets/base",
      "model_module_version": "2.0.0",
      "model_name": "LayoutModel",
      "state": {
       "_model_module": "@jupyter-widgets/base",
       "_model_module_version": "2.0.0",
       "_model_name": "LayoutModel",
       "_view_count": null,
       "_view_module": "@jupyter-widgets/base",
       "_view_module_version": "2.0.0",
       "_view_name": "LayoutView",
       "align_content": null,
       "align_items": null,
       "align_self": null,
       "border_bottom": null,
       "border_left": null,
       "border_right": null,
       "border_top": null,
       "bottom": null,
       "display": null,
       "flex": null,
       "flex_flow": null,
       "grid_area": null,
       "grid_auto_columns": null,
       "grid_auto_flow": null,
       "grid_auto_rows": null,
       "grid_column": null,
       "grid_gap": null,
       "grid_row": null,
       "grid_template_areas": null,
       "grid_template_columns": null,
       "grid_template_rows": null,
       "height": null,
       "justify_content": null,
       "justify_items": null,
       "left": null,
       "margin": null,
       "max_height": null,
       "max_width": null,
       "min_height": null,
       "min_width": null,
       "object_fit": null,
       "object_position": null,
       "order": null,
       "overflow": null,
       "padding": null,
       "right": null,
       "top": null,
       "visibility": null,
       "width": null
      }
     },
     "2a7dedec5cd04a22a7570c296d559550": {
      "model_module": "@jupyter-widgets/controls",
      "model_module_version": "2.0.0",
      "model_name": "ProgressStyleModel",
      "state": {
       "_model_module": "@jupyter-widgets/controls",
       "_model_module_version": "2.0.0",
       "_model_name": "ProgressStyleModel",
       "_view_count": null,
       "_view_module": "@jupyter-widgets/base",
       "_view_module_version": "2.0.0",
       "_view_name": "StyleView",
       "bar_color": null,
       "description_width": ""
      }
     },
     "2aa5e0f019834344b4e15bbb0d48a75d": {
      "model_module": "@jupyter-widgets/controls",
      "model_module_version": "2.0.0",
      "model_name": "HTMLStyleModel",
      "state": {
       "_model_module": "@jupyter-widgets/controls",
       "_model_module_version": "2.0.0",
       "_model_name": "HTMLStyleModel",
       "_view_count": null,
       "_view_module": "@jupyter-widgets/base",
       "_view_module_version": "2.0.0",
       "_view_name": "StyleView",
       "background": null,
       "description_width": "",
       "font_size": null,
       "text_color": null
      }
     },
     "2d9ceedacab6410183a63a45797f64ab": {
      "model_module": "@jupyter-widgets/base",
      "model_module_version": "2.0.0",
      "model_name": "LayoutModel",
      "state": {
       "_model_module": "@jupyter-widgets/base",
       "_model_module_version": "2.0.0",
       "_model_name": "LayoutModel",
       "_view_count": null,
       "_view_module": "@jupyter-widgets/base",
       "_view_module_version": "2.0.0",
       "_view_name": "LayoutView",
       "align_content": null,
       "align_items": null,
       "align_self": null,
       "border_bottom": null,
       "border_left": null,
       "border_right": null,
       "border_top": null,
       "bottom": null,
       "display": null,
       "flex": null,
       "flex_flow": null,
       "grid_area": null,
       "grid_auto_columns": null,
       "grid_auto_flow": null,
       "grid_auto_rows": null,
       "grid_column": null,
       "grid_gap": null,
       "grid_row": null,
       "grid_template_areas": null,
       "grid_template_columns": null,
       "grid_template_rows": null,
       "height": null,
       "justify_content": null,
       "justify_items": null,
       "left": null,
       "margin": null,
       "max_height": null,
       "max_width": null,
       "min_height": null,
       "min_width": null,
       "object_fit": null,
       "object_position": null,
       "order": null,
       "overflow": null,
       "padding": null,
       "right": null,
       "top": null,
       "visibility": null,
       "width": null
      }
     },
     "31570b1f5efc4998b3c1f2a0c4f907c0": {
      "model_module": "@jupyter-widgets/controls",
      "model_module_version": "2.0.0",
      "model_name": "ProgressStyleModel",
      "state": {
       "_model_module": "@jupyter-widgets/controls",
       "_model_module_version": "2.0.0",
       "_model_name": "ProgressStyleModel",
       "_view_count": null,
       "_view_module": "@jupyter-widgets/base",
       "_view_module_version": "2.0.0",
       "_view_name": "StyleView",
       "bar_color": null,
       "description_width": ""
      }
     },
     "358390152c8245e5aa8c444d6eb5ae1d": {
      "model_module": "@jupyter-widgets/base",
      "model_module_version": "2.0.0",
      "model_name": "LayoutModel",
      "state": {
       "_model_module": "@jupyter-widgets/base",
       "_model_module_version": "2.0.0",
       "_model_name": "LayoutModel",
       "_view_count": null,
       "_view_module": "@jupyter-widgets/base",
       "_view_module_version": "2.0.0",
       "_view_name": "LayoutView",
       "align_content": null,
       "align_items": null,
       "align_self": null,
       "border_bottom": null,
       "border_left": null,
       "border_right": null,
       "border_top": null,
       "bottom": null,
       "display": null,
       "flex": null,
       "flex_flow": null,
       "grid_area": null,
       "grid_auto_columns": null,
       "grid_auto_flow": null,
       "grid_auto_rows": null,
       "grid_column": null,
       "grid_gap": null,
       "grid_row": null,
       "grid_template_areas": null,
       "grid_template_columns": null,
       "grid_template_rows": null,
       "height": null,
       "justify_content": null,
       "justify_items": null,
       "left": null,
       "margin": null,
       "max_height": null,
       "max_width": null,
       "min_height": null,
       "min_width": null,
       "object_fit": null,
       "object_position": null,
       "order": null,
       "overflow": null,
       "padding": null,
       "right": null,
       "top": null,
       "visibility": null,
       "width": null
      }
     },
     "3702105166c240ae8f4a0d0481d406c1": {
      "model_module": "@jupyter-widgets/controls",
      "model_module_version": "2.0.0",
      "model_name": "FloatProgressModel",
      "state": {
       "_dom_classes": [],
       "_model_module": "@jupyter-widgets/controls",
       "_model_module_version": "2.0.0",
       "_model_name": "FloatProgressModel",
       "_view_count": null,
       "_view_module": "@jupyter-widgets/controls",
       "_view_module_version": "2.0.0",
       "_view_name": "ProgressView",
       "bar_style": "success",
       "description": "",
       "description_allow_html": false,
       "layout": "IPY_MODEL_4d045e30769d434dac07a7049695d6da",
       "max": 557.0,
       "min": 0.0,
       "orientation": "horizontal",
       "style": "IPY_MODEL_31570b1f5efc4998b3c1f2a0c4f907c0",
       "tabbable": null,
       "tooltip": null,
       "value": 557.0
      }
     },
     "37baed71ad5943918cd66c831298240c": {
      "model_module": "@jupyter-widgets/controls",
      "model_module_version": "2.0.0",
      "model_name": "HTMLModel",
      "state": {
       "_dom_classes": [],
       "_model_module": "@jupyter-widgets/controls",
       "_model_module_version": "2.0.0",
       "_model_name": "HTMLModel",
       "_view_count": null,
       "_view_module": "@jupyter-widgets/controls",
       "_view_module_version": "2.0.0",
       "_view_name": "HTMLView",
       "description": "",
       "description_allow_html": false,
       "layout": "IPY_MODEL_fa4a776e068b47cc9ab04e20d78bf4d8",
       "placeholder": "​",
       "style": "IPY_MODEL_015b73c5fd714e68902618e23893f5d9",
       "tabbable": null,
       "tooltip": null,
       "value": " 1.14M/1.14M [00:00&lt;00:00, 4.58MB/s]"
      }
     },
     "39fbe6e01f9d4643af47bc2e32187546": {
      "model_module": "@jupyter-widgets/controls",
      "model_module_version": "2.0.0",
      "model_name": "HTMLStyleModel",
      "state": {
       "_model_module": "@jupyter-widgets/controls",
       "_model_module_version": "2.0.0",
       "_model_name": "HTMLStyleModel",
       "_view_count": null,
       "_view_module": "@jupyter-widgets/base",
       "_view_module_version": "2.0.0",
       "_view_name": "StyleView",
       "background": null,
       "description_width": "",
       "font_size": null,
       "text_color": null
      }
     },
     "3cee4c506e69409ebde0a1a2b3abbe41": {
      "model_module": "@jupyter-widgets/base",
      "model_module_version": "2.0.0",
      "model_name": "LayoutModel",
      "state": {
       "_model_module": "@jupyter-widgets/base",
       "_model_module_version": "2.0.0",
       "_model_name": "LayoutModel",
       "_view_count": null,
       "_view_module": "@jupyter-widgets/base",
       "_view_module_version": "2.0.0",
       "_view_name": "LayoutView",
       "align_content": null,
       "align_items": null,
       "align_self": null,
       "border_bottom": null,
       "border_left": null,
       "border_right": null,
       "border_top": null,
       "bottom": null,
       "display": null,
       "flex": null,
       "flex_flow": null,
       "grid_area": null,
       "grid_auto_columns": null,
       "grid_auto_flow": null,
       "grid_auto_rows": null,
       "grid_column": null,
       "grid_gap": null,
       "grid_row": null,
       "grid_template_areas": null,
       "grid_template_columns": null,
       "grid_template_rows": null,
       "height": null,
       "justify_content": null,
       "justify_items": null,
       "left": null,
       "margin": null,
       "max_height": null,
       "max_width": null,
       "min_height": null,
       "min_width": null,
       "object_fit": null,
       "object_position": null,
       "order": null,
       "overflow": null,
       "padding": null,
       "right": null,
       "top": null,
       "visibility": null,
       "width": null
      }
     },
     "3f06941c46994d9da62795504042498b": {
      "model_module": "@jupyter-widgets/controls",
      "model_module_version": "2.0.0",
      "model_name": "HTMLStyleModel",
      "state": {
       "_model_module": "@jupyter-widgets/controls",
       "_model_module_version": "2.0.0",
       "_model_name": "HTMLStyleModel",
       "_view_count": null,
       "_view_module": "@jupyter-widgets/base",
       "_view_module_version": "2.0.0",
       "_view_name": "StyleView",
       "background": null,
       "description_width": "",
       "font_size": null,
       "text_color": null
      }
     },
     "3f3e4eb460d64ca790d98e05f960b793": {
      "model_module": "@jupyter-widgets/base",
      "model_module_version": "2.0.0",
      "model_name": "LayoutModel",
      "state": {
       "_model_module": "@jupyter-widgets/base",
       "_model_module_version": "2.0.0",
       "_model_name": "LayoutModel",
       "_view_count": null,
       "_view_module": "@jupyter-widgets/base",
       "_view_module_version": "2.0.0",
       "_view_name": "LayoutView",
       "align_content": null,
       "align_items": null,
       "align_self": null,
       "border_bottom": null,
       "border_left": null,
       "border_right": null,
       "border_top": null,
       "bottom": null,
       "display": null,
       "flex": null,
       "flex_flow": null,
       "grid_area": null,
       "grid_auto_columns": null,
       "grid_auto_flow": null,
       "grid_auto_rows": null,
       "grid_column": null,
       "grid_gap": null,
       "grid_row": null,
       "grid_template_areas": null,
       "grid_template_columns": null,
       "grid_template_rows": null,
       "height": null,
       "justify_content": null,
       "justify_items": null,
       "left": null,
       "margin": null,
       "max_height": null,
       "max_width": null,
       "min_height": null,
       "min_width": null,
       "object_fit": null,
       "object_position": null,
       "order": null,
       "overflow": null,
       "padding": null,
       "right": null,
       "top": null,
       "visibility": null,
       "width": null
      }
     },
     "3f6a7a3b9f1443878148c890debb6c6a": {
      "model_module": "@jupyter-widgets/controls",
      "model_module_version": "2.0.0",
      "model_name": "HTMLModel",
      "state": {
       "_dom_classes": [],
       "_model_module": "@jupyter-widgets/controls",
       "_model_module_version": "2.0.0",
       "_model_name": "HTMLModel",
       "_view_count": null,
       "_view_module": "@jupyter-widgets/controls",
       "_view_module_version": "2.0.0",
       "_view_name": "HTMLView",
       "description": "",
       "description_allow_html": false,
       "layout": "IPY_MODEL_5667eb4dc80c4c5f8a754f93d1f1a4ad",
       "placeholder": "​",
       "style": "IPY_MODEL_3f06941c46994d9da62795504042498b",
       "tabbable": null,
       "tooltip": null,
       "value": "pytorch_model.bin: 100%"
      }
     },
     "40329c2492814364abc734da86122162": {
      "model_module": "@jupyter-widgets/base",
      "model_module_version": "2.0.0",
      "model_name": "LayoutModel",
      "state": {
       "_model_module": "@jupyter-widgets/base",
       "_model_module_version": "2.0.0",
       "_model_name": "LayoutModel",
       "_view_count": null,
       "_view_module": "@jupyter-widgets/base",
       "_view_module_version": "2.0.0",
       "_view_name": "LayoutView",
       "align_content": null,
       "align_items": null,
       "align_self": null,
       "border_bottom": null,
       "border_left": null,
       "border_right": null,
       "border_top": null,
       "bottom": null,
       "display": null,
       "flex": null,
       "flex_flow": null,
       "grid_area": null,
       "grid_auto_columns": null,
       "grid_auto_flow": null,
       "grid_auto_rows": null,
       "grid_column": null,
       "grid_gap": null,
       "grid_row": null,
       "grid_template_areas": null,
       "grid_template_columns": null,
       "grid_template_rows": null,
       "height": null,
       "justify_content": null,
       "justify_items": null,
       "left": null,
       "margin": null,
       "max_height": null,
       "max_width": null,
       "min_height": null,
       "min_width": null,
       "object_fit": null,
       "object_position": null,
       "order": null,
       "overflow": null,
       "padding": null,
       "right": null,
       "top": null,
       "visibility": null,
       "width": null
      }
     },
     "4155c288f56747a9be262a99c6d6c028": {
      "model_module": "@jupyter-widgets/controls",
      "model_module_version": "2.0.0",
      "model_name": "HTMLModel",
      "state": {
       "_dom_classes": [],
       "_model_module": "@jupyter-widgets/controls",
       "_model_module_version": "2.0.0",
       "_model_name": "HTMLModel",
       "_view_count": null,
       "_view_module": "@jupyter-widgets/controls",
       "_view_module_version": "2.0.0",
       "_view_name": "HTMLView",
       "description": "",
       "description_allow_html": false,
       "layout": "IPY_MODEL_a4a433b57168494f9a09e71738dae1b6",
       "placeholder": "​",
       "style": "IPY_MODEL_2aa5e0f019834344b4e15bbb0d48a75d",
       "tabbable": null,
       "tooltip": null,
       "value": " 3.13M/3.13M [00:00&lt;00:00, 9.78MB/s]"
      }
     },
     "4930e2b007e847cb88ede6c4e68ea219": {
      "model_module": "@jupyter-widgets/controls",
      "model_module_version": "2.0.0",
      "model_name": "FloatProgressModel",
      "state": {
       "_dom_classes": [],
       "_model_module": "@jupyter-widgets/controls",
       "_model_module_version": "2.0.0",
       "_model_name": "FloatProgressModel",
       "_view_count": null,
       "_view_module": "@jupyter-widgets/controls",
       "_view_module_version": "2.0.0",
       "_view_name": "ProgressView",
       "bar_style": "success",
       "description": "",
       "description_allow_html": false,
       "layout": "IPY_MODEL_ba21d62030424eeaa691a00b9fd7fa4a",
       "max": 542923308.0,
       "min": 0.0,
       "orientation": "horizontal",
       "style": "IPY_MODEL_7ab02a520ea94199b9ad7f49260a5b4a",
       "tabbable": null,
       "tooltip": null,
       "value": 542923308.0
      }
     },
     "4d045e30769d434dac07a7049695d6da": {
      "model_module": "@jupyter-widgets/base",
      "model_module_version": "2.0.0",
      "model_name": "LayoutModel",
      "state": {
       "_model_module": "@jupyter-widgets/base",
       "_model_module_version": "2.0.0",
       "_model_name": "LayoutModel",
       "_view_count": null,
       "_view_module": "@jupyter-widgets/base",
       "_view_module_version": "2.0.0",
       "_view_name": "LayoutView",
       "align_content": null,
       "align_items": null,
       "align_self": null,
       "border_bottom": null,
       "border_left": null,
       "border_right": null,
       "border_top": null,
       "bottom": null,
       "display": null,
       "flex": null,
       "flex_flow": null,
       "grid_area": null,
       "grid_auto_columns": null,
       "grid_auto_flow": null,
       "grid_auto_rows": null,
       "grid_column": null,
       "grid_gap": null,
       "grid_row": null,
       "grid_template_areas": null,
       "grid_template_columns": null,
       "grid_template_rows": null,
       "height": null,
       "justify_content": null,
       "justify_items": null,
       "left": null,
       "margin": null,
       "max_height": null,
       "max_width": null,
       "min_height": null,
       "min_width": null,
       "object_fit": null,
       "object_position": null,
       "order": null,
       "overflow": null,
       "padding": null,
       "right": null,
       "top": null,
       "visibility": null,
       "width": null
      }
     },
     "500170e863304646a15bace8c1e6318f": {
      "model_module": "@jupyter-widgets/base",
      "model_module_version": "2.0.0",
      "model_name": "LayoutModel",
      "state": {
       "_model_module": "@jupyter-widgets/base",
       "_model_module_version": "2.0.0",
       "_model_name": "LayoutModel",
       "_view_count": null,
       "_view_module": "@jupyter-widgets/base",
       "_view_module_version": "2.0.0",
       "_view_name": "LayoutView",
       "align_content": null,
       "align_items": null,
       "align_self": null,
       "border_bottom": null,
       "border_left": null,
       "border_right": null,
       "border_top": null,
       "bottom": null,
       "display": null,
       "flex": null,
       "flex_flow": null,
       "grid_area": null,
       "grid_auto_columns": null,
       "grid_auto_flow": null,
       "grid_auto_rows": null,
       "grid_column": null,
       "grid_gap": null,
       "grid_row": null,
       "grid_template_areas": null,
       "grid_template_columns": null,
       "grid_template_rows": null,
       "height": null,
       "justify_content": null,
       "justify_items": null,
       "left": null,
       "margin": null,
       "max_height": null,
       "max_width": null,
       "min_height": null,
       "min_width": null,
       "object_fit": null,
       "object_position": null,
       "order": null,
       "overflow": null,
       "padding": null,
       "right": null,
       "top": null,
       "visibility": null,
       "width": null
      }
     },
     "523416dca921452ca3ccee6eef4b83d4": {
      "model_module": "@jupyter-widgets/controls",
      "model_module_version": "2.0.0",
      "model_name": "HTMLModel",
      "state": {
       "_dom_classes": [],
       "_model_module": "@jupyter-widgets/controls",
       "_model_module_version": "2.0.0",
       "_model_name": "HTMLModel",
       "_view_count": null,
       "_view_module": "@jupyter-widgets/controls",
       "_view_module_version": "2.0.0",
       "_view_name": "HTMLView",
       "description": "",
       "description_allow_html": false,
       "layout": "IPY_MODEL_2d9ceedacab6410183a63a45797f64ab",
       "placeholder": "​",
       "style": "IPY_MODEL_75e3f6c5585849df84f96eda03f482c3",
       "tabbable": null,
       "tooltip": null,
       "value": "bpe.codes: 100%"
      }
     },
     "54c17beea39b4c77acd7420f1281a667": {
      "model_module": "@jupyter-widgets/base",
      "model_module_version": "2.0.0",
      "model_name": "LayoutModel",
      "state": {
       "_model_module": "@jupyter-widgets/base",
       "_model_module_version": "2.0.0",
       "_model_name": "LayoutModel",
       "_view_count": null,
       "_view_module": "@jupyter-widgets/base",
       "_view_module_version": "2.0.0",
       "_view_name": "LayoutView",
       "align_content": null,
       "align_items": null,
       "align_self": null,
       "border_bottom": null,
       "border_left": null,
       "border_right": null,
       "border_top": null,
       "bottom": null,
       "display": null,
       "flex": null,
       "flex_flow": null,
       "grid_area": null,
       "grid_auto_columns": null,
       "grid_auto_flow": null,
       "grid_auto_rows": null,
       "grid_column": null,
       "grid_gap": null,
       "grid_row": null,
       "grid_template_areas": null,
       "grid_template_columns": null,
       "grid_template_rows": null,
       "height": null,
       "justify_content": null,
       "justify_items": null,
       "left": null,
       "margin": null,
       "max_height": null,
       "max_width": null,
       "min_height": null,
       "min_width": null,
       "object_fit": null,
       "object_position": null,
       "order": null,
       "overflow": null,
       "padding": null,
       "right": null,
       "top": null,
       "visibility": null,
       "width": null
      }
     },
     "5515038a1e0f478281b9d3d129a2d960": {
      "model_module": "@jupyter-widgets/controls",
      "model_module_version": "2.0.0",
      "model_name": "FloatProgressModel",
      "state": {
       "_dom_classes": [],
       "_model_module": "@jupyter-widgets/controls",
       "_model_module_version": "2.0.0",
       "_model_name": "FloatProgressModel",
       "_view_count": null,
       "_view_module": "@jupyter-widgets/controls",
       "_view_module_version": "2.0.0",
       "_view_name": "ProgressView",
       "bar_style": "success",
       "description": "",
       "description_allow_html": false,
       "layout": "IPY_MODEL_5f3e0f47d216471a8d55a4c636364666",
       "max": 28948.0,
       "min": 0.0,
       "orientation": "horizontal",
       "style": "IPY_MODEL_bf220799aa3f4f9097143de8a1c2bf22",
       "tabbable": null,
       "tooltip": null,
       "value": 28948.0
      }
     },
     "5667eb4dc80c4c5f8a754f93d1f1a4ad": {
      "model_module": "@jupyter-widgets/base",
      "model_module_version": "2.0.0",
      "model_name": "LayoutModel",
      "state": {
       "_model_module": "@jupyter-widgets/base",
       "_model_module_version": "2.0.0",
       "_model_name": "LayoutModel",
       "_view_count": null,
       "_view_module": "@jupyter-widgets/base",
       "_view_module_version": "2.0.0",
       "_view_name": "LayoutView",
       "align_content": null,
       "align_items": null,
       "align_self": null,
       "border_bottom": null,
       "border_left": null,
       "border_right": null,
       "border_top": null,
       "bottom": null,
       "display": null,
       "flex": null,
       "flex_flow": null,
       "grid_area": null,
       "grid_auto_columns": null,
       "grid_auto_flow": null,
       "grid_auto_rows": null,
       "grid_column": null,
       "grid_gap": null,
       "grid_row": null,
       "grid_template_areas": null,
       "grid_template_columns": null,
       "grid_template_rows": null,
       "height": null,
       "justify_content": null,
       "justify_items": null,
       "left": null,
       "margin": null,
       "max_height": null,
       "max_width": null,
       "min_height": null,
       "min_width": null,
       "object_fit": null,
       "object_position": null,
       "order": null,
       "overflow": null,
       "padding": null,
       "right": null,
       "top": null,
       "visibility": null,
       "width": null
      }
     },
     "576e4f84e3244e76a7649dfbe72a3db9": {
      "model_module": "@jupyter-widgets/controls",
      "model_module_version": "2.0.0",
      "model_name": "HTMLModel",
      "state": {
       "_dom_classes": [],
       "_model_module": "@jupyter-widgets/controls",
       "_model_module_version": "2.0.0",
       "_model_name": "HTMLModel",
       "_view_count": null,
       "_view_module": "@jupyter-widgets/controls",
       "_view_module_version": "2.0.0",
       "_view_name": "HTMLView",
       "description": "",
       "description_allow_html": false,
       "layout": "IPY_MODEL_e1818d5450f247c09536293a95612809",
       "placeholder": "​",
       "style": "IPY_MODEL_a77ffa8fc2804672a7781bec870ccc3c",
       "tabbable": null,
       "tooltip": null,
       "value": " 543M/543M [00:02&lt;00:00, 276MB/s]"
      }
     },
     "59dd41aeadfb4737ae909ee034349167": {
      "model_module": "@jupyter-widgets/controls",
      "model_module_version": "2.0.0",
      "model_name": "ProgressStyleModel",
      "state": {
       "_model_module": "@jupyter-widgets/controls",
       "_model_module_version": "2.0.0",
       "_model_name": "ProgressStyleModel",
       "_view_count": null,
       "_view_module": "@jupyter-widgets/base",
       "_view_module_version": "2.0.0",
       "_view_name": "StyleView",
       "bar_color": null,
       "description_width": ""
      }
     },
     "5eae373c4dbc4a57a0e08b449e3075a0": {
      "model_module": "@jupyter-widgets/controls",
      "model_module_version": "2.0.0",
      "model_name": "HTMLStyleModel",
      "state": {
       "_model_module": "@jupyter-widgets/controls",
       "_model_module_version": "2.0.0",
       "_model_name": "HTMLStyleModel",
       "_view_count": null,
       "_view_module": "@jupyter-widgets/base",
       "_view_module_version": "2.0.0",
       "_view_name": "StyleView",
       "background": null,
       "description_width": "",
       "font_size": null,
       "text_color": null
      }
     },
     "5f3e0f47d216471a8d55a4c636364666": {
      "model_module": "@jupyter-widgets/base",
      "model_module_version": "2.0.0",
      "model_name": "LayoutModel",
      "state": {
       "_model_module": "@jupyter-widgets/base",
       "_model_module_version": "2.0.0",
       "_model_name": "LayoutModel",
       "_view_count": null,
       "_view_module": "@jupyter-widgets/base",
       "_view_module_version": "2.0.0",
       "_view_name": "LayoutView",
       "align_content": null,
       "align_items": null,
       "align_self": null,
       "border_bottom": null,
       "border_left": null,
       "border_right": null,
       "border_top": null,
       "bottom": null,
       "display": null,
       "flex": null,
       "flex_flow": null,
       "grid_area": null,
       "grid_auto_columns": null,
       "grid_auto_flow": null,
       "grid_auto_rows": null,
       "grid_column": null,
       "grid_gap": null,
       "grid_row": null,
       "grid_template_areas": null,
       "grid_template_columns": null,
       "grid_template_rows": null,
       "height": null,
       "justify_content": null,
       "justify_items": null,
       "left": null,
       "margin": null,
       "max_height": null,
       "max_width": null,
       "min_height": null,
       "min_width": null,
       "object_fit": null,
       "object_position": null,
       "order": null,
       "overflow": null,
       "padding": null,
       "right": null,
       "top": null,
       "visibility": null,
       "width": null
      }
     },
     "5fe66a9fdbff40999a60949618bc9673": {
      "model_module": "@jupyter-widgets/controls",
      "model_module_version": "2.0.0",
      "model_name": "ProgressStyleModel",
      "state": {
       "_model_module": "@jupyter-widgets/controls",
       "_model_module_version": "2.0.0",
       "_model_name": "ProgressStyleModel",
       "_view_count": null,
       "_view_module": "@jupyter-widgets/base",
       "_view_module_version": "2.0.0",
       "_view_name": "StyleView",
       "bar_color": null,
       "description_width": ""
      }
     },
     "66ad350435c34cbfbb0ef1a2901066fa": {
      "model_module": "@jupyter-widgets/controls",
      "model_module_version": "2.0.0",
      "model_name": "HTMLModel",
      "state": {
       "_dom_classes": [],
       "_model_module": "@jupyter-widgets/controls",
       "_model_module_version": "2.0.0",
       "_model_name": "HTMLModel",
       "_view_count": null,
       "_view_module": "@jupyter-widgets/controls",
       "_view_module_version": "2.0.0",
       "_view_name": "HTMLView",
       "description": "",
       "description_allow_html": false,
       "layout": "IPY_MODEL_3cee4c506e69409ebde0a1a2b3abbe41",
       "placeholder": "​",
       "style": "IPY_MODEL_70c5960411814f89b2062dcb5e5aa595",
       "tabbable": null,
       "tooltip": null,
       "value": "tokenizer.json: 100%"
      }
     },
     "681497c80d284e088400582dfda58a48": {
      "model_module": "@jupyter-widgets/controls",
      "model_module_version": "2.0.0",
      "model_name": "HBoxModel",
      "state": {
       "_dom_classes": [],
       "_model_module": "@jupyter-widgets/controls",
       "_model_module_version": "2.0.0",
       "_model_name": "HBoxModel",
       "_view_count": null,
       "_view_module": "@jupyter-widgets/controls",
       "_view_module_version": "2.0.0",
       "_view_name": "HBoxView",
       "box_style": "",
       "children": [
        "IPY_MODEL_1f7a82afa7e5444b9993f2187cdf4f58",
        "IPY_MODEL_08f1d2de75304de1aa3a9b77dd3bd162",
        "IPY_MODEL_02580077376f4c14af7cc24dceb8cf21"
       ],
       "layout": "IPY_MODEL_c6944c422c8645d49325c43f277b89fb",
       "tabbable": null,
       "tooltip": null
      }
     },
     "70c5960411814f89b2062dcb5e5aa595": {
      "model_module": "@jupyter-widgets/controls",
      "model_module_version": "2.0.0",
      "model_name": "HTMLStyleModel",
      "state": {
       "_model_module": "@jupyter-widgets/controls",
       "_model_module_version": "2.0.0",
       "_model_name": "HTMLStyleModel",
       "_view_count": null,
       "_view_module": "@jupyter-widgets/base",
       "_view_module_version": "2.0.0",
       "_view_name": "StyleView",
       "background": null,
       "description_width": "",
       "font_size": null,
       "text_color": null
      }
     },
     "75e3f6c5585849df84f96eda03f482c3": {
      "model_module": "@jupyter-widgets/controls",
      "model_module_version": "2.0.0",
      "model_name": "HTMLStyleModel",
      "state": {
       "_model_module": "@jupyter-widgets/controls",
       "_model_module_version": "2.0.0",
       "_model_name": "HTMLStyleModel",
       "_view_count": null,
       "_view_module": "@jupyter-widgets/base",
       "_view_module_version": "2.0.0",
       "_view_name": "StyleView",
       "background": null,
       "description_width": "",
       "font_size": null,
       "text_color": null
      }
     },
     "7ab02a520ea94199b9ad7f49260a5b4a": {
      "model_module": "@jupyter-widgets/controls",
      "model_module_version": "2.0.0",
      "model_name": "ProgressStyleModel",
      "state": {
       "_model_module": "@jupyter-widgets/controls",
       "_model_module_version": "2.0.0",
       "_model_name": "ProgressStyleModel",
       "_view_count": null,
       "_view_module": "@jupyter-widgets/base",
       "_view_module_version": "2.0.0",
       "_view_name": "StyleView",
       "bar_color": null,
       "description_width": ""
      }
     },
     "7c8b430cc6274fdcacd83427e617eb62": {
      "model_module": "@jupyter-widgets/base",
      "model_module_version": "2.0.0",
      "model_name": "LayoutModel",
      "state": {
       "_model_module": "@jupyter-widgets/base",
       "_model_module_version": "2.0.0",
       "_model_name": "LayoutModel",
       "_view_count": null,
       "_view_module": "@jupyter-widgets/base",
       "_view_module_version": "2.0.0",
       "_view_name": "LayoutView",
       "align_content": null,
       "align_items": null,
       "align_self": null,
       "border_bottom": null,
       "border_left": null,
       "border_right": null,
       "border_top": null,
       "bottom": null,
       "display": null,
       "flex": null,
       "flex_flow": null,
       "grid_area": null,
       "grid_auto_columns": null,
       "grid_auto_flow": null,
       "grid_auto_rows": null,
       "grid_column": null,
       "grid_gap": null,
       "grid_row": null,
       "grid_template_areas": null,
       "grid_template_columns": null,
       "grid_template_rows": null,
       "height": null,
       "justify_content": null,
       "justify_items": null,
       "left": null,
       "margin": null,
       "max_height": null,
       "max_width": null,
       "min_height": null,
       "min_width": null,
       "object_fit": null,
       "object_position": null,
       "order": null,
       "overflow": null,
       "padding": null,
       "right": null,
       "top": null,
       "visibility": null,
       "width": null
      }
     },
     "7e291541cb8f4adfbd5b950bddc86078": {
      "model_module": "@jupyter-widgets/controls",
      "model_module_version": "2.0.0",
      "model_name": "HTMLModel",
      "state": {
       "_dom_classes": [],
       "_model_module": "@jupyter-widgets/controls",
       "_model_module_version": "2.0.0",
       "_model_name": "HTMLModel",
       "_view_count": null,
       "_view_module": "@jupyter-widgets/controls",
       "_view_module_version": "2.0.0",
       "_view_name": "HTMLView",
       "description": "",
       "description_allow_html": false,
       "layout": "IPY_MODEL_da754acc881f4d5dafc1b56dd45703f5",
       "placeholder": "​",
       "style": "IPY_MODEL_0986d92fcf664dbd8bc5043a32bb0906",
       "tabbable": null,
       "tooltip": null,
       "value": " 28948/28948 [00:15&lt;00:00, 1785.30 examples/s]"
      }
     },
     "87588798c94e445d87361223e2b10fe7": {
      "model_module": "@jupyter-widgets/controls",
      "model_module_version": "2.0.0",
      "model_name": "FloatProgressModel",
      "state": {
       "_dom_classes": [],
       "_model_module": "@jupyter-widgets/controls",
       "_model_module_version": "2.0.0",
       "_model_name": "FloatProgressModel",
       "_view_count": null,
       "_view_module": "@jupyter-widgets/controls",
       "_view_module_version": "2.0.0",
       "_view_name": "ProgressView",
       "bar_style": "success",
       "description": "",
       "description_allow_html": false,
       "layout": "IPY_MODEL_ccc5db9feb2c4c8f939be0067d94b8f5",
       "max": 1135173.0,
       "min": 0.0,
       "orientation": "horizontal",
       "style": "IPY_MODEL_5fe66a9fdbff40999a60949618bc9673",
       "tabbable": null,
       "tooltip": null,
       "value": 1135173.0
      }
     },
     "878dc6b9fd274810ae85444f09251ac5": {
      "model_module": "@jupyter-widgets/base",
      "model_module_version": "2.0.0",
      "model_name": "LayoutModel",
      "state": {
       "_model_module": "@jupyter-widgets/base",
       "_model_module_version": "2.0.0",
       "_model_name": "LayoutModel",
       "_view_count": null,
       "_view_module": "@jupyter-widgets/base",
       "_view_module_version": "2.0.0",
       "_view_name": "LayoutView",
       "align_content": null,
       "align_items": null,
       "align_self": null,
       "border_bottom": null,
       "border_left": null,
       "border_right": null,
       "border_top": null,
       "bottom": null,
       "display": null,
       "flex": null,
       "flex_flow": null,
       "grid_area": null,
       "grid_auto_columns": null,
       "grid_auto_flow": null,
       "grid_auto_rows": null,
       "grid_column": null,
       "grid_gap": null,
       "grid_row": null,
       "grid_template_areas": null,
       "grid_template_columns": null,
       "grid_template_rows": null,
       "height": null,
       "justify_content": null,
       "justify_items": null,
       "left": null,
       "margin": null,
       "max_height": null,
       "max_width": null,
       "min_height": null,
       "min_width": null,
       "object_fit": null,
       "object_position": null,
       "order": null,
       "overflow": null,
       "padding": null,
       "right": null,
       "top": null,
       "visibility": null,
       "width": null
      }
     },
     "8d75309f7a534b62a99d7ba1c63db28a": {
      "model_module": "@jupyter-widgets/controls",
      "model_module_version": "2.0.0",
      "model_name": "HTMLModel",
      "state": {
       "_dom_classes": [],
       "_model_module": "@jupyter-widgets/controls",
       "_model_module_version": "2.0.0",
       "_model_name": "HTMLModel",
       "_view_count": null,
       "_view_module": "@jupyter-widgets/controls",
       "_view_module_version": "2.0.0",
       "_view_name": "HTMLView",
       "description": "",
       "description_allow_html": false,
       "layout": "IPY_MODEL_26f389eee66d41dcb2290349843751fd",
       "placeholder": "​",
       "style": "IPY_MODEL_39fbe6e01f9d4643af47bc2e32187546",
       "tabbable": null,
       "tooltip": null,
       "value": "Map: 100%"
      }
     },
     "94b1428b10824413b3fcc8d4baa43c63": {
      "model_module": "@jupyter-widgets/base",
      "model_module_version": "2.0.0",
      "model_name": "LayoutModel",
      "state": {
       "_model_module": "@jupyter-widgets/base",
       "_model_module_version": "2.0.0",
       "_model_name": "LayoutModel",
       "_view_count": null,
       "_view_module": "@jupyter-widgets/base",
       "_view_module_version": "2.0.0",
       "_view_name": "LayoutView",
       "align_content": null,
       "align_items": null,
       "align_self": null,
       "border_bottom": null,
       "border_left": null,
       "border_right": null,
       "border_top": null,
       "bottom": null,
       "display": null,
       "flex": null,
       "flex_flow": null,
       "grid_area": null,
       "grid_auto_columns": null,
       "grid_auto_flow": null,
       "grid_auto_rows": null,
       "grid_column": null,
       "grid_gap": null,
       "grid_row": null,
       "grid_template_areas": null,
       "grid_template_columns": null,
       "grid_template_rows": null,
       "height": null,
       "justify_content": null,
       "justify_items": null,
       "left": null,
       "margin": null,
       "max_height": null,
       "max_width": null,
       "min_height": null,
       "min_width": null,
       "object_fit": null,
       "object_position": null,
       "order": null,
       "overflow": null,
       "padding": null,
       "right": null,
       "top": null,
       "visibility": null,
       "width": null
      }
     },
     "99822b00bd794b068bc15ed709ed7a75": {
      "model_module": "@jupyter-widgets/controls",
      "model_module_version": "2.0.0",
      "model_name": "HTMLStyleModel",
      "state": {
       "_model_module": "@jupyter-widgets/controls",
       "_model_module_version": "2.0.0",
       "_model_name": "HTMLStyleModel",
       "_view_count": null,
       "_view_module": "@jupyter-widgets/base",
       "_view_module_version": "2.0.0",
       "_view_name": "StyleView",
       "background": null,
       "description_width": "",
       "font_size": null,
       "text_color": null
      }
     },
     "a4460d6249d7497b993e7d713b3660aa": {
      "model_module": "@jupyter-widgets/controls",
      "model_module_version": "2.0.0",
      "model_name": "ProgressStyleModel",
      "state": {
       "_model_module": "@jupyter-widgets/controls",
       "_model_module_version": "2.0.0",
       "_model_name": "ProgressStyleModel",
       "_view_count": null,
       "_view_module": "@jupyter-widgets/base",
       "_view_module_version": "2.0.0",
       "_view_name": "StyleView",
       "bar_color": null,
       "description_width": ""
      }
     },
     "a4a433b57168494f9a09e71738dae1b6": {
      "model_module": "@jupyter-widgets/base",
      "model_module_version": "2.0.0",
      "model_name": "LayoutModel",
      "state": {
       "_model_module": "@jupyter-widgets/base",
       "_model_module_version": "2.0.0",
       "_model_name": "LayoutModel",
       "_view_count": null,
       "_view_module": "@jupyter-widgets/base",
       "_view_module_version": "2.0.0",
       "_view_name": "LayoutView",
       "align_content": null,
       "align_items": null,
       "align_self": null,
       "border_bottom": null,
       "border_left": null,
       "border_right": null,
       "border_top": null,
       "bottom": null,
       "display": null,
       "flex": null,
       "flex_flow": null,
       "grid_area": null,
       "grid_auto_columns": null,
       "grid_auto_flow": null,
       "grid_auto_rows": null,
       "grid_column": null,
       "grid_gap": null,
       "grid_row": null,
       "grid_template_areas": null,
       "grid_template_columns": null,
       "grid_template_rows": null,
       "height": null,
       "justify_content": null,
       "justify_items": null,
       "left": null,
       "margin": null,
       "max_height": null,
       "max_width": null,
       "min_height": null,
       "min_width": null,
       "object_fit": null,
       "object_position": null,
       "order": null,
       "overflow": null,
       "padding": null,
       "right": null,
       "top": null,
       "visibility": null,
       "width": null
      }
     },
     "a77ffa8fc2804672a7781bec870ccc3c": {
      "model_module": "@jupyter-widgets/controls",
      "model_module_version": "2.0.0",
      "model_name": "HTMLStyleModel",
      "state": {
       "_model_module": "@jupyter-widgets/controls",
       "_model_module_version": "2.0.0",
       "_model_name": "HTMLStyleModel",
       "_view_count": null,
       "_view_module": "@jupyter-widgets/base",
       "_view_module_version": "2.0.0",
       "_view_name": "StyleView",
       "background": null,
       "description_width": "",
       "font_size": null,
       "text_color": null
      }
     },
     "a8744800a53144818eebb164d1294df0": {
      "model_module": "@jupyter-widgets/base",
      "model_module_version": "2.0.0",
      "model_name": "LayoutModel",
      "state": {
       "_model_module": "@jupyter-widgets/base",
       "_model_module_version": "2.0.0",
       "_model_name": "LayoutModel",
       "_view_count": null,
       "_view_module": "@jupyter-widgets/base",
       "_view_module_version": "2.0.0",
       "_view_name": "LayoutView",
       "align_content": null,
       "align_items": null,
       "align_self": null,
       "border_bottom": null,
       "border_left": null,
       "border_right": null,
       "border_top": null,
       "bottom": null,
       "display": null,
       "flex": null,
       "flex_flow": null,
       "grid_area": null,
       "grid_auto_columns": null,
       "grid_auto_flow": null,
       "grid_auto_rows": null,
       "grid_column": null,
       "grid_gap": null,
       "grid_row": null,
       "grid_template_areas": null,
       "grid_template_columns": null,
       "grid_template_rows": null,
       "height": null,
       "justify_content": null,
       "justify_items": null,
       "left": null,
       "margin": null,
       "max_height": null,
       "max_width": null,
       "min_height": null,
       "min_width": null,
       "object_fit": null,
       "object_position": null,
       "order": null,
       "overflow": null,
       "padding": null,
       "right": null,
       "top": null,
       "visibility": null,
       "width": null
      }
     },
     "aad8fe2d72d64ab8a6b5fb41f7cf9b31": {
      "model_module": "@jupyter-widgets/controls",
      "model_module_version": "2.0.0",
      "model_name": "HBoxModel",
      "state": {
       "_dom_classes": [],
       "_model_module": "@jupyter-widgets/controls",
       "_model_module_version": "2.0.0",
       "_model_name": "HBoxModel",
       "_view_count": null,
       "_view_module": "@jupyter-widgets/controls",
       "_view_module_version": "2.0.0",
       "_view_name": "HBoxView",
       "box_style": "",
       "children": [
        "IPY_MODEL_8d75309f7a534b62a99d7ba1c63db28a",
        "IPY_MODEL_5515038a1e0f478281b9d3d129a2d960",
        "IPY_MODEL_c635908f9a254e05af6f0b01e549f3da"
       ],
       "layout": "IPY_MODEL_cdfcd96e41094d5295f40af1d5fadbc9",
       "tabbable": null,
       "tooltip": null
      }
     },
     "b1dbc895f5b74c4eb91b5b942b211866": {
      "model_module": "@jupyter-widgets/base",
      "model_module_version": "2.0.0",
      "model_name": "LayoutModel",
      "state": {
       "_model_module": "@jupyter-widgets/base",
       "_model_module_version": "2.0.0",
       "_model_name": "LayoutModel",
       "_view_count": null,
       "_view_module": "@jupyter-widgets/base",
       "_view_module_version": "2.0.0",
       "_view_name": "LayoutView",
       "align_content": null,
       "align_items": null,
       "align_self": null,
       "border_bottom": null,
       "border_left": null,
       "border_right": null,
       "border_top": null,
       "bottom": null,
       "display": null,
       "flex": null,
       "flex_flow": null,
       "grid_area": null,
       "grid_auto_columns": null,
       "grid_auto_flow": null,
       "grid_auto_rows": null,
       "grid_column": null,
       "grid_gap": null,
       "grid_row": null,
       "grid_template_areas": null,
       "grid_template_columns": null,
       "grid_template_rows": null,
       "height": null,
       "justify_content": null,
       "justify_items": null,
       "left": null,
       "margin": null,
       "max_height": null,
       "max_width": null,
       "min_height": null,
       "min_width": null,
       "object_fit": null,
       "object_position": null,
       "order": null,
       "overflow": null,
       "padding": null,
       "right": null,
       "top": null,
       "visibility": null,
       "width": null
      }
     },
     "ba21d62030424eeaa691a00b9fd7fa4a": {
      "model_module": "@jupyter-widgets/base",
      "model_module_version": "2.0.0",
      "model_name": "LayoutModel",
      "state": {
       "_model_module": "@jupyter-widgets/base",
       "_model_module_version": "2.0.0",
       "_model_name": "LayoutModel",
       "_view_count": null,
       "_view_module": "@jupyter-widgets/base",
       "_view_module_version": "2.0.0",
       "_view_name": "LayoutView",
       "align_content": null,
       "align_items": null,
       "align_self": null,
       "border_bottom": null,
       "border_left": null,
       "border_right": null,
       "border_top": null,
       "bottom": null,
       "display": null,
       "flex": null,
       "flex_flow": null,
       "grid_area": null,
       "grid_auto_columns": null,
       "grid_auto_flow": null,
       "grid_auto_rows": null,
       "grid_column": null,
       "grid_gap": null,
       "grid_row": null,
       "grid_template_areas": null,
       "grid_template_columns": null,
       "grid_template_rows": null,
       "height": null,
       "justify_content": null,
       "justify_items": null,
       "left": null,
       "margin": null,
       "max_height": null,
       "max_width": null,
       "min_height": null,
       "min_width": null,
       "object_fit": null,
       "object_position": null,
       "order": null,
       "overflow": null,
       "padding": null,
       "right": null,
       "top": null,
       "visibility": null,
       "width": null
      }
     },
     "babd8a4e59944e088c3d2eda68709141": {
      "model_module": "@jupyter-widgets/controls",
      "model_module_version": "2.0.0",
      "model_name": "HBoxModel",
      "state": {
       "_dom_classes": [],
       "_model_module": "@jupyter-widgets/controls",
       "_model_module_version": "2.0.0",
       "_model_name": "HBoxModel",
       "_view_count": null,
       "_view_module": "@jupyter-widgets/controls",
       "_view_module_version": "2.0.0",
       "_view_name": "HBoxView",
       "box_style": "",
       "children": [
        "IPY_MODEL_523416dca921452ca3ccee6eef4b83d4",
        "IPY_MODEL_87588798c94e445d87361223e2b10fe7",
        "IPY_MODEL_37baed71ad5943918cd66c831298240c"
       ],
       "layout": "IPY_MODEL_94b1428b10824413b3fcc8d4baa43c63",
       "tabbable": null,
       "tooltip": null
      }
     },
     "bedf56782df94a808290058df8e9f1c7": {
      "model_module": "@jupyter-widgets/controls",
      "model_module_version": "2.0.0",
      "model_name": "HTMLStyleModel",
      "state": {
       "_model_module": "@jupyter-widgets/controls",
       "_model_module_version": "2.0.0",
       "_model_name": "HTMLStyleModel",
       "_view_count": null,
       "_view_module": "@jupyter-widgets/base",
       "_view_module_version": "2.0.0",
       "_view_name": "StyleView",
       "background": null,
       "description_width": "",
       "font_size": null,
       "text_color": null
      }
     },
     "bf220799aa3f4f9097143de8a1c2bf22": {
      "model_module": "@jupyter-widgets/controls",
      "model_module_version": "2.0.0",
      "model_name": "ProgressStyleModel",
      "state": {
       "_model_module": "@jupyter-widgets/controls",
       "_model_module_version": "2.0.0",
       "_model_name": "ProgressStyleModel",
       "_view_count": null,
       "_view_module": "@jupyter-widgets/base",
       "_view_module_version": "2.0.0",
       "_view_name": "StyleView",
       "bar_color": null,
       "description_width": ""
      }
     },
     "c0f5390cf0964ff5a817ba8c0a3e5ac7": {
      "model_module": "@jupyter-widgets/base",
      "model_module_version": "2.0.0",
      "model_name": "LayoutModel",
      "state": {
       "_model_module": "@jupyter-widgets/base",
       "_model_module_version": "2.0.0",
       "_model_name": "LayoutModel",
       "_view_count": null,
       "_view_module": "@jupyter-widgets/base",
       "_view_module_version": "2.0.0",
       "_view_name": "LayoutView",
       "align_content": null,
       "align_items": null,
       "align_self": null,
       "border_bottom": null,
       "border_left": null,
       "border_right": null,
       "border_top": null,
       "bottom": null,
       "display": null,
       "flex": null,
       "flex_flow": null,
       "grid_area": null,
       "grid_auto_columns": null,
       "grid_auto_flow": null,
       "grid_auto_rows": null,
       "grid_column": null,
       "grid_gap": null,
       "grid_row": null,
       "grid_template_areas": null,
       "grid_template_columns": null,
       "grid_template_rows": null,
       "height": null,
       "justify_content": null,
       "justify_items": null,
       "left": null,
       "margin": null,
       "max_height": null,
       "max_width": null,
       "min_height": null,
       "min_width": null,
       "object_fit": null,
       "object_position": null,
       "order": null,
       "overflow": null,
       "padding": null,
       "right": null,
       "top": null,
       "visibility": null,
       "width": null
      }
     },
     "c486b22292a9480f929a6fce3b8f5f21": {
      "model_module": "@jupyter-widgets/base",
      "model_module_version": "2.0.0",
      "model_name": "LayoutModel",
      "state": {
       "_model_module": "@jupyter-widgets/base",
       "_model_module_version": "2.0.0",
       "_model_name": "LayoutModel",
       "_view_count": null,
       "_view_module": "@jupyter-widgets/base",
       "_view_module_version": "2.0.0",
       "_view_name": "LayoutView",
       "align_content": null,
       "align_items": null,
       "align_self": null,
       "border_bottom": null,
       "border_left": null,
       "border_right": null,
       "border_top": null,
       "bottom": null,
       "display": null,
       "flex": null,
       "flex_flow": null,
       "grid_area": null,
       "grid_auto_columns": null,
       "grid_auto_flow": null,
       "grid_auto_rows": null,
       "grid_column": null,
       "grid_gap": null,
       "grid_row": null,
       "grid_template_areas": null,
       "grid_template_columns": null,
       "grid_template_rows": null,
       "height": null,
       "justify_content": null,
       "justify_items": null,
       "left": null,
       "margin": null,
       "max_height": null,
       "max_width": null,
       "min_height": null,
       "min_width": null,
       "object_fit": null,
       "object_position": null,
       "order": null,
       "overflow": null,
       "padding": null,
       "right": null,
       "top": null,
       "visibility": null,
       "width": null
      }
     },
     "c635908f9a254e05af6f0b01e549f3da": {
      "model_module": "@jupyter-widgets/controls",
      "model_module_version": "2.0.0",
      "model_name": "HTMLModel",
      "state": {
       "_dom_classes": [],
       "_model_module": "@jupyter-widgets/controls",
       "_model_module_version": "2.0.0",
       "_model_name": "HTMLModel",
       "_view_count": null,
       "_view_module": "@jupyter-widgets/controls",
       "_view_module_version": "2.0.0",
       "_view_name": "HTMLView",
       "description": "",
       "description_allow_html": false,
       "layout": "IPY_MODEL_d033396ed7934f4396ba7223166be138",
       "placeholder": "​",
       "style": "IPY_MODEL_eafeadd42a12490f87f4b69f50ac156b",
       "tabbable": null,
       "tooltip": null,
       "value": " 28948/28948 [00:01&lt;00:00, 15949.95 examples/s]"
      }
     },
     "c6944c422c8645d49325c43f277b89fb": {
      "model_module": "@jupyter-widgets/base",
      "model_module_version": "2.0.0",
      "model_name": "LayoutModel",
      "state": {
       "_model_module": "@jupyter-widgets/base",
       "_model_module_version": "2.0.0",
       "_model_name": "LayoutModel",
       "_view_count": null,
       "_view_module": "@jupyter-widgets/base",
       "_view_module_version": "2.0.0",
       "_view_name": "LayoutView",
       "align_content": null,
       "align_items": null,
       "align_self": null,
       "border_bottom": null,
       "border_left": null,
       "border_right": null,
       "border_top": null,
       "bottom": null,
       "display": null,
       "flex": null,
       "flex_flow": null,
       "grid_area": null,
       "grid_auto_columns": null,
       "grid_auto_flow": null,
       "grid_auto_rows": null,
       "grid_column": null,
       "grid_gap": null,
       "grid_row": null,
       "grid_template_areas": null,
       "grid_template_columns": null,
       "grid_template_rows": null,
       "height": null,
       "justify_content": null,
       "justify_items": null,
       "left": null,
       "margin": null,
       "max_height": null,
       "max_width": null,
       "min_height": null,
       "min_width": null,
       "object_fit": null,
       "object_position": null,
       "order": null,
       "overflow": null,
       "padding": null,
       "right": null,
       "top": null,
       "visibility": null,
       "width": null
      }
     },
     "cb5b861c6394492eabe309ebf526cecf": {
      "model_module": "@jupyter-widgets/controls",
      "model_module_version": "2.0.0",
      "model_name": "HTMLModel",
      "state": {
       "_dom_classes": [],
       "_model_module": "@jupyter-widgets/controls",
       "_model_module_version": "2.0.0",
       "_model_name": "HTMLModel",
       "_view_count": null,
       "_view_module": "@jupyter-widgets/controls",
       "_view_module_version": "2.0.0",
       "_view_name": "HTMLView",
       "description": "",
       "description_allow_html": false,
       "layout": "IPY_MODEL_40329c2492814364abc734da86122162",
       "placeholder": "​",
       "style": "IPY_MODEL_99822b00bd794b068bc15ed709ed7a75",
       "tabbable": null,
       "tooltip": null,
       "value": " 557/557 [00:00&lt;00:00, 47.7kB/s]"
      }
     },
     "ccc5db9feb2c4c8f939be0067d94b8f5": {
      "model_module": "@jupyter-widgets/base",
      "model_module_version": "2.0.0",
      "model_name": "LayoutModel",
      "state": {
       "_model_module": "@jupyter-widgets/base",
       "_model_module_version": "2.0.0",
       "_model_name": "LayoutModel",
       "_view_count": null,
       "_view_module": "@jupyter-widgets/base",
       "_view_module_version": "2.0.0",
       "_view_name": "LayoutView",
       "align_content": null,
       "align_items": null,
       "align_self": null,
       "border_bottom": null,
       "border_left": null,
       "border_right": null,
       "border_top": null,
       "bottom": null,
       "display": null,
       "flex": null,
       "flex_flow": null,
       "grid_area": null,
       "grid_auto_columns": null,
       "grid_auto_flow": null,
       "grid_auto_rows": null,
       "grid_column": null,
       "grid_gap": null,
       "grid_row": null,
       "grid_template_areas": null,
       "grid_template_columns": null,
       "grid_template_rows": null,
       "height": null,
       "justify_content": null,
       "justify_items": null,
       "left": null,
       "margin": null,
       "max_height": null,
       "max_width": null,
       "min_height": null,
       "min_width": null,
       "object_fit": null,
       "object_position": null,
       "order": null,
       "overflow": null,
       "padding": null,
       "right": null,
       "top": null,
       "visibility": null,
       "width": null
      }
     },
     "cdfcd96e41094d5295f40af1d5fadbc9": {
      "model_module": "@jupyter-widgets/base",
      "model_module_version": "2.0.0",
      "model_name": "LayoutModel",
      "state": {
       "_model_module": "@jupyter-widgets/base",
       "_model_module_version": "2.0.0",
       "_model_name": "LayoutModel",
       "_view_count": null,
       "_view_module": "@jupyter-widgets/base",
       "_view_module_version": "2.0.0",
       "_view_name": "LayoutView",
       "align_content": null,
       "align_items": null,
       "align_self": null,
       "border_bottom": null,
       "border_left": null,
       "border_right": null,
       "border_top": null,
       "bottom": null,
       "display": null,
       "flex": null,
       "flex_flow": null,
       "grid_area": null,
       "grid_auto_columns": null,
       "grid_auto_flow": null,
       "grid_auto_rows": null,
       "grid_column": null,
       "grid_gap": null,
       "grid_row": null,
       "grid_template_areas": null,
       "grid_template_columns": null,
       "grid_template_rows": null,
       "height": null,
       "justify_content": null,
       "justify_items": null,
       "left": null,
       "margin": null,
       "max_height": null,
       "max_width": null,
       "min_height": null,
       "min_width": null,
       "object_fit": null,
       "object_position": null,
       "order": null,
       "overflow": null,
       "padding": null,
       "right": null,
       "top": null,
       "visibility": null,
       "width": null
      }
     },
     "d033396ed7934f4396ba7223166be138": {
      "model_module": "@jupyter-widgets/base",
      "model_module_version": "2.0.0",
      "model_name": "LayoutModel",
      "state": {
       "_model_module": "@jupyter-widgets/base",
       "_model_module_version": "2.0.0",
       "_model_name": "LayoutModel",
       "_view_count": null,
       "_view_module": "@jupyter-widgets/base",
       "_view_module_version": "2.0.0",
       "_view_name": "LayoutView",
       "align_content": null,
       "align_items": null,
       "align_self": null,
       "border_bottom": null,
       "border_left": null,
       "border_right": null,
       "border_top": null,
       "bottom": null,
       "display": null,
       "flex": null,
       "flex_flow": null,
       "grid_area": null,
       "grid_auto_columns": null,
       "grid_auto_flow": null,
       "grid_auto_rows": null,
       "grid_column": null,
       "grid_gap": null,
       "grid_row": null,
       "grid_template_areas": null,
       "grid_template_columns": null,
       "grid_template_rows": null,
       "height": null,
       "justify_content": null,
       "justify_items": null,
       "left": null,
       "margin": null,
       "max_height": null,
       "max_width": null,
       "min_height": null,
       "min_width": null,
       "object_fit": null,
       "object_position": null,
       "order": null,
       "overflow": null,
       "padding": null,
       "right": null,
       "top": null,
       "visibility": null,
       "width": null
      }
     },
     "d199984535614b60808622a9d03decbf": {
      "model_module": "@jupyter-widgets/controls",
      "model_module_version": "2.0.0",
      "model_name": "HTMLModel",
      "state": {
       "_dom_classes": [],
       "_model_module": "@jupyter-widgets/controls",
       "_model_module_version": "2.0.0",
       "_model_name": "HTMLModel",
       "_view_count": null,
       "_view_module": "@jupyter-widgets/controls",
       "_view_module_version": "2.0.0",
       "_view_name": "HTMLView",
       "description": "",
       "description_allow_html": false,
       "layout": "IPY_MODEL_b1dbc895f5b74c4eb91b5b942b211866",
       "placeholder": "​",
       "style": "IPY_MODEL_dbd847e43b1b43cea290e3b92ced459f",
       "tabbable": null,
       "tooltip": null,
       "value": "Map: 100%"
      }
     },
     "d42d191f470042c287d75e05e5f88635": {
      "model_module": "@jupyter-widgets/controls",
      "model_module_version": "2.0.0",
      "model_name": "HBoxModel",
      "state": {
       "_dom_classes": [],
       "_model_module": "@jupyter-widgets/controls",
       "_model_module_version": "2.0.0",
       "_model_name": "HBoxModel",
       "_view_count": null,
       "_view_module": "@jupyter-widgets/controls",
       "_view_module_version": "2.0.0",
       "_view_name": "HBoxView",
       "box_style": "",
       "children": [
        "IPY_MODEL_d199984535614b60808622a9d03decbf",
        "IPY_MODEL_d8d609f44d0244e59729d656df89fba6",
        "IPY_MODEL_7e291541cb8f4adfbd5b950bddc86078"
       ],
       "layout": "IPY_MODEL_c486b22292a9480f929a6fce3b8f5f21",
       "tabbable": null,
       "tooltip": null
      }
     },
     "d8d609f44d0244e59729d656df89fba6": {
      "model_module": "@jupyter-widgets/controls",
      "model_module_version": "2.0.0",
      "model_name": "FloatProgressModel",
      "state": {
       "_dom_classes": [],
       "_model_module": "@jupyter-widgets/controls",
       "_model_module_version": "2.0.0",
       "_model_name": "FloatProgressModel",
       "_view_count": null,
       "_view_module": "@jupyter-widgets/controls",
       "_view_module_version": "2.0.0",
       "_view_name": "ProgressView",
       "bar_style": "success",
       "description": "",
       "description_allow_html": false,
       "layout": "IPY_MODEL_3f3e4eb460d64ca790d98e05f960b793",
       "max": 28948.0,
       "min": 0.0,
       "orientation": "horizontal",
       "style": "IPY_MODEL_2a7dedec5cd04a22a7570c296d559550",
       "tabbable": null,
       "tooltip": null,
       "value": 28948.0
      }
     },
     "da754acc881f4d5dafc1b56dd45703f5": {
      "model_module": "@jupyter-widgets/base",
      "model_module_version": "2.0.0",
      "model_name": "LayoutModel",
      "state": {
       "_model_module": "@jupyter-widgets/base",
       "_model_module_version": "2.0.0",
       "_model_name": "LayoutModel",
       "_view_count": null,
       "_view_module": "@jupyter-widgets/base",
       "_view_module_version": "2.0.0",
       "_view_name": "LayoutView",
       "align_content": null,
       "align_items": null,
       "align_self": null,
       "border_bottom": null,
       "border_left": null,
       "border_right": null,
       "border_top": null,
       "bottom": null,
       "display": null,
       "flex": null,
       "flex_flow": null,
       "grid_area": null,
       "grid_auto_columns": null,
       "grid_auto_flow": null,
       "grid_auto_rows": null,
       "grid_column": null,
       "grid_gap": null,
       "grid_row": null,
       "grid_template_areas": null,
       "grid_template_columns": null,
       "grid_template_rows": null,
       "height": null,
       "justify_content": null,
       "justify_items": null,
       "left": null,
       "margin": null,
       "max_height": null,
       "max_width": null,
       "min_height": null,
       "min_width": null,
       "object_fit": null,
       "object_position": null,
       "order": null,
       "overflow": null,
       "padding": null,
       "right": null,
       "top": null,
       "visibility": null,
       "width": null
      }
     },
     "dbd847e43b1b43cea290e3b92ced459f": {
      "model_module": "@jupyter-widgets/controls",
      "model_module_version": "2.0.0",
      "model_name": "HTMLStyleModel",
      "state": {
       "_model_module": "@jupyter-widgets/controls",
       "_model_module_version": "2.0.0",
       "_model_name": "HTMLStyleModel",
       "_view_count": null,
       "_view_module": "@jupyter-widgets/base",
       "_view_module_version": "2.0.0",
       "_view_name": "StyleView",
       "background": null,
       "description_width": "",
       "font_size": null,
       "text_color": null
      }
     },
     "e1818d5450f247c09536293a95612809": {
      "model_module": "@jupyter-widgets/base",
      "model_module_version": "2.0.0",
      "model_name": "LayoutModel",
      "state": {
       "_model_module": "@jupyter-widgets/base",
       "_model_module_version": "2.0.0",
       "_model_name": "LayoutModel",
       "_view_count": null,
       "_view_module": "@jupyter-widgets/base",
       "_view_module_version": "2.0.0",
       "_view_name": "LayoutView",
       "align_content": null,
       "align_items": null,
       "align_self": null,
       "border_bottom": null,
       "border_left": null,
       "border_right": null,
       "border_top": null,
       "bottom": null,
       "display": null,
       "flex": null,
       "flex_flow": null,
       "grid_area": null,
       "grid_auto_columns": null,
       "grid_auto_flow": null,
       "grid_auto_rows": null,
       "grid_column": null,
       "grid_gap": null,
       "grid_row": null,
       "grid_template_areas": null,
       "grid_template_columns": null,
       "grid_template_rows": null,
       "height": null,
       "justify_content": null,
       "justify_items": null,
       "left": null,
       "margin": null,
       "max_height": null,
       "max_width": null,
       "min_height": null,
       "min_width": null,
       "object_fit": null,
       "object_position": null,
       "order": null,
       "overflow": null,
       "padding": null,
       "right": null,
       "top": null,
       "visibility": null,
       "width": null
      }
     },
     "eafeadd42a12490f87f4b69f50ac156b": {
      "model_module": "@jupyter-widgets/controls",
      "model_module_version": "2.0.0",
      "model_name": "HTMLStyleModel",
      "state": {
       "_model_module": "@jupyter-widgets/controls",
       "_model_module_version": "2.0.0",
       "_model_name": "HTMLStyleModel",
       "_view_count": null,
       "_view_module": "@jupyter-widgets/base",
       "_view_module_version": "2.0.0",
       "_view_name": "StyleView",
       "background": null,
       "description_width": "",
       "font_size": null,
       "text_color": null
      }
     },
     "edae35adf46541c5bd7f82b1ace57ccb": {
      "model_module": "@jupyter-widgets/controls",
      "model_module_version": "2.0.0",
      "model_name": "HBoxModel",
      "state": {
       "_dom_classes": [],
       "_model_module": "@jupyter-widgets/controls",
       "_model_module_version": "2.0.0",
       "_model_name": "HBoxModel",
       "_view_count": null,
       "_view_module": "@jupyter-widgets/controls",
       "_view_module_version": "2.0.0",
       "_view_name": "HBoxView",
       "box_style": "",
       "children": [
        "IPY_MODEL_10d7a7eb2dc64b51adc4515c564a558b",
        "IPY_MODEL_3702105166c240ae8f4a0d0481d406c1",
        "IPY_MODEL_cb5b861c6394492eabe309ebf526cecf"
       ],
       "layout": "IPY_MODEL_7c8b430cc6274fdcacd83427e617eb62",
       "tabbable": null,
       "tooltip": null
      }
     },
     "ef549547e1d248a8af2a8d63651cb4d8": {
      "model_module": "@jupyter-widgets/controls",
      "model_module_version": "2.0.0",
      "model_name": "HBoxModel",
      "state": {
       "_dom_classes": [],
       "_model_module": "@jupyter-widgets/controls",
       "_model_module_version": "2.0.0",
       "_model_name": "HBoxModel",
       "_view_count": null,
       "_view_module": "@jupyter-widgets/controls",
       "_view_module_version": "2.0.0",
       "_view_name": "HBoxView",
       "box_style": "",
       "children": [
        "IPY_MODEL_66ad350435c34cbfbb0ef1a2901066fa",
        "IPY_MODEL_0c7c280aeec84cb3858dae8f25dd9f1a",
        "IPY_MODEL_4155c288f56747a9be262a99c6d6c028"
       ],
       "layout": "IPY_MODEL_fc7c16e77c974035ae087335e91e3f86",
       "tabbable": null,
       "tooltip": null
      }
     },
     "fa4a776e068b47cc9ab04e20d78bf4d8": {
      "model_module": "@jupyter-widgets/base",
      "model_module_version": "2.0.0",
      "model_name": "LayoutModel",
      "state": {
       "_model_module": "@jupyter-widgets/base",
       "_model_module_version": "2.0.0",
       "_model_name": "LayoutModel",
       "_view_count": null,
       "_view_module": "@jupyter-widgets/base",
       "_view_module_version": "2.0.0",
       "_view_name": "LayoutView",
       "align_content": null,
       "align_items": null,
       "align_self": null,
       "border_bottom": null,
       "border_left": null,
       "border_right": null,
       "border_top": null,
       "bottom": null,
       "display": null,
       "flex": null,
       "flex_flow": null,
       "grid_area": null,
       "grid_auto_columns": null,
       "grid_auto_flow": null,
       "grid_auto_rows": null,
       "grid_column": null,
       "grid_gap": null,
       "grid_row": null,
       "grid_template_areas": null,
       "grid_template_columns": null,
       "grid_template_rows": null,
       "height": null,
       "justify_content": null,
       "justify_items": null,
       "left": null,
       "margin": null,
       "max_height": null,
       "max_width": null,
       "min_height": null,
       "min_width": null,
       "object_fit": null,
       "object_position": null,
       "order": null,
       "overflow": null,
       "padding": null,
       "right": null,
       "top": null,
       "visibility": null,
       "width": null
      }
     },
     "fc7c16e77c974035ae087335e91e3f86": {
      "model_module": "@jupyter-widgets/base",
      "model_module_version": "2.0.0",
      "model_name": "LayoutModel",
      "state": {
       "_model_module": "@jupyter-widgets/base",
       "_model_module_version": "2.0.0",
       "_model_name": "LayoutModel",
       "_view_count": null,
       "_view_module": "@jupyter-widgets/base",
       "_view_module_version": "2.0.0",
       "_view_name": "LayoutView",
       "align_content": null,
       "align_items": null,
       "align_self": null,
       "border_bottom": null,
       "border_left": null,
       "border_right": null,
       "border_top": null,
       "bottom": null,
       "display": null,
       "flex": null,
       "flex_flow": null,
       "grid_area": null,
       "grid_auto_columns": null,
       "grid_auto_flow": null,
       "grid_auto_rows": null,
       "grid_column": null,
       "grid_gap": null,
       "grid_row": null,
       "grid_template_areas": null,
       "grid_template_columns": null,
       "grid_template_rows": null,
       "height": null,
       "justify_content": null,
       "justify_items": null,
       "left": null,
       "margin": null,
       "max_height": null,
       "max_width": null,
       "min_height": null,
       "min_width": null,
       "object_fit": null,
       "object_position": null,
       "order": null,
       "overflow": null,
       "padding": null,
       "right": null,
       "top": null,
       "visibility": null,
       "width": null
      }
     }
    },
    "version_major": 2,
    "version_minor": 0
   }
  }
 },
 "nbformat": 4,
 "nbformat_minor": 5
}
